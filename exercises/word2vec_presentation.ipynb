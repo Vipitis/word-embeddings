{
 "cells": [
  {
   "cell_type": "code",
   "execution_count": 26,
   "id": "487f30e2",
   "metadata": {},
   "outputs": [],
   "source": [
    "import functions as f\n",
    "import pandas as pd\n",
    "import numpy as np\n",
    "import nltk\n",
    "import warnings\n",
    "warnings.filterwarnings('ignore')"
   ]
  },
  {
   "cell_type": "markdown",
   "id": "fa81c5a9",
   "metadata": {},
   "source": [
    "Before we start with an exploration of the word embeddings, let's repeat what data is used to train our models in order to get these embeddings."
   ]
  },
  {
   "cell_type": "markdown",
   "id": "defed603",
   "metadata": {},
   "source": [
    "## 1. Generation of Training Data"
   ]
  },
  {
   "cell_type": "code",
   "execution_count": 27,
   "id": "7782fa47",
   "metadata": {},
   "outputs": [],
   "source": [
    "#from what text do you want to generate the training data?\n",
    "input_text = \"Hello and welcome everyone to our presentation Word2Vec. We hope you learn something interesting\"\n",
    "\n",
    "#choose between Skip-gram and CBOW\n",
    "architecture = \"Skip-gram\"\n",
    "\n",
    "#specify the window_size\n",
    "context_size = 3"
   ]
  },
  {
   "cell_type": "code",
   "execution_count": 3,
   "id": "a654b0b6",
   "metadata": {},
   "outputs": [
    {
     "name": "stdout",
     "output_type": "stream",
     "text": [
      "\u001b[30m\u001b[0m \u001b[31mhello and welcome\u001b[0m \u001b[32meveryone\u001b[0m \u001b[31mto our presentation\u001b[0m \u001b[30mword2vec we hope you learn something interesting\u001b[0m \n",
      "\n",
      "Input     Output\n",
      "--------  ------------\n",
      "everyone  hello\n",
      "everyone  and\n",
      "everyone  welcome\n",
      "everyone  to\n",
      "everyone  our\n",
      "everyone  presentation \n",
      "\n",
      "\u001b[30mhello\u001b[0m \u001b[31mand welcome everyone\u001b[0m \u001b[32mto\u001b[0m \u001b[31mour presentation word2vec\u001b[0m \u001b[30mwe hope you learn something interesting\u001b[0m \n",
      "\n",
      "Input    Output\n",
      "-------  ------------\n",
      "to       and\n",
      "to       welcome\n",
      "to       everyone\n",
      "to       our\n",
      "to       presentation\n",
      "to       word2vec \n",
      "\n",
      "\u001b[30mhello and\u001b[0m \u001b[31mwelcome everyone to\u001b[0m \u001b[32mour\u001b[0m \u001b[31mpresentation word2vec we\u001b[0m \u001b[30mhope you learn something interesting\u001b[0m \n",
      "\n",
      "Input    Output\n",
      "-------  ------------\n",
      "our      welcome\n",
      "our      everyone\n",
      "our      to\n",
      "our      presentation\n",
      "our      word2vec\n",
      "our      we \n",
      "\n",
      "\u001b[30mhello and welcome\u001b[0m \u001b[31meveryone to our\u001b[0m \u001b[32mpresentation\u001b[0m \u001b[31mword2vec we hope\u001b[0m \u001b[30myou learn something interesting\u001b[0m \n",
      "\n",
      "Input         Output\n",
      "------------  --------\n",
      "presentation  everyone\n",
      "presentation  to\n",
      "presentation  our\n",
      "presentation  word2vec\n",
      "presentation  we\n",
      "presentation  hope \n",
      "\n",
      "\u001b[30mhello and welcome everyone\u001b[0m \u001b[31mto our presentation\u001b[0m \u001b[32mword2vec\u001b[0m \u001b[31mwe hope you\u001b[0m \u001b[30mlearn something interesting\u001b[0m \n",
      "\n",
      "Input     Output\n",
      "--------  ------------\n",
      "word2vec  to\n",
      "word2vec  our\n",
      "word2vec  presentation\n",
      "word2vec  we\n",
      "word2vec  hope\n",
      "word2vec  you \n",
      "\n",
      "\u001b[30mhello and welcome everyone to\u001b[0m \u001b[31mour presentation word2vec\u001b[0m \u001b[32mwe\u001b[0m \u001b[31mhope you learn\u001b[0m \u001b[30msomething interesting\u001b[0m \n",
      "\n",
      "Input    Output\n",
      "-------  ------------\n",
      "we       our\n",
      "we       presentation\n",
      "we       word2vec\n",
      "we       hope\n",
      "we       you\n",
      "we       learn \n",
      "\n",
      "\u001b[30mhello and welcome everyone to our\u001b[0m \u001b[31mpresentation word2vec we\u001b[0m \u001b[32mhope\u001b[0m \u001b[31myou learn something\u001b[0m \u001b[30minteresting\u001b[0m \n",
      "\n",
      "Input    Output\n",
      "-------  ------------\n",
      "hope     presentation\n",
      "hope     word2vec\n",
      "hope     we\n",
      "hope     you\n",
      "hope     learn\n",
      "hope     something \n",
      "\n",
      "\u001b[30mhello and welcome everyone to our presentation\u001b[0m \u001b[31mword2vec we hope\u001b[0m \u001b[32myou\u001b[0m \u001b[31mlearn something interesting\u001b[0m \u001b[30m\u001b[0m \n",
      "\n",
      "Input    Output\n",
      "-------  -----------\n",
      "you      word2vec\n",
      "you      we\n",
      "you      hope\n",
      "you      learn\n",
      "you      something\n",
      "you      interesting \n",
      "\n"
     ]
    }
   ],
   "source": [
    "#Let's have a look on how the training data for the Skip-gram architecture would be generated \n",
    "#for the specified input text and context size\n",
    "training_data_skipGram = f.illustrate_generation_of_data(input_text, architecture = architecture, \n",
    "                                                         window_size = context_size)"
   ]
  },
  {
   "cell_type": "code",
   "execution_count": 4,
   "id": "b40862e2",
   "metadata": {},
   "outputs": [
    {
     "name": "stdout",
     "output_type": "stream",
     "text": [
      "Input         Output\n",
      "------------  ------------\n",
      "everyone      hello\n",
      "everyone      and\n",
      "everyone      welcome\n",
      "everyone      to\n",
      "everyone      our\n",
      "everyone      presentation\n",
      "to            and\n",
      "to            welcome\n",
      "to            everyone\n",
      "to            our\n",
      "to            presentation\n",
      "to            word2vec\n",
      "our           welcome\n",
      "our           everyone\n",
      "our           to\n",
      "our           presentation\n",
      "our           word2vec\n",
      "our           we\n",
      "presentation  everyone\n",
      "presentation  to\n",
      "presentation  our\n",
      "presentation  word2vec\n",
      "presentation  we\n",
      "presentation  hope\n",
      "word2vec      to\n",
      "word2vec      our\n",
      "word2vec      presentation\n",
      "word2vec      we\n",
      "word2vec      hope\n",
      "word2vec      you\n",
      "we            our\n",
      "we            presentation\n",
      "we            word2vec\n",
      "we            hope\n",
      "we            you\n",
      "we            learn\n",
      "hope          presentation\n",
      "hope          word2vec\n",
      "hope          we\n",
      "hope          you\n",
      "hope          learn\n",
      "hope          something\n",
      "you           word2vec\n",
      "you           we\n",
      "you           hope\n",
      "you           learn\n",
      "you           something\n",
      "you           interesting\n"
     ]
    }
   ],
   "source": [
    "#let's have a look the whole training data set for Skip-gram\n",
    "f.show_table_of_training_data(training_data_skipGram)"
   ]
  },
  {
   "cell_type": "markdown",
   "id": "8a2cd779",
   "metadata": {},
   "source": [
    "How does the generation of training data look like for the CBOW architecture?"
   ]
  },
  {
   "cell_type": "code",
   "execution_count": 5,
   "id": "739aae92",
   "metadata": {},
   "outputs": [
    {
     "name": "stdout",
     "output_type": "stream",
     "text": [
      "\u001b[30m\u001b[0m \u001b[31mhello and welcome\u001b[0m \u001b[32meveryone\u001b[0m \u001b[31mto our presentation\u001b[0m \u001b[30mword2vec we hope you learn something interesting\u001b[0m \n",
      "\n",
      "Input                                                     Output\n",
      "--------------------------------------------------------  --------\n",
      "['hello', 'and', 'welcome', 'to', 'our', 'presentation']  everyone \n",
      "\n",
      "\u001b[30mhello\u001b[0m \u001b[31mand welcome everyone\u001b[0m \u001b[32mto\u001b[0m \u001b[31mour presentation word2vec\u001b[0m \u001b[30mwe hope you learn something interesting\u001b[0m \n",
      "\n",
      "Input                                                              Output\n",
      "-----------------------------------------------------------------  --------\n",
      "['and', 'welcome', 'everyone', 'our', 'presentation', 'word2vec']  to \n",
      "\n",
      "\u001b[30mhello and\u001b[0m \u001b[31mwelcome everyone to\u001b[0m \u001b[32mour\u001b[0m \u001b[31mpresentation word2vec we\u001b[0m \u001b[30mhope you learn something interesting\u001b[0m \n",
      "\n",
      "Input                                                            Output\n",
      "---------------------------------------------------------------  --------\n",
      "['welcome', 'everyone', 'to', 'presentation', 'word2vec', 'we']  our \n",
      "\n",
      "\u001b[30mhello and welcome\u001b[0m \u001b[31meveryone to our\u001b[0m \u001b[32mpresentation\u001b[0m \u001b[31mword2vec we hope\u001b[0m \u001b[30myou learn something interesting\u001b[0m \n",
      "\n",
      "Input                                                Output\n",
      "---------------------------------------------------  ------------\n",
      "['everyone', 'to', 'our', 'word2vec', 'we', 'hope']  presentation \n",
      "\n",
      "\u001b[30mhello and welcome everyone\u001b[0m \u001b[31mto our presentation\u001b[0m \u001b[32mword2vec\u001b[0m \u001b[31mwe hope you\u001b[0m \u001b[30mlearn something interesting\u001b[0m \n",
      "\n",
      "Input                                               Output\n",
      "--------------------------------------------------  --------\n",
      "['to', 'our', 'presentation', 'we', 'hope', 'you']  word2vec \n",
      "\n",
      "\u001b[30mhello and welcome everyone to\u001b[0m \u001b[31mour presentation word2vec\u001b[0m \u001b[32mwe\u001b[0m \u001b[31mhope you learn\u001b[0m \u001b[30msomething interesting\u001b[0m \n",
      "\n",
      "Input                                                        Output\n",
      "-----------------------------------------------------------  --------\n",
      "['our', 'presentation', 'word2vec', 'hope', 'you', 'learn']  we \n",
      "\n",
      "\u001b[30mhello and welcome everyone to our\u001b[0m \u001b[31mpresentation word2vec we\u001b[0m \u001b[32mhope\u001b[0m \u001b[31myou learn something\u001b[0m \u001b[30minteresting\u001b[0m \n",
      "\n",
      "Input                                                            Output\n",
      "---------------------------------------------------------------  --------\n",
      "['presentation', 'word2vec', 'we', 'you', 'learn', 'something']  hope \n",
      "\n",
      "\u001b[30mhello and welcome everyone to our presentation\u001b[0m \u001b[31mword2vec we hope\u001b[0m \u001b[32myou\u001b[0m \u001b[31mlearn something interesting\u001b[0m \u001b[30m\u001b[0m \n",
      "\n",
      "Input                                                            Output\n",
      "---------------------------------------------------------------  --------\n",
      "['word2vec', 'we', 'hope', 'learn', 'something', 'interesting']  you \n",
      "\n"
     ]
    }
   ],
   "source": [
    "#Let's have a look on how the training data for the CBOW architecture would be generated \n",
    "#for the specified input text and context size\n",
    "training_data_CBOW = f.illustrate_generation_of_data(input_text, architecture = \"CBOW\", window_size = context_size)"
   ]
  },
  {
   "cell_type": "code",
   "execution_count": 6,
   "id": "0836c0f9",
   "metadata": {},
   "outputs": [
    {
     "name": "stdout",
     "output_type": "stream",
     "text": [
      "Input                                                              Output\n",
      "-----------------------------------------------------------------  ------------\n",
      "['hello', 'and', 'welcome', 'to', 'our', 'presentation']           everyone\n",
      "['and', 'welcome', 'everyone', 'our', 'presentation', 'word2vec']  to\n",
      "['welcome', 'everyone', 'to', 'presentation', 'word2vec', 'we']    our\n",
      "['everyone', 'to', 'our', 'word2vec', 'we', 'hope']                presentation\n",
      "['to', 'our', 'presentation', 'we', 'hope', 'you']                 word2vec\n",
      "['our', 'presentation', 'word2vec', 'hope', 'you', 'learn']        we\n",
      "['presentation', 'word2vec', 'we', 'you', 'learn', 'something']    hope\n",
      "['word2vec', 'we', 'hope', 'learn', 'something', 'interesting']    you\n"
     ]
    }
   ],
   "source": [
    "#let's have a look the whole training data set for CBOW\n",
    "f.show_table_of_training_data(training_data_CBOW)"
   ]
  },
  {
   "cell_type": "markdown",
   "id": "9643cb2d",
   "metadata": {},
   "source": [
    "## 2. Closer look at the word vectors produced by Skip-gram and CBOW "
   ]
  },
  {
   "cell_type": "code",
   "execution_count": 7,
   "id": "9c9ec59d",
   "metadata": {},
   "outputs": [],
   "source": [
    "#import\n",
    "from gensim.models import KeyedVectors\n",
    "import gensim.downloader as api"
   ]
  },
  {
   "cell_type": "markdown",
   "id": "335bb2b6",
   "metadata": {},
   "source": [
    "#### We use the module gensim.models.word2vec which implements the algorithms of Skip-gram and CBOW using either hierarchical softmax or negative sampling"
   ]
  },
  {
   "cell_type": "markdown",
   "id": "4e5dacd0",
   "metadata": {},
   "source": [
    "#### Get the vectors by loading pretrained ones or by training a model ourselfes"
   ]
  },
  {
   "cell_type": "markdown",
   "id": "0cfd038e",
   "metadata": {},
   "source": [
    "Here we used word vectors generated on the entire Google News dataset, of about 100 billion words with 300 dimensions."
   ]
  },
  {
   "cell_type": "code",
   "execution_count": 8,
   "id": "db348dbe",
   "metadata": {},
   "outputs": [],
   "source": [
    "#loading vectors\n",
    "wv = api.load('word2vec-google-news-300')"
   ]
  },
  {
   "cell_type": "markdown",
   "id": "4899947d",
   "metadata": {},
   "source": [
    "### 2.1 First glance at the word vectors"
   ]
  },
  {
   "cell_type": "code",
   "execution_count": 9,
   "id": "8e0d25a1",
   "metadata": {},
   "outputs": [
    {
     "name": "stdout",
     "output_type": "stream",
     "text": [
      "Vector for the word summer : \n",
      "\n",
      " [ 0.06835938  0.31445312 -0.1953125   0.0378418  -0.08398438 -0.02148438\n",
      "  0.09814453 -0.18359375 -0.00268555  0.17773438  0.02832031 -0.02709961\n",
      "  0.05712891 -0.03808594 -0.03637695 -0.0378418  -0.12695312 -0.05175781\n",
      "  0.03112793 -0.08251953 -0.05419922  0.32617188 -0.08007812 -0.11035156\n",
      " -0.25195312  0.03955078  0.3984375   0.10546875 -0.03735352  0.27148438\n",
      "  0.08251953  0.09521484  0.07128906  0.17871094 -0.01855469 -0.17382812\n",
      " -0.24511719 -0.42578125 -0.06787109 -0.04150391  0.03100586 -0.19140625\n",
      "  0.16894531 -0.03295898 -0.15429688 -0.06982422  0.04980469  0.16894531\n",
      "  0.07128906  0.18847656  0.15039062 -0.18261719 -0.18359375 -0.02087402\n",
      "  0.11083984  0.01794434  0.03540039 -0.10498047 -0.06225586 -0.12255859\n",
      " -0.11523438  0.03759766 -0.05664062  0.0123291  -0.01806641  0.03979492\n",
      " -0.09082031 -0.06787109  0.02490234 -0.04907227  0.21875    -0.02722168\n",
      "  0.00518799  0.22949219  0.01782227  0.08300781 -0.02416992  0.05981445\n",
      "  0.03100586  0.08105469  0.05615234 -0.08935547 -0.15625    -0.11572266\n",
      "  0.0213623   0.21386719 -0.23828125  0.04663086  0.11669922  0.06689453\n",
      "  0.13183594  0.07421875 -0.24707031 -0.2578125  -0.1328125  -0.10253906\n",
      "  0.08496094  0.02087402  0.15722656 -0.16699219  0.02502441 -0.06738281\n",
      " -0.14160156  0.15429688 -0.14550781 -0.24511719 -0.01080322  0.09472656\n",
      " -0.24707031 -0.140625   -0.0612793   0.17382812  0.24121094  0.01074219\n",
      "  0.40234375 -0.07666016  0.296875    0.14550781  0.0546875   0.01782227\n",
      " -0.06347656 -0.16308594  0.06445312 -0.0168457   0.265625    0.0402832\n",
      " -0.1171875   0.06298828 -0.12890625  0.02087402 -0.16015625 -0.10986328\n",
      " -0.00175476 -0.15917969 -0.20605469 -0.17089844  0.10546875  0.08544922\n",
      " -0.03417969  0.10693359  0.05541992 -0.07714844  0.0703125  -0.01470947\n",
      "  0.12988281  0.16796875  0.03344727  0.07080078 -0.0559082  -0.1953125\n",
      "  0.1328125   0.16308594 -0.006073    0.07910156  0.16601562 -0.22167969\n",
      "  0.12988281 -0.30859375  0.05957031  0.20800781  0.20410156  0.0100708\n",
      "  0.02087402  0.04223633  0.26367188  0.06982422  0.03271484 -0.09277344\n",
      "  0.06835938 -0.17285156  0.00396729 -0.02380371 -0.03491211 -0.20410156\n",
      " -0.08203125 -0.03149414  0.03686523 -0.04516602 -0.12402344  0.12890625\n",
      " -0.25976562 -0.03564453  0.01409912  0.125       0.15820312 -0.0390625\n",
      " -0.04980469 -0.10595703  0.27539062  0.05712891  0.10009766  0.12109375\n",
      "  0.1484375   0.1328125  -0.22558594  0.07666016  0.12158203  0.09130859\n",
      " -0.17871094  0.08154297  0.22949219 -0.02966309 -0.03100586 -0.02648926\n",
      "  0.09130859 -0.28710938 -0.07958984  0.02758789 -0.10107422  0.25585938\n",
      "  0.12890625 -0.11767578 -0.10205078  0.13574219 -0.21875    -0.06640625\n",
      "  0.16503906 -0.08984375 -0.15722656  0.05615234 -0.07714844 -0.05737305\n",
      "  0.171875    0.11230469 -0.03808594 -0.05200195  0.05322266 -0.00891113\n",
      " -0.14355469 -0.19628906  0.00473022  0.09667969 -0.06445312  0.02404785\n",
      " -0.00088882 -0.03344727 -0.01397705 -0.07324219 -0.09521484 -0.02563477\n",
      " -0.13085938  0.08300781  0.02722168 -0.27148438 -0.18554688 -0.06640625\n",
      "  0.09521484 -0.08837891 -0.0859375   0.06787109 -0.10205078 -0.07128906\n",
      "  0.00360107  0.12109375  0.25195312  0.25        0.13769531  0.13378906\n",
      " -0.21582031  0.07226562  0.08056641 -0.09277344 -0.07470703  0.03857422\n",
      "  0.11523438 -0.01708984 -0.20117188  0.13085938  0.15722656 -0.02355957\n",
      "  0.15429688  0.27148438  0.11035156  0.04125977 -0.06054688 -0.18652344\n",
      "  0.04589844 -0.13476562 -0.03930664 -0.18652344  0.05297852  0.14453125\n",
      "  0.02783203  0.16308594  0.078125   -0.10302734 -0.08837891  0.11865234\n",
      "  0.07910156  0.04223633 -0.14550781  0.03222656 -0.08496094 -0.01171875\n",
      "  0.03662109 -0.13183594 -0.15429688  0.11816406  0.2578125  -0.04736328] \n",
      "\n",
      "dimensions: 300\n"
     ]
    }
   ],
   "source": [
    "#let's specify a word and have a look at its word vector\n",
    "word = 'summer'\n",
    "vector_of_word = wv[word]\n",
    "print('Vector for the word', word, ': \\n\\n', vector_of_word, '\\n')\n",
    "print('dimensions:', len(vector_of_word))"
   ]
  },
  {
   "cell_type": "markdown",
   "id": "3f8f20b0",
   "metadata": {},
   "source": [
    "#### There is not much to see yet, so let's check if these vectors are kind of meaningful"
   ]
  },
  {
   "cell_type": "markdown",
   "id": "1c1ab046",
   "metadata": {},
   "source": [
    "#### 2.1.1 Visualization of vectors by colors"
   ]
  },
  {
   "cell_type": "markdown",
   "id": "b85ded65",
   "metadata": {},
   "source": [
    "Since it is hard to compare vectors by seeing just some numbers, let's look at the representation of these numbers by a heatmap:"
   ]
  },
  {
   "cell_type": "code",
   "execution_count": 10,
   "id": "c8c8c689",
   "metadata": {},
   "outputs": [
    {
     "name": "stdout",
     "output_type": "stream",
     "text": [
      "first dimension of word vector = 0.068359375\n",
      "second dimension of word vector = 0.314453125\n"
     ]
    },
    {
     "data": {
      "image/png": "[encoded data removed]",
      "text/plain": [
       "<Figure size 1440x72 with 2 Axes>"
      ]
     },
     "metadata": {
      "needs_background": "light"
     },
     "output_type": "display_data"
    }
   ],
   "source": [
    "#define word\n",
    "words = ['summer']\n",
    "#get word vector\n",
    "vector_of_word = wv[word]\n",
    "#print value of first dimension of word vector\n",
    "print('first dimension of word vector = {}'.format(vector_of_word[0]))\n",
    "print('second dimension of word vector = {}'.format(vector_of_word[1]))\n",
    "#visualize dimensions by colors\n",
    "f.visualize_vectors_by_colors(words, wv, dim=50, figsize=(20,1))"
   ]
  },
  {
   "cell_type": "code",
   "execution_count": 11,
   "id": "197058a5",
   "metadata": {},
   "outputs": [
    {
     "data": {
      "image/png": "[encoded data removed]",
      "text/plain": [
       "<Figure size 1440x72 with 2 Axes>"
      ]
     },
     "metadata": {
      "needs_background": "light"
     },
     "output_type": "display_data"
    },
    {
     "name": "stdout",
     "output_type": "stream",
     "text": [
      "Cosine similarity between these words is 0.80529493\n"
     ]
    }
   ],
   "source": [
    "#let's try out some words where we expect similar word vectors\n",
    "words = ['drink', 'drinks']\n",
    "#here we expect more similar vectors, the cosine similarity would be close to 1\n",
    "f.visualize_vectors_by_colors(words, wv, dim=50, figsize=(20,1))\n",
    "print('Cosine similarity between these words is', wv.similarity('drink', 'drinks'))"
   ]
  },
  {
   "cell_type": "code",
   "execution_count": 12,
   "id": "506681ee",
   "metadata": {},
   "outputs": [
    {
     "data": {
      "image/png": "[encoded data removed]",
      "text/plain": [
       "<Figure size 1440x72 with 2 Axes>"
      ]
     },
     "metadata": {
      "needs_background": "light"
     },
     "output_type": "display_data"
    },
    {
     "name": "stdout",
     "output_type": "stream",
     "text": [
      "Cosine similarity between these words is 0\n"
     ]
    }
   ],
   "source": [
    "#How would look word vectors with that would be the most unsimilar?\n",
    "words = ['drink']\n",
    "#here we expect very unsimilar vectors, the cosine similarity would be 0\n",
    "f.visualize_vectors_and_negative_by_color(words, wv, dim=50, figsize=(20,1))\n",
    "print('Cosine similarity between these words is 0')"
   ]
  },
  {
   "cell_type": "code",
   "execution_count": 13,
   "id": "8878c2b3",
   "metadata": {},
   "outputs": [
    {
     "data": {
      "image/png": "[encoded data removed]",
      "text/plain": [
       "<Figure size 1440x360 with 2 Axes>"
      ]
     },
     "metadata": {
      "needs_background": "light"
     },
     "output_type": "display_data"
    }
   ],
   "source": [
    "#now let's see if we can find some sense in the dimensions of our word vectors by plotting\n",
    "#different groups of words, here persons, objects and animals\n",
    "\n",
    "words_to_compare = ['uncle', 'mother','grandmother','father', \n",
    "                    'stone', 'table', 'chair', 'paper',\n",
    "                    'dog', 'cat', 'sheep', 'cow']\n",
    "\n",
    "f.visualize_vectors_by_colors(words_to_compare, wv, dim=50)"
   ]
  },
  {
   "cell_type": "markdown",
   "id": "91280375",
   "metadata": {},
   "source": [
    "#### 2.1.2 Find the word with the most similar vector"
   ]
  },
  {
   "cell_type": "code",
   "execution_count": 14,
   "id": "518036b1",
   "metadata": {},
   "outputs": [
    {
     "name": "stdout",
     "output_type": "stream",
     "text": [
      "Words most similar to bank :\n"
     ]
    },
    {
     "data": {
      "text/plain": [
       "[('banks', 0.7440759539604187),\n",
       " ('banking', 0.690161406993866),\n",
       " ('Bank', 0.6698698401451111),\n",
       " ('lender', 0.6342284679412842),\n",
       " ('banker', 0.6092953085899353),\n",
       " ('depositors', 0.6031531691551208),\n",
       " ('mortgage_lender', 0.5797975659370422),\n",
       " ('depositor', 0.5716428160667419),\n",
       " ('BofA', 0.5714625120162964),\n",
       " ('Citibank', 0.5589520931243896)]"
      ]
     },
     "execution_count": 14,
     "metadata": {},
     "output_type": "execute_result"
    }
   ],
   "source": [
    "#here the word with the most similar vector to a vector of a specified word will be returned \n",
    "#based on their cosine similarity\n",
    "#the cosine similarity ranges from 0 (not similar at all) to 1 (identical)\n",
    "word = 'bank'\n",
    "print('Words most similar to', word, ':')\n",
    "wv.most_similar(word, topn=10) #and let's try out different words "
   ]
  },
  {
   "cell_type": "markdown",
   "id": "8ce93d34",
   "metadata": {},
   "source": [
    "##### So the word vectors seem to include some semantics"
   ]
  },
  {
   "cell_type": "markdown",
   "id": "020db5e0",
   "metadata": {},
   "source": [
    "### 2.2 Advanced visualization of word embeddings"
   ]
  },
  {
   "cell_type": "markdown",
   "id": "ab4fd4f5",
   "metadata": {},
   "source": [
    "#### 2.2.1 Plot of word vectors in 2d space using t-SNE"
   ]
  },
  {
   "cell_type": "markdown",
   "id": "06331b41",
   "metadata": {},
   "source": [
    "Another exciting operation we can do with embeddings is visualization, plotting them in a 2D dimensional space can \n",
    "show us how words are related. Most similar words should be plotted in groups while non related words will appear \n",
    "in a large distance. This requires a further dimension reduction technique to get the dimensions to 2 or 3. \n",
    "The most popular technique for reduction is itself an embedding method: t-Distributed Stochastic Neighbor Embedding (TSNE).\n",
    "\n",
    "t-SNE stands for t-distributed stochastic neighbor embedding. It is a technique for dimensionality reduction that is \n",
    "best suited for the visualization of high dimensional data-set.\n",
    "\n",
    "TSNE is a manifold learning technique which means that it tries to map high-dimensional data to a lower-dimensional \n",
    "manifold, creating an embedding that attempts to maintain local structure within the data. It's almost exclusively \n",
    "used for visualization because the output is stochastic and it does not support transforming new data."
   ]
  },
  {
   "cell_type": "code",
   "execution_count": 15,
   "id": "6392af74",
   "metadata": {},
   "outputs": [
    {
     "data": {
      "image/png": "[encoded data removed]",
      "text/plain": [
       "<Figure size 1440x720 with 1 Axes>"
      ]
     },
     "metadata": {
      "needs_background": "light"
     },
     "output_type": "display_data"
    }
   ],
   "source": [
    "#define words of which we want to plot similar ones\n",
    "similar_words_to_plot = ['university', 'good', 'brother']\n",
    "#plot the defined words together with the similar ones in 2d using the t-SNE method\n",
    "f.plot_tsne_of_words_similar_to_words_of_given_list(similar_words_to_plot, 20, wv)"
   ]
  },
  {
   "cell_type": "markdown",
   "id": "6fbeca7d",
   "metadata": {},
   "source": [
    "#### 2.2.2 Plot of words in 2d space using PCA to see some relations"
   ]
  },
  {
   "cell_type": "code",
   "execution_count": 20,
   "id": "e40f8db0",
   "metadata": {},
   "outputs": [
    {
     "data": {
      "image/png": "[encoded data removed]",
      "text/plain": [
       "<Figure size 432x288 with 1 Axes>"
      ]
     },
     "metadata": {
      "needs_background": "light"
     },
     "output_type": "display_data"
    }
   ],
   "source": [
    "#Let's try to visualize some relations in 2d using PCA\n",
    "words_1 = ['grandfather', 'grandmother', 'father', 'mother', 'son', 'daughter']\n",
    "words_2 = ['small', 'smaller', 'big', 'bigger', 'large', 'larger', 'tiny', 'tinier']\n",
    "words_3 = ['germany', 'berlin', 'france', 'paris', 'italy', 'rome']\n",
    "f.plot_2d_pca(words_1, wv)"
   ]
  },
  {
   "cell_type": "markdown",
   "id": "222dbc54",
   "metadata": {},
   "source": [
    "### 2.3 Arithmetics with word vectors"
   ]
  },
  {
   "cell_type": "code",
   "execution_count": 17,
   "id": "f192397a",
   "metadata": {},
   "outputs": [
    {
     "name": "stdout",
     "output_type": "stream",
     "text": [
      "King - Man + Woman =  ('queen', 0.7118193507194519)\n"
     ]
    }
   ],
   "source": [
    "#to add n word vectors we use the syntax positive=[word1, word2,.., wordn], \n",
    "#to substract k words we use negative=[word1, word2,...wordk]\n",
    "#we can combine addition and substraction\n",
    "#after that we can look for the word with the most similar word vector to our result with the method most_similar\n",
    "\n",
    "# king - man + woman\n",
    "word_most_similar = wv.most_similar(positive=['woman', 'king'], negative=['man'], topn=1)\n",
    "print('King - Man + Woman = ',*word_most_similar)"
   ]
  },
  {
   "cell_type": "code",
   "execution_count": 25,
   "id": "46497392",
   "metadata": {},
   "outputs": [
    {
     "name": "stdout",
     "output_type": "stream",
     "text": [
      "france + rome - paris = ('italy', 0.5199521780014038)\n"
     ]
    }
   ],
   "source": [
    "#try out:\n",
    "#breakfast + evening - morning\n",
    "#sunrise + evening - morning\n",
    "#france + rome - paris \n",
    "#sister + man - woman\n",
    "#france + english - french\n",
    "#sunday + friday - saturday\n",
    "#uncle + woman - man\n",
    "#bigger + small - big --> topn=2\n",
    "#sun + night - day --> does not work\n",
    "\n",
    "positive = ['france', 'rome']\n",
    "negative = ['paris']\n",
    "number_most_similar = 1\n",
    "\n",
    "words_most_similar = wv.most_similar(positive, negative, topn=number_most_similar)\n",
    "\n",
    "f.print_string_arithmetics(positive, negative, words_most_similar)"
   ]
  },
  {
   "cell_type": "markdown",
   "id": "638bdbbd",
   "metadata": {},
   "source": [
    "### 3. Use case - Sentiment Analaysis"
   ]
  },
  {
   "cell_type": "markdown",
   "id": "c49cfad0",
   "metadata": {},
   "source": [
    "#### 3.1 Import data"
   ]
  },
  {
   "cell_type": "code",
   "execution_count": 19,
   "id": "4507a985",
   "metadata": {},
   "outputs": [],
   "source": [
    "#import data (movie reviews downloaded from https://www.kaggle.com/datasets/lakshmi25npathi/imdb-dataset-of-50k-movie-reviews)\n",
    "train_data = pd.read_csv('movieReviews_with_sentiment.tsv', header = 0, delimiter = '\\t', quoting = 3)"
   ]
  },
  {
   "cell_type": "code",
   "execution_count": 3,
   "id": "58f37b4d",
   "metadata": {},
   "outputs": [
    {
     "data": {
      "text/html": [
       "<div>\n",
       "<style scoped>\n",
       "    .dataframe tbody tr th:only-of-type {\n",
       "        vertical-align: middle;\n",
       "    }\n",
       "\n",
       "    .dataframe tbody tr th {\n",
       "        vertical-align: top;\n",
       "    }\n",
       "\n",
       "    .dataframe thead th {\n",
       "        text-align: right;\n",
       "    }\n",
       "</style>\n",
       "<table border=\"1\" class=\"dataframe\">\n",
       "  <thead>\n",
       "    <tr style=\"text-align: right;\">\n",
       "      <th></th>\n",
       "      <th>PhraseId</th>\n",
       "      <th>SentenceId</th>\n",
       "      <th>Phrase</th>\n",
       "      <th>Sentiment</th>\n",
       "    </tr>\n",
       "  </thead>\n",
       "  <tbody>\n",
       "    <tr>\n",
       "      <th>0</th>\n",
       "      <td>1</td>\n",
       "      <td>1</td>\n",
       "      <td>A series of escapades demonstrating the adage ...</td>\n",
       "      <td>0</td>\n",
       "    </tr>\n",
       "    <tr>\n",
       "      <th>1</th>\n",
       "      <td>2</td>\n",
       "      <td>1</td>\n",
       "      <td>A series of escapades demonstrating the adage ...</td>\n",
       "      <td>1</td>\n",
       "    </tr>\n",
       "    <tr>\n",
       "      <th>2</th>\n",
       "      <td>3</td>\n",
       "      <td>1</td>\n",
       "      <td>A series</td>\n",
       "      <td>1</td>\n",
       "    </tr>\n",
       "    <tr>\n",
       "      <th>3</th>\n",
       "      <td>4</td>\n",
       "      <td>1</td>\n",
       "      <td>A</td>\n",
       "      <td>1</td>\n",
       "    </tr>\n",
       "    <tr>\n",
       "      <th>4</th>\n",
       "      <td>5</td>\n",
       "      <td>1</td>\n",
       "      <td>series</td>\n",
       "      <td>1</td>\n",
       "    </tr>\n",
       "  </tbody>\n",
       "</table>\n",
       "</div>"
      ],
      "text/plain": [
       "  PhraseId SentenceId                                             Phrase  \\\n",
       "0        1          1  A series of escapades demonstrating the adage ...   \n",
       "1        2          1  A series of escapades demonstrating the adage ...   \n",
       "2        3          1                                           A series   \n",
       "3        4          1                                                  A   \n",
       "4        5          1                                             series   \n",
       "\n",
       "  Sentiment  \n",
       "0         0  \n",
       "1         1  \n",
       "2         1  \n",
       "3         1  \n",
       "4         1  "
      ]
     },
     "execution_count": 3,
     "metadata": {},
     "output_type": "execute_result"
    }
   ],
   "source": [
    "train_data.head(5)"
   ]
  },
  {
   "cell_type": "markdown",
   "id": "652d8e78",
   "metadata": {},
   "source": [
    "Encoding of Sentiments: <br>\n",
    "\n",
    "0 - negative <br>\n",
    "1 - neutral <br>\n",
    "2 - positive <br>\n"
   ]
  },
  {
   "cell_type": "code",
   "execution_count": 4,
   "id": "bd397a3f",
   "metadata": {},
   "outputs": [
    {
     "name": "stdout",
     "output_type": "stream",
     "text": [
      "Example phrases for different sentiments:\n",
      "\n",
      "Negative:\n",
      "\n",
      "- have a hard time sitting through this one\n",
      "- almost feels as if the movie is more interested in entertaining itself than in amusing us .\n",
      "\n",
      "Neutral:\n",
      "\n",
      "- amuses but none of which amounts to much of a story\n",
      "- Shakespearean tragedy\n",
      "\n",
      "Positive:\n",
      "\n",
      "- first computer-generated feature cartoon\n",
      "- a perfect performance\n"
     ]
    }
   ],
   "source": [
    "f.print_examples_for_sentiments(train_data)"
   ]
  },
  {
   "cell_type": "markdown",
   "id": "3fed2fcd",
   "metadata": {},
   "source": [
    "#### 3.2 Prepare training data"
   ]
  },
  {
   "cell_type": "code",
   "execution_count": 5,
   "id": "472bd572",
   "metadata": {},
   "outputs": [],
   "source": [
    "#get numpy array of phrases (input) and labels = sentiment (output)\n",
    "phrases = np.array(train_data['Phrase'])\n",
    "labels = np.array(train_data['Sentiment'])"
   ]
  },
  {
   "cell_type": "code",
   "execution_count": 6,
   "id": "337f2aa9",
   "metadata": {},
   "outputs": [],
   "source": [
    "#in a first step we have to clean the data in order to preprocess our phrases:\n",
    "#lowercase\n",
    "#remove punctuations - examples are: points, quotation marks, come, plus, hyphen,...\n",
    "#remove stopwords - examples are: [i, and, or, with, that, my, your, but, or, by, on...]\n",
    "#split phrases in lists of words\n",
    "\n",
    "phrases_preprocessed = [f.clean_data(phrase) for phrase in phrases]"
   ]
  },
  {
   "cell_type": "code",
   "execution_count": 7,
   "id": "fd240594",
   "metadata": {
    "scrolled": true
   },
   "outputs": [
    {
     "name": "stdout",
     "output_type": "stream",
     "text": [
      "Phrase before preprocessing:\n",
      "\n",
      "A series of escapades demonstrating the adage that what is good for the goose is also good for the gander , some of which occasionally amuses but none of which amounts to much of a story .\n",
      "\n",
      "\n",
      "Phrase after preprocessing:\n",
      "\n",
      "['series', 'escapades', 'demonstrating', 'adage', 'good', 'goose', 'good', 'gander', 'occasionally', 'amuses', 'amounts', 'story']\n"
     ]
    }
   ],
   "source": [
    "#let's compare the phrases before and after preprocessing\n",
    "print('Phrase before preprocessing:\\n\\n{}\\n\\n'.format(phrases[0]))\n",
    "print('Phrase after preprocessing:\\n\\n{}'.format(phrases_preprocessed[0]))"
   ]
  },
  {
   "cell_type": "markdown",
   "id": "bb2ca4ab",
   "metadata": {},
   "source": [
    "#### 3.3 Generate and train Word2Vec model"
   ]
  },
  {
   "cell_type": "code",
   "execution_count": 8,
   "id": "9e009d4e",
   "metadata": {},
   "outputs": [],
   "source": [
    "#import of library which implements the architectures Skip-gram and CBOW\n",
    "from gensim.models import Word2Vec"
   ]
  },
  {
   "cell_type": "code",
   "execution_count": 9,
   "id": "b780a78c",
   "metadata": {},
   "outputs": [],
   "source": [
    "#let's define the parameters for our architecture\n",
    "architecture = 1 # 1 --> skip-gram, 0 --> CBOW\n",
    "hs = 1 # 1 --> hierarchical softmax, 0 --> negative sampling\n",
    "num_features = 200\n",
    "min_count = 10\n",
    "context = 10\n",
    "\n",
    "model = Word2Vec(phrases_preprocessed, vector_size=num_features, min_count=min_count, window=context, sg = architecture, hs = hs)"
   ]
  },
  {
   "cell_type": "code",
   "execution_count": 10,
   "id": "038d8e4d",
   "metadata": {},
   "outputs": [
    {
     "name": "stdout",
     "output_type": "stream",
     "text": [
      "Size of vocabulary: 15980\n",
      "\n",
      "Part of dictionary: ['characters', 'time', 'comedy', 'little', 'funny', 'way', 'life', 'movies', 'love', 'new']\n",
      "\n",
      "For each of these words we now have an embedding, for example for the word fun:\n",
      "\n",
      "[-0.13386418 -0.01411968  0.05951418  0.19526991  0.08285788  0.47596115\n",
      "  0.2882401   0.2012812  -0.05637824  0.25606936 -0.16089967 -0.03255827\n",
      " -0.24871737  0.262217    0.24416232 -0.0272872  -0.5355783   0.07098291\n",
      " -0.05180697 -0.6382654   0.31306663  0.22136272  0.2654871  -0.28358063\n",
      "  0.28129622  0.08671045  0.14154392 -0.52299273 -0.12791619  0.3600457\n",
      "  0.02868849 -0.3551984   0.02959908  0.78023547  0.04099558  0.9018609\n",
      " -0.02389745 -0.23573454 -0.08977703  0.39062223  0.17007245 -0.35859555\n",
      "  0.48612097 -0.53111076  0.10020532  0.03568386 -0.24840827  0.20780642\n",
      "  0.36438102  0.26270702 -0.1628139   0.06738089  0.15092808  0.220037\n",
      " -0.30620906  0.13950591 -0.1595415  -0.35453334  0.05373542 -0.1431616\n",
      " -0.06125915  0.32590225  0.43211582 -0.38196987 -0.00974994 -0.31306744\n",
      " -0.28834793 -0.27747852 -0.37491697  0.13937019  0.30302233  0.06296743\n",
      "  0.2760382  -0.5184135  -0.10561977  0.02037642 -0.4500005  -0.34755537\n",
      "  0.11588757  0.09644705 -0.5235462   0.24197936 -0.40501535 -0.45113623\n",
      " -0.05066165  0.14647175 -0.49040622 -0.33117637 -0.63556385  0.12555932\n",
      "  0.1804368  -0.13643907 -0.40041247 -0.5009451  -0.5209443  -0.26560608\n",
      " -0.11049695  0.14467147  0.34713784 -0.14103924 -0.0260037   0.6382347\n",
      " -0.12066665  0.24193612  0.11841163 -0.14914475  0.2777243   0.79245466\n",
      "  0.1172135  -0.3231537   0.02600129  0.4002109  -0.00786052  0.33751\n",
      " -0.2341086  -0.29649216  0.3051673  -0.68649304  0.02576501 -0.26750088\n",
      "  0.00720639  0.08631693 -0.07881325 -0.31506371 -0.33727407  0.10234533\n",
      "  0.02056094 -0.26995674 -0.07024793  0.20029409  0.31630602  0.1516444\n",
      "  0.33057663 -0.36822337 -0.22543897 -0.345343    0.41832542 -0.34757194\n",
      "  0.08648878 -0.30814588  0.10348861 -0.21661371 -0.12122013  0.398053\n",
      " -0.00798026  0.5269874  -0.14261386 -0.54953855 -0.14205712 -0.03839494\n",
      " -0.34490895  0.2318446   0.8693492  -0.05098055 -0.303991   -0.1143452\n",
      " -0.2102213  -0.39745477  0.04991706 -0.3399018   0.2729246  -0.22300203\n",
      "  0.6012669  -0.15304309 -0.5214466  -0.02381583 -0.08379363  0.24174987\n",
      "  0.5024147  -0.20727165 -0.1855979   0.19609663  0.40454432  0.20139097\n",
      "  0.12275723 -0.5095308  -0.19360578 -0.12532263 -0.11352796  0.00137897\n",
      " -0.12708429  0.6140455  -0.2737937  -0.03377499  0.10382714 -0.29130208\n",
      "  0.5210354  -0.376154   -0.16460565 -0.66063917 -0.13740997 -0.1362003\n",
      "  0.28724706 -0.26826078  0.8012986  -0.02312896  0.06066901  0.10160283\n",
      "  0.31489718 -0.0421487 ]\n",
      "\n",
      "Dimension of each word embedding: 200\n"
     ]
    }
   ],
   "source": [
    "#Let's examine our model\n",
    "print('Size of vocabulary: {}\\n'.format(len(model.wv.index_to_key)))\n",
    "print('Part of dictionary: {}\\n'.format(model.wv.index_to_key[9:19]))\n",
    "word_to_show_embedding = 'fun'\n",
    "print('For each of these words we now have an embedding, for example for the word {}:\\n'.format(word_to_show_embedding))\n",
    "print(model.wv[word_to_show_embedding])\n",
    "print('\\nDimension of each word embedding: {}'.format(len(model.wv[word_to_show_embedding])))"
   ]
  },
  {
   "cell_type": "markdown",
   "id": "dae1504d",
   "metadata": {},
   "source": [
    "#### 3.4 Use bag of word approach to characterize phrases by word vectors"
   ]
  },
  {
   "cell_type": "code",
   "execution_count": 11,
   "id": "2bd80cad",
   "metadata": {},
   "outputs": [
    {
     "name": "stdout",
     "output_type": "stream",
     "text": [
      "0 out of 624243 phrases processed\n",
      "100000 out of 624243 phrases processed\n",
      "200000 out of 624243 phrases processed\n",
      "300000 out of 624243 phrases processed\n",
      "400000 out of 624243 phrases processed\n",
      "500000 out of 624243 phrases processed\n",
      "600000 out of 624243 phrases processed\n",
      "Generation of Data successful\n"
     ]
    }
   ],
   "source": [
    "#bag of words approach \n",
    "#we now have phrases that consist of several words --> building of average vectors for each phrase\n",
    "X, y, phrases_removed = f.get_X_y_average_vector_for_each_phrase(phrases_preprocessed, labels, model, num_features)"
   ]
  },
  {
   "cell_type": "markdown",
   "id": "39513472",
   "metadata": {},
   "source": [
    "#### 3.5 Instantiate and train classifier"
   ]
  },
  {
   "cell_type": "code",
   "execution_count": 12,
   "id": "c8b8cae7",
   "metadata": {},
   "outputs": [],
   "source": [
    "#choose a classifier\n",
    "from sklearn.linear_model import LogisticRegression\n",
    "#train the model\n",
    "clf = LogisticRegression().fit(X, y)"
   ]
  },
  {
   "cell_type": "code",
   "execution_count": 52,
   "id": "b62a891d",
   "metadata": {},
   "outputs": [
    {
     "name": "stdout",
     "output_type": "stream",
     "text": [
      "This review was classified as negative.\n"
     ]
    }
   ],
   "source": [
    "#let's try out the sentiment analysis\n",
    "#I love the movie\n",
    "#the movie is good/bad/ok\n",
    "#it is a bad movie\n",
    "#not good/bad --> wieso klappt nicht?\n",
    "our_review = 'The movie is not bad'\n",
    "f.classify_sample_review(our_review, clf, model, num_features)"
   ]
  },
  {
   "cell_type": "code",
   "execution_count": 55,
   "id": "27c863fe",
   "metadata": {},
   "outputs": [],
   "source": [
    "def classify_sample_review(review, clf, model, num_features):\n",
    "    review = clean_data(review)\n",
    "    average_vec,_,_ = get_X_y_average_vector_for_each_phrase([review], np.array([0]), model, num_features, print_status=False)\n",
    "    prediction = int(clf.predict_proba(average_vec)[0])\n",
    "    if prediction == 0:\n",
    "        pred = 'negative'\n",
    "    elif prediction == 1:\n",
    "        pred = 'neutral'\n",
    "    elif prediction == 2:\n",
    "        pred = 'positive'\n",
    "    else:\n",
    "        print(pred)\n",
    "    print(\"This review was classified as {}.\".format(pred))"
   ]
  },
  {
   "cell_type": "code",
   "execution_count": 53,
   "id": "704b0a8a",
   "metadata": {},
   "outputs": [
    {
     "ename": "ValueError",
     "evalue": "Expected 2D array, got scalar array instead:\narray=The movie is not bad.\nReshape your data either using array.reshape(-1, 1) if your data has a single feature or array.reshape(1, -1) if it contains a single sample.",
     "output_type": "error",
     "traceback": [
      "\u001b[1;31m---------------------------------------------------------------------------\u001b[0m",
      "\u001b[1;31mValueError\u001b[0m                                Traceback (most recent call last)",
      "\u001b[1;32m~\\AppData\\Local\\Temp/ipykernel_17680/1516647407.py\u001b[0m in \u001b[0;36m<module>\u001b[1;34m\u001b[0m\n\u001b[1;32m----> 1\u001b[1;33m \u001b[0mclf\u001b[0m\u001b[1;33m.\u001b[0m\u001b[0mpredict_proba\u001b[0m\u001b[1;33m(\u001b[0m\u001b[0mour_review\u001b[0m\u001b[1;33m)\u001b[0m\u001b[1;33m\u001b[0m\u001b[1;33m\u001b[0m\u001b[0m\n\u001b[0m",
      "\u001b[1;32m~\\Anaconda3\\lib\\site-packages\\sklearn\\linear_model\\_logistic.py\u001b[0m in \u001b[0;36mpredict_proba\u001b[1;34m(self, X)\u001b[0m\n\u001b[0;32m   1469\u001b[0m             \u001b[1;32mreturn\u001b[0m \u001b[0msuper\u001b[0m\u001b[1;33m(\u001b[0m\u001b[1;33m)\u001b[0m\u001b[1;33m.\u001b[0m\u001b[0m_predict_proba_lr\u001b[0m\u001b[1;33m(\u001b[0m\u001b[0mX\u001b[0m\u001b[1;33m)\u001b[0m\u001b[1;33m\u001b[0m\u001b[1;33m\u001b[0m\u001b[0m\n\u001b[0;32m   1470\u001b[0m         \u001b[1;32melse\u001b[0m\u001b[1;33m:\u001b[0m\u001b[1;33m\u001b[0m\u001b[1;33m\u001b[0m\u001b[0m\n\u001b[1;32m-> 1471\u001b[1;33m             \u001b[0mdecision\u001b[0m \u001b[1;33m=\u001b[0m \u001b[0mself\u001b[0m\u001b[1;33m.\u001b[0m\u001b[0mdecision_function\u001b[0m\u001b[1;33m(\u001b[0m\u001b[0mX\u001b[0m\u001b[1;33m)\u001b[0m\u001b[1;33m\u001b[0m\u001b[1;33m\u001b[0m\u001b[0m\n\u001b[0m\u001b[0;32m   1472\u001b[0m             \u001b[1;32mif\u001b[0m \u001b[0mdecision\u001b[0m\u001b[1;33m.\u001b[0m\u001b[0mndim\u001b[0m \u001b[1;33m==\u001b[0m \u001b[1;36m1\u001b[0m\u001b[1;33m:\u001b[0m\u001b[1;33m\u001b[0m\u001b[1;33m\u001b[0m\u001b[0m\n\u001b[0;32m   1473\u001b[0m                 \u001b[1;31m# Workaround for multi_class=\"multinomial\" and binary outcomes\u001b[0m\u001b[1;33m\u001b[0m\u001b[1;33m\u001b[0m\u001b[0m\n",
      "\u001b[1;32m~\\Anaconda3\\lib\\site-packages\\sklearn\\linear_model\\_base.py\u001b[0m in \u001b[0;36mdecision_function\u001b[1;34m(self, X)\u001b[0m\n\u001b[0;32m    282\u001b[0m         \u001b[0mcheck_is_fitted\u001b[0m\u001b[1;33m(\u001b[0m\u001b[0mself\u001b[0m\u001b[1;33m)\u001b[0m\u001b[1;33m\u001b[0m\u001b[1;33m\u001b[0m\u001b[0m\n\u001b[0;32m    283\u001b[0m \u001b[1;33m\u001b[0m\u001b[0m\n\u001b[1;32m--> 284\u001b[1;33m         \u001b[0mX\u001b[0m \u001b[1;33m=\u001b[0m \u001b[0mcheck_array\u001b[0m\u001b[1;33m(\u001b[0m\u001b[0mX\u001b[0m\u001b[1;33m,\u001b[0m \u001b[0maccept_sparse\u001b[0m\u001b[1;33m=\u001b[0m\u001b[1;34m'csr'\u001b[0m\u001b[1;33m)\u001b[0m\u001b[1;33m\u001b[0m\u001b[1;33m\u001b[0m\u001b[0m\n\u001b[0m\u001b[0;32m    285\u001b[0m \u001b[1;33m\u001b[0m\u001b[0m\n\u001b[0;32m    286\u001b[0m         \u001b[0mn_features\u001b[0m \u001b[1;33m=\u001b[0m \u001b[0mself\u001b[0m\u001b[1;33m.\u001b[0m\u001b[0mcoef_\u001b[0m\u001b[1;33m.\u001b[0m\u001b[0mshape\u001b[0m\u001b[1;33m[\u001b[0m\u001b[1;36m1\u001b[0m\u001b[1;33m]\u001b[0m\u001b[1;33m\u001b[0m\u001b[1;33m\u001b[0m\u001b[0m\n",
      "\u001b[1;32m~\\Anaconda3\\lib\\site-packages\\sklearn\\utils\\validation.py\u001b[0m in \u001b[0;36minner_f\u001b[1;34m(*args, **kwargs)\u001b[0m\n\u001b[0;32m     61\u001b[0m             \u001b[0mextra_args\u001b[0m \u001b[1;33m=\u001b[0m \u001b[0mlen\u001b[0m\u001b[1;33m(\u001b[0m\u001b[0margs\u001b[0m\u001b[1;33m)\u001b[0m \u001b[1;33m-\u001b[0m \u001b[0mlen\u001b[0m\u001b[1;33m(\u001b[0m\u001b[0mall_args\u001b[0m\u001b[1;33m)\u001b[0m\u001b[1;33m\u001b[0m\u001b[1;33m\u001b[0m\u001b[0m\n\u001b[0;32m     62\u001b[0m             \u001b[1;32mif\u001b[0m \u001b[0mextra_args\u001b[0m \u001b[1;33m<=\u001b[0m \u001b[1;36m0\u001b[0m\u001b[1;33m:\u001b[0m\u001b[1;33m\u001b[0m\u001b[1;33m\u001b[0m\u001b[0m\n\u001b[1;32m---> 63\u001b[1;33m                 \u001b[1;32mreturn\u001b[0m \u001b[0mf\u001b[0m\u001b[1;33m(\u001b[0m\u001b[1;33m*\u001b[0m\u001b[0margs\u001b[0m\u001b[1;33m,\u001b[0m \u001b[1;33m**\u001b[0m\u001b[0mkwargs\u001b[0m\u001b[1;33m)\u001b[0m\u001b[1;33m\u001b[0m\u001b[1;33m\u001b[0m\u001b[0m\n\u001b[0m\u001b[0;32m     64\u001b[0m \u001b[1;33m\u001b[0m\u001b[0m\n\u001b[0;32m     65\u001b[0m             \u001b[1;31m# extra_args > 0\u001b[0m\u001b[1;33m\u001b[0m\u001b[1;33m\u001b[0m\u001b[0m\n",
      "\u001b[1;32m~\\Anaconda3\\lib\\site-packages\\sklearn\\utils\\validation.py\u001b[0m in \u001b[0;36mcheck_array\u001b[1;34m(array, accept_sparse, accept_large_sparse, dtype, order, copy, force_all_finite, ensure_2d, allow_nd, ensure_min_samples, ensure_min_features, estimator)\u001b[0m\n\u001b[0;32m    685\u001b[0m             \u001b[1;31m# If input is scalar raise error\u001b[0m\u001b[1;33m\u001b[0m\u001b[1;33m\u001b[0m\u001b[0m\n\u001b[0;32m    686\u001b[0m             \u001b[1;32mif\u001b[0m \u001b[0marray\u001b[0m\u001b[1;33m.\u001b[0m\u001b[0mndim\u001b[0m \u001b[1;33m==\u001b[0m \u001b[1;36m0\u001b[0m\u001b[1;33m:\u001b[0m\u001b[1;33m\u001b[0m\u001b[1;33m\u001b[0m\u001b[0m\n\u001b[1;32m--> 687\u001b[1;33m                 raise ValueError(\n\u001b[0m\u001b[0;32m    688\u001b[0m                     \u001b[1;34m\"Expected 2D array, got scalar array instead:\\narray={}.\\n\"\u001b[0m\u001b[1;33m\u001b[0m\u001b[1;33m\u001b[0m\u001b[0m\n\u001b[0;32m    689\u001b[0m                     \u001b[1;34m\"Reshape your data either using array.reshape(-1, 1) if \"\u001b[0m\u001b[1;33m\u001b[0m\u001b[1;33m\u001b[0m\u001b[0m\n",
      "\u001b[1;31mValueError\u001b[0m: Expected 2D array, got scalar array instead:\narray=The movie is not bad.\nReshape your data either using array.reshape(-1, 1) if your data has a single feature or array.reshape(1, -1) if it contains a single sample."
     ]
    }
   ],
   "source": [
    "classify_sample_review(our_review)"
   ]
  },
  {
   "cell_type": "markdown",
   "id": "e7ac26b4",
   "metadata": {},
   "source": [
    "# Thank's for your attention!"
   ]
  },
  {
   "cell_type": "code",
   "execution_count": null,
   "id": "1779b3d0",
   "metadata": {},
   "outputs": [],
   "source": [
    "\n",
    "\n",
    "\n",
    "\n",
    "\n",
    "\n",
    "\n",
    "\n",
    "\n",
    "\n",
    "\n",
    "\n",
    "\n",
    "\n",
    "\n",
    "\n",
    "\n",
    "\n",
    "\n",
    "\n",
    "\n",
    "\n",
    "\n",
    "\n",
    "\n",
    "\n",
    "\n",
    "\n",
    "\n",
    "\n",
    "\n",
    "\n",
    "\n",
    "\n",
    "\n",
    "\n",
    "\n",
    "#what happens here?\n",
    "from sklearn.decomposition import IncrementalPCA  \n",
    "from sklearn.manifold import TSNE\n",
    "import numpy as np\n",
    "\n",
    "#define words you want to find similar ones to plot in lower dimension\n",
    "word1 = 'garden'\n",
    "word2 = 'bottle'\n",
    "word3 = 'cake'\n",
    "\n",
    "#for each similar word we get a tuple of the word and the distance to the first word\n",
    "words_similar_word1 = wv.similar_by_word(word1, 20)\n",
    "words_similar_word2 = wv.similar_by_word(word2, 20)\n",
    "words_similar_word3 = wv.similar_by_word(word3, 20)\n",
    "\n",
    "print('Words similar to {}:\\n{}'.format(word1, words_similar_word1))\n",
    "\n",
    "#we just want to get the words without the distance\n",
    "words = ([word1] + [w1[0] for w1 in words_similar_word1] + \n",
    "         [word2] + [w2[0] for w2 in words_similar_word2] + \n",
    "         [word3] + [w3[0] for w3 in words_similar_word3])\n",
    "\n",
    "print('\\nAll words to examine:\\n{}'.format(words))\n",
    "\n",
    "#get vectors of the corresponding words\n",
    "vectors = []\n",
    "for word in words:\n",
    "    vectors.append(wv[word])\n",
    "    \n",
    "print('\\nVector of first word:\\n{}'.format(vectors[0]))\n",
    "\n",
    "#apply TSNE to vectors to get them in a 2-dimensional vector space\n",
    "tsne_model = TSNE(perplexity=45, n_components=2, init='pca', n_iter=3000, random_state=123)\n",
    "vectors_dim2 = tsne_model.fit_transform(vectors)\n",
    "\n",
    "print('\\nDimensionality of vectors before: {}'.format(np.shape(vectors[0])[0]))\n",
    "print('Dimensionality of vectors after applying TSNE: {}'.format(np.shape(vectors_dim2[0])[0]))\n",
    "\n",
    "#plot 2-dimensional word embeddings\n",
    "f.plot_vectors_group_of_similar_words(vectors_dim2, number_groups=3, labels=words)"
   ]
  },
  {
   "cell_type": "code",
   "execution_count": null,
   "id": "febfc42f",
   "metadata": {},
   "outputs": [],
   "source": []
  }
 ],
 "metadata": {
  "kernelspec": {
   "display_name": "Python 3 (ipykernel)",
   "language": "python",
   "name": "python3"
  },
  "language_info": {
   "codemirror_mode": {
    "name": "ipython",
    "version": 3
   },
   "file_extension": ".py",
   "mimetype": "text/x-python",
   "name": "python",
   "nbconvert_exporter": "python",
   "pygments_lexer": "ipython3",
   "version": "3.9.7"
  }
 },
 "nbformat": 4,
 "nbformat_minor": 5
}
