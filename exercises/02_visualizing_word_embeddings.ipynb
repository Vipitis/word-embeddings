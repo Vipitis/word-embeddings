{
 "cells": [
  {
   "cell_type": "code",
   "execution_count": null,
   "metadata": {},
   "outputs": [],
   "source": [
    "# TASK: Play a round of Wordle, using for example one of the following websites:\n",
    "# https://wordlegame.org/\n",
    "# https://www.nytimes.com/games/wordle/index.html"
   ]
  },
  {
   "cell_type": "code",
   "execution_count": null,
   "metadata": {},
   "outputs": [],
   "source": [
    "\n",
    "# TASK: What is entropy?\n",
    "\n",
    "### YOUR SOLUTION HERE\n",
    "\n",
    "# Video suggestion:\n",
    "# 3blue1brown - Solving Wordle using information theory\n",
    "# https://www.youtube.com/watch?v=v68zYyaEmEA"
   ]
  },
  {
   "cell_type": "code",
   "execution_count": null,
   "metadata": {},
   "outputs": [],
   "source": [
    "# TASK: Play a round of Semantle \n",
    "# https://semantle.com/\n",
    "# How many turns and hints did you need to find the solution?\n",
    "\n",
    "### YOUR SOLUTION HERE\n",
    "\n",
    "# TASK: Why is this game so hard?\n",
    "\n",
    "### YOUR SOLUTION HERE"
   ]
  },
  {
   "cell_type": "code",
   "execution_count": null,
   "metadata": {},
   "outputs": [],
   "source": [
    "# TASK: Play a round of Pimantle\n",
    "# https://semantle.pimanrul.es/"
   ]
  },
  {
   "cell_type": "code",
   "execution_count": null,
   "metadata": {},
   "outputs": [],
   "source": [
    "# TASK: In your own words, what is the difference between Wordle, Semantle and Pimantle?\n",
    "# How would you describe the different kind of 'distances' used?\n",
    "\n",
    "### YOUR SOLUTION HERE\n",
    "\n",
    "# TASK: Why does the visualization of the embedding space help you to solve the game in Pimantle?\n",
    "\n",
    "### YOUR SOLUTION HERE\n",
    "\n",
    "# TASK: Come up with an elevator pitch for the game Pimantle, and try to convince a friend to play it (who is not a computer scientist).\n",
    "\n",
    "### YOUR SOLUTION HERE"
   ]
  },
  {
   "cell_type": "code",
   "execution_count": null,
   "metadata": {},
   "outputs": [],
   "source": [
    "# TASK: Create a numpy array of the embedding vectors of the 50000 most common words in the English language in a pretrained fastText embedding\n",
    "# (get the dictionary of most common words from HERE TODO)\n",
    "# TODO\n",
    "\n",
    "# TASK: Compute the cosine similarity between the words 'cat' and 'dog' in the embedding space \n",
    "# TODO\n",
    "\n",
    "# TASK: Try to find a word in the embedding space that is similar to 'cat' and 'dog' but not to 'mouse'\n",
    "# TODO\n",
    "\n",
    "# TASK: Try to find a word in the embedding space that is similar to 'cat' and 'mouse' but not to 'dog'\n",
    "# TODO\n",
    "\n",
    "# TASK: Compute a 2-dimensional PCA projection of the embedding vectors, and plot the projection of the point cloud\n",
    "# TODO\n",
    "\n",
    "# TASK: Compute a 2-dimensional t-SNE projection of the embedding vectors, and plot the projection of the point cloud\n",
    "# TODO\n",
    "\n",
    "# TASK: In a few sentences, what do you observe in the two plots? What do you think is the reason for the difference?\n",
    "# TODO\n",
    "\n",
    "# TASK: Come up with an elevator pitch for using t-SNE to visualize high-dimensional data.\n",
    "# What are some of the advantages and disadvantages of t-SNE compared to PCA?\n",
    "# TODO \n"
   ]
  }
 ],
 "metadata": {
  "language_info": {
   "name": "python"
  },
  "orig_nbformat": 4
 },
 "nbformat": 4,
 "nbformat_minor": 2
}
