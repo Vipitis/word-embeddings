{
 "cells": [
  {
   "cell_type": "markdown",
   "metadata": {},
   "source": [
    "# Word Embeddings with word2vec, fastText and GloVe"
   ]
  },
  {
   "cell_type": "code",
   "execution_count": 1,
   "metadata": {},
   "outputs": [
    {
     "name": "stdout",
     "output_type": "stream",
     "text": [
      "Collecting gensim\n",
      "  Using cached gensim-4.1.2-cp37-cp37m-macosx_10_9_x86_64.whl (24.0 MB)\n",
      "Requirement already satisfied: plotly in /opt/homebrew/Caskroom/miniforge/base/envs/rosetta_py3.8_new/lib/python3.7/site-packages (5.6.0)\n",
      "Collecting smart-open>=1.8.1\n",
      "  Using cached smart_open-5.2.1-py3-none-any.whl (58 kB)\n",
      "Requirement already satisfied: scipy>=0.18.1 in /opt/homebrew/Caskroom/miniforge/base/envs/rosetta_py3.8_new/lib/python3.7/site-packages (from gensim) (1.7.3)\n",
      "Requirement already satisfied: numpy>=1.17.0 in /opt/homebrew/Caskroom/miniforge/base/envs/rosetta_py3.8_new/lib/python3.7/site-packages (from gensim) (1.21.5)\n",
      "Requirement already satisfied: tenacity>=6.2.0 in /opt/homebrew/Caskroom/miniforge/base/envs/rosetta_py3.8_new/lib/python3.7/site-packages (from plotly) (8.0.1)\n",
      "Requirement already satisfied: six in /opt/homebrew/Caskroom/miniforge/base/envs/rosetta_py3.8_new/lib/python3.7/site-packages (from plotly) (1.16.0)\n",
      "Installing collected packages: smart-open, gensim\n",
      "Successfully installed gensim-4.1.2 smart-open-5.2.1\n"
     ]
    }
   ],
   "source": [
    "!pip install gensim plotly"
   ]
  },
  {
   "cell_type": "code",
   "execution_count": 2,
   "metadata": {},
   "outputs": [],
   "source": [
    "%matplotlib inline\n",
    "\n",
    "import os\n",
    "import urllib.request\n",
    "import gensim\n",
    "from sklearn.manifold import TSNE\n",
    "import matplotlib.pyplot as plt\n",
    "import numpy as np"
   ]
  },
  {
   "cell_type": "markdown",
   "metadata": {},
   "source": [
    "#### Q: Name two advantages of using dense parametrised word representations compared to one-hot vectors\n",
    "\n",
    "#### A: Give your answer here\n",
    "\n",
    "1) We can define a similarity measure between different words, for example using the cosine of the scalar product (which would be zero for the one-hot encoding since all vectors are orthogonal)\n",
    "\n",
    "2) Can try to embedd in lower-dimensional space (do not need a separate dimension for each word) "
   ]
  },
  {
   "cell_type": "markdown",
   "metadata": {},
   "source": [
    "## Play around with pre-trained Word2Vec"
   ]
  },
  {
   "cell_type": "code",
   "execution_count": 3,
   "metadata": {},
   "outputs": [],
   "source": [
    "#convenience function for plotting embeddings into 2-dimensional space\n",
    "\n",
    "def plot_word_embeddings(model, search_list):\n",
    "    words = []\n",
    "    for term in search_list:\n",
    "        words += [w[0] for w in model.wv.most_similar([term], topn=6)]                                   \n",
    "    words += search_list\n",
    "    words = list(dict.fromkeys(words)) # remove duplicates\n",
    "\n",
    "    vectors = model.wv[words]\n",
    "    \n",
    "    tsne = TSNE(n_components=2, random_state=0, n_iter=10000, perplexity=7)\n",
    "    T = tsne.fit_transform(vectors)\n",
    "\n",
    "    plt.figure(figsize=(16, 10))\n",
    "    plt.scatter(T[:, 0], T[:, 1])\n",
    "    for label, x, y in zip(words, T[:, 0], T[:, 1]):\n",
    "        plt.annotate(label, xy=(x+2, y+2), xytext=(0, 0), textcoords='offset points')"
   ]
  },
  {
   "cell_type": "code",
   "execution_count": 4,
   "metadata": {},
   "outputs": [
    {
     "data": {
      "text/plain": [
       "{'num_records': 1701,\n",
       " 'record_format': 'list of str (tokens)',\n",
       " 'file_size': 33182058,\n",
       " 'reader_code': 'https://github.com/RaRe-Technologies/gensim-data/releases/download/text8/__init__.py',\n",
       " 'license': 'not found',\n",
       " 'description': 'First 100,000,000 bytes of plain text from Wikipedia. Used for testing purposes; see wiki-english-* for proper full Wikipedia datasets.',\n",
       " 'checksum': '68799af40b6bda07dfa47a32612e5364',\n",
       " 'file_name': 'text8.gz',\n",
       " 'read_more': ['http://mattmahoney.net/dc/textdata.html'],\n",
       " 'parts': 1}"
      ]
     },
     "execution_count": 4,
     "metadata": {},
     "output_type": "execute_result"
    }
   ],
   "source": [
    "import gensim.downloader as api\n",
    "\n",
    "corpus = api.load('text8')\n",
    "api.info(\"text8\")"
   ]
  },
  {
   "cell_type": "code",
   "execution_count": 5,
   "metadata": {
    "scrolled": true,
    "tags": []
   },
   "outputs": [],
   "source": [
    "# inspect the training corpus\n",
    "corpus_list = [doc for doc in corpus]"
   ]
  },
  {
   "cell_type": "code",
   "execution_count": 6,
   "metadata": {
    "scrolled": true,
    "tags": []
   },
   "outputs": [
    {
     "name": "stdout",
     "output_type": "stream",
     "text": [
      "['states', 'house', 'of', 'representatives', 'from', 'tennessee', 'united', 'states', 'senators', 'from', 'tennessee', 'vice', 'presidents', 'of', 'the', 'united', 'states', 'aleksandr', 'solzhenitsyn', 'aleksandr', 'isayevich', 'solzhenitsyn', 'born', 'in', 'kislovodsk', 'russia', 'on', 'december', 'one', 'one', 'one', 'nine', 'one', 'eight', 'is', 'a', 'russian', 'novelist', 'dramatist', 'and', 'historian', 'he', 'was', 'responsible', 'for', 'thrusting', 'awareness', 'of', 'the', 'gulag', 'on', 'the', 'world', 'solzhenitsyn', 'was', 'awarded', 'the', 'nobel', 'prize', 'in', 'literature', 'in', 'one', 'nine', 'seven', 'zero', 'and', 'was', 'exiled', 'from', 'the', 'soviet', 'union', 'in', 'one', 'nine', 'seven', 'four', 'in', 'the', 'soviet', 'union', 'solzhenitsyn', 'studied', 'mathematics', 'at', 'rostov', 'state', 'university', 'while', 'at', 'the', 'same', 'time', 'taking', 'correspondence', 'courses', 'from', 'the', 'moscow', 'institute', 'of', 'philosophy', 'literature', 'and', 'history', 'during', 'world', 'war', 'ii', 'he', 'served', 'as', 'the', 'commander', 'of', 'an', 'artillery', 'position', 'finding', 'company', 'in', 'the', 'soviet', 'army', 'was', 'involved', 'in', 'major', 'action', 'at', 'the', 'front', 'and', 'was', 'twice', 'decorated', 'in', 'february', 'one', 'nine', 'four', 'five', 'while', 'serving', 'in', 'east', 'prussia', 'he', 'was', 'arrested', 'for', 'criticising', 'joseph', 'stalin', 'in', 'private', 'correspondence', 'with', 'a', 'friend', 'and', 'sentenced', 'to', 'an', 'eight', 'year', 'term', 'in', 'a', 'labour', 'camp', 'to', 'be', 'followed', 'by', 'permanent', 'internal', 'exile', 'the', 'first', 'part', 'of', 'solzehnitsyn', 's', 'sentence', 'was', 'served', 'in', 'several', 'different', 'work', 'camps', 'the', 'middle', 'phase', 'as', 'he', 'later', 'referred', 'to', 'it', 'was', 'spent', 'in', 'a', 'sharashka', 'special', 'scientific', 'research', 'facilities', 'run', 'by', 'ministry', 'of', 'state', 'security', 'these', 'formed', 'the', 'experiences', 'distilled', 'in', 'the', 'first', 'circle', 'published', 'in', 'the', 'west', 'in', 'one', 'nine', 'six', 'eight', 'in', 'one', 'nine', 'five', 'zero', 'he', 'was', 'sent', 'to', 'a', 'special', 'camp', 'for', 'political', 'prisoners', 'during', 'his', 'imprisonment', 'at', 'the', 'camp', 'in', 'the', 'town', 'of', 'ekibastuz', 'in', 'kazakhstan', 'he', 'worked', 'as', 'a', 'miner', 'a', 'bricklayer', 'and', 'a', 'foundryman', 'his', 'experiences', 'at', 'ekibastuz', 'formed', 'the', 'basis', 'for', 'the', 'one', 'day', 'in', 'the', 'life', 'of', 'ivan', 'denisovich', 'while', 'there', 'he', 'had', 'a', 'tumor', 'removed', 'although', 'his', 'cancer', 'was', 'not', 'then', 'diagnosed', 'from', 'march', 'one', 'nine', 'five', 'three', 'solzhenitsyn', 'began', 'a', 'sentence', 'of', 'internal', 'exile', 'for', 'life', 'at', 'kol', 'terek', 'in', 'southern', 'kazakhstan', 'his', 'undiagnosed', 'cancer', 'spread', 'until', 'by', 'the', 'end', 'of', 'the', 'year', 'he', 'was', 'close', 'to', 'death', 'however', 'in', 'one', 'nine', 'five', 'four', 'he', 'was', 'permitted', 'to', 'be', 'treated', 'in', 'a', 'hospital', 'in', 'tashkent', 'where', 'he', 'was', 'cured', 'these', 'experiences', 'became', 'the', 'basis', 'of', 'his', 'novel', 'cancer', 'ward', 'during', 'his', 'years', 'of', 'exile', 'and', 'following', 'his', 'reprieve', 'and', 'return', 'to', 'european', 'russia', 'solzhenitsyn', 'was', 'while', 'teaching', 'at', 'a', 'secondary', 'school', 'during', 'the', 'day', 'spending', 'his', 'nights', 'secretly', 'engaged', 'in', 'writing', 'he', 'later', 'wrote', 'in', 'the', 'short', 'autobiography', 'written', 'at', 'the', 'time', 'of', 'his', 'being', 'awarded', 'the', 'nobel', 'prize', 'that', 'during', 'all', 'the', 'years', 'until', 'one', 'nine', 'six', 'one', 'not', 'only', 'was', 'i', 'convinced', 'that', 'i', 'should', 'never', 'see', 'a', 'single', 'line', 'of', 'mine', 'in', 'print', 'in', 'my', 'lifetime', 'but', 'also', 'i', 'scarcely', 'dared', 'allow', 'any', 'of', 'my', 'close', 'acquaintances', 'to', 'read', 'anything', 'i', 'had', 'written', 'because', 'i', 'feared', 'that', 'this', 'would', 'become', 'known', 'finally', 'when', 'he', 'was', 'four', 'two', 'years', 'old', 'he', 'approached', 'a', 'poet', 'and', 'the', 'chief', 'editor', 'of', 'the', 'noviy', 'mir', 'magazine', 'alexander', 'tvardovsky', 'with', 'the', 'manuscript', 'of', 'one', 'day', 'in', 'the', 'life', 'of', 'ivan', 'denisovich', 'it', 'was', 'published', 'in', 'one', 'nine', 'six', 'two', 'and', 'would', 'remain', 'his', 'only', 'major', 'work', 'to', 'be', 'published', 'in', 'the', 'soviet', 'union', 'until', 'one', 'nine', 'nine', 'zero', 'it', 'was', 'during', 'this', 'decade', 'of', 'imprisonment', 'and', 'exile', 'that', 'solzhenitsyn', 'abandoned', 'his', 'youthful', 'marxism', 'and', 'evolved', 'toward', 'his', 'mature', 'philosophical', 'and', 'religious', 'positions', 'his', 'gradual', 'turn', 'to', 'a', 'philosophically', 'minded', 'christianity', 'is', 'described', 'at', 'some', 'length', 'in', 'the', 'fourth', 'part', 'of', 'the', 'gulag', 'archipelago', 'the', 'soul', 'and', 'barbed', 'wire', 'solzhenitsyn', 'was', 'exiled', 'from', 'the', 'soviet', 'union', 'for', 'his', 'book', 'the', 'gulag', 'archipelago', 'one', 'day', 'in', 'the', 'life', 'of', 'ivan', 'denisovich', 'brought', 'the', 'soviet', 'system', 'of', 'prison', 'labor', 'to', 'the', 'attention', 'of', 'the', 'west', 'but', 'it', 'was', 'his', 'monumental', 'history', 'of', 'the', 'soviet', 'prisons', 'for', 'both', 'criminal', 'and', 'political', 'prisoners', 'that', 'won', 'him', 'the', 'most', 'acclaim', 'in', 'the', 'west', 'it', 'caused', 'as', 'much', 'a', 'sensation', 'in', 'the', 'soviet', 'union', 'as', 'it', 'did', 'the', 'west', 'but', 'the', 'attention', 'devoted', 'to', 'it', 'in', 'the', 'west', 'meant', 'that', 'solzhenitsyn', 'was', 'a', 'marked', 'man', 'the', 'printing', 'of', 'his', 'work', 'quickly', 'stopped', 'and', 'by', 'one', 'nine', 'six', 'five', 'the', 'kgb', 'had', 'seized', 'his', 'papers', 'including', 'the', 'manuscript', 'of', 'the', 'first', 'circle', 'meanwhile', 'solzhenitsyn', 'continued', 'to', 'secretly', 'and', 'feverishly', 'work', 'upon', 'the', 'most', 'subversive', 'of', 'all', 'his', 'writings', 'the', 'monumental', 'gulag', 'archipelago', 'the', 'gulag', 'archipelago', 'was', 'a', 'three', 'volume', 'work', 'on', 'the', 'soviet', 'prison', 'camp', 'system', 'it', 'was', 'based', 'upon', 'solzhenitsyn', 's', 'own', 'experience', 'as', 'well', 'as', 'the', 'testimony', 'of', 'two', 'two', 'seven', 'former', 'prisoners', 'it', 'discussed', 'the', 'system', 's', 'origins', 'from', 'lenin', 'and', 'the', 'very', 'founding', 'of', 'the', 'communist', 'regime', 'the', 'appearance', 'of', 'the', 'book', 'in', 'the', 'west', 'put', 'the', 'word', 'gulag', 'into', 'the', 'western', 'political', 'vocabulary', 'and', 'guaranteed', 'swift', 'retribution', 'from', 'the', 'soviet', 'authorities', 'on', 'february', 'one', 'three', 'one', 'nine', 'seven', 'four', 'solzhenitsyn', 'was', 'deported', 'from', 'the', 'soviet', 'union', 'to', 'west', 'germany', 'and', 'stripped', 'of', 'his', 'soviet', 'citizenship', 'in', 'the', 'west', 'after', 'a', 'time', 'in', 'switzerland', 'solzhenitsyn', 'was', 'given', 'accommodation', 'by', 'stanford', 'university', 'to', 'facilitate', 'your', 'work', 'and', 'to', 'accommodate', 'you', 'and', 'your', 'family', 'he', 'stayed', 'on', 'the', 'one', 'one', 'th', 'floor', 'of', 'the', 'hoover', 'tower', 'part', 'of', 'the', 'hoover', 'institution', 'solzhenitsyn', 'moved', 'to', 'vermont', 'in', 'one', 'nine', 'seven', 'six', 'over', 'the', 'next', 'one', 'eight', 'years', 'solzhenitsyn', 'completed', 'his', 'historical', 'cycle', 'of', 'the', 'russian', 'revolution', 'of', 'one', 'nine', 'one', 'seven', 'the', 'red', 'wheel', 'and', 'several', 'shorter', 'works', 'in', 'one', 'nine', 'nine', 'zero', 'his', 'soviet', 'citizenship', 'was', 'restored', 'and', 'in', 'one', 'nine', 'nine', 'four', 'he', 'returned', 'to', 'russia', 'despite', 'an', 'enthusiastic', 'welcome', 'on', 'his', 'first', 'arrival', 'in', 'america', 'followed', 'by', 'respect', 'for', 'his', 'privacy', 'he', 'had', 'never', 'been', 'comfortable', 'outside', 'his', 'homeland', 'solzhenitsyn', 's', 'warnings', 'about', 'the', 'dangers', 'of', 'communist', 'aggression', 'and', 'the', 'weakening', 'of', 'the', 'moral', 'fiber', 'of', 'the', 'west', 'were', 'generally', 'well', 'received', 'in', 'conservative', 'circles', 'in', 'the', 'west', 'but', 'liberals', 'and', 'secularists', 'were', 'increasingly', 'critical', 'of', 'what', 'they', 'perceived', 'as', 'his', 'reactionary', 'preference', 'for', 'russian', 'patriotism', 'and', 'the', 'russian', 'orthodox', 'religion', 'he', 'also', 'harshly', 'criticised', 'what', 'he', 'saw', 'as', 'the', 'ugliness', 'and', 'spiritual', 'vapidity', 'of', 'the', 'dominant', 'pop', 'culture', 'of', 'the', 'modern', 'west', 'for', 'example', 'television', 'and', 'rock', 'music', 'the', 'human', 'soul', 'longs', 'for', 'things', 'higher', 'warmer', 'and', 'purer', 'than', 'those', 'offered', 'by', 'today', 's', 'mass', 'living', 'habits', 'by', 'tv', 'stupor', 'and', 'by', 'intolerable', 'music', 'return', 'to', 'russia', 'since', 'returning', 'to', 'russia', 'in', 'one', 'nine', 'nine', 'four', 'solzhenitsyn', 'has', 'published', 'eight', 'two', 'part', 'short', 'stories', 'a', 'series', 'of', 'contemplative', 'miniatures', 'or', 'prose', 'poems', 'a', 'literary', 'memoir', 'on', 'his', 'years', 'in', 'the', 'west', 'the', 'grain', 'between', 'the', 'millstones', 'and', 'a', 'two', 'volume', 'work', 'on', 'the', 'history', 'of', 'russian', 'jewish', 'relations', 'two', 'hundred', 'years', 'together', 'two', 'zero', 'zero', 'one', 'two', 'zero', 'zero', 'two', 'the', 'latter', 'has', 'been', 'received', 'as', 'philo', 'semitic', 'by', 'some', 'and', 'anti', 'semitic', 'by', 'others', 'in', 'it', 'solzhenitsyn', 'emphatically', 'repudiates', 'the', 'idea', 'that', 'the', 'russian', 'revolutions', 'of', 'one', 'nine', 'zero', 'five', 'and', 'one', 'nine', 'one', 'seven', 'were', 'the', 'work', 'of', 'a', 'jewish', 'conspiracy', 'see', 'chapters', 'nine', 'one', 'four', 'and', 'one', 'five', 'of', 'that', 'work', 'at', 'the', 'same', 'time', 'he', 'calls', 'on', 'both', 'russians', 'and', 'jews', 'to', 'come', 'to', 'terms', 'with', 'the', 'members', 'of', 'their', 'peoples', 'who', 'acted', 'in', 'complicity', 'with', 'the', 'communist', 'regime', 'the', 'reception', 'of', 'this', 'work', 'confirms', 'that', 'solzhenitsyn', 'remains', 'a', 'polarizing', 'figure', 'both', 'at', 'home', 'and', 'abroad', 'in', 'his', 'recent', 'political', 'writings', 'such', 'as', 'rebuilding', 'russia', 'one', 'nine', 'nine', 'zero', 'and', 'russia', 'in', 'collapse', 'one', 'nine', 'nine', 'eight', 'solzhenitsyn', 'has', 'criticized', 'the', 'oligarchic', 'excesses', 'of', 'the', 'new', 'russian', 'democracy', 'while', 'opposing', 'any', 'nostalgia', 'for', 'soviet', 'communism', 'he', 'has', 'defended', 'moderate', 'and', 'self', 'critical', 'patriotism', 'as', 'opposed', 'to', 'extreme', 'nationalism', 'argued', 'for', 'the', 'indispensability', 'of', 'local', 'self', 'government', 'to', 'a', 'free', 'russia', 'and', 'expressed', 'concerns', 'for', 'the', 'fate', 'of', 'two', 'five', 'million', 'ethnic', 'russians', 'in', 'the', 'near', 'abroad', 'of', 'the', 'former', 'soviet', 'union', 'one', 'of', 'his', 'sons', 'ignat', 'solzhenitsyn', 'has', 'achieved', 'acclaim', 'as', 'a', 'pianist', 'and', 'conductor', 'in', 'the', 'united', 'states', 'published', 'works', 'one', 'day', 'in', 'the', 'life', 'of', 'ivan', 'denisovich', 'one', 'nine', 'six', 'two', 'for', 'the', 'good', 'of', 'the', 'cause', 'one', 'nine', 'six', 'four', 'the', 'first', 'circle', 'one', 'nine', 'six', 'eight', 'the', 'cancer', 'ward', 'one', 'nine', 'six', 'eight', 'the', 'love', 'girl', 'and', 'the', 'innocent', 'one', 'nine', 'six', 'nine', 'august', 'one', 'nine', 'one', 'four', 'one', 'nine', 'seven', 'one', 'the', 'beginning', 'of', 'a', 'history', 'of', 'the', 'birth', 'of', 'the', 'ussr', 'in', 'an', 'historical', 'novel', 'the', 'novel', 'centers', 'on', 'the', 'disastrous', 'loss', 'in', 'the', 'battle', 'of', 'tannenberg', 'one', 'nine', 'one', 'four', 'in', 'august', 'one', 'nine', 'one', 'four', 'other', 'works', 'similarly', 'titled', 'follow', 'the', 'story', 'the', 'gulag', 'archipelago', 'three', 'volumes', 'one', 'nine', 'seven', 'three', 'seven', 'eight', 'not', 'a', 'memoir', 'but', 'a', 'history', 'of', 'the', 'entire', 'process', 'of', 'developing', 'and', 'administering', 'a', 'police', 'state', 'in', 'the', 'soviet', 'union', 'prussian', 'nights', 'one', 'nine', 'seven', 'four', 'aleksandr', 'isaevich', 'solzhenitsyn', 'a', 'letter', 'to', 'the', 'soviet', 'leaders', 'collins', 'harvill', 'press', 'one', 'nine', 'seven', 'four', 'isbn', 'zero', 'zero', 'six', 'zero', 'one', 'three', 'nine', 'one', 'three', 'seven', 'the', 'oak', 'and', 'the', 'calf', 'one', 'nine', 'seven', 'five', 'lenin', 'in', 'zurich', 'one', 'nine', 'seven', 'six', 'the', 'mortal', 'danger', 'misconceptions', 'about', 'soviet', 'russia', 'and', 'the', 'threat', 'to', 'america', 'one', 'nine', 'eight', 'zero', 'november', 'one', 'nine', 'one', 'six', 'one', 'nine', 'eight', 'three', 'victory', 'celebration', 'one', 'nine', 'eight', 'three', 'prisoners', 'one', 'nine', 'eight', 'three', 'rebuilding', 'russia', 'one', 'nine', 'nine', 'zero', 'march', 'one', 'nine', 'one', 'seven', 'april', 'one', 'nine', 'one', 'seven', 'the', 'russian', 'question', 'one', 'nine', 'nine', 'five', 'invisible', 'allies', 'one', 'nine', 'nine', 'seven', 'two', 'hundred', 'years', 'together', 'on', 'russian', 'jewish', 'relations', 'since', 'one', 'seven', 'seven', 'two', 'aroused', 'ambiguous', 'public', 'response', 'external', 'links', 'the', 'nobel', 'prize', 'internet', 'archive', 's', 'page', 'on', 'solzhenitsyn', 'a', 'world', 'split', 'apart', 'solzhenitsyn', 's', 'one', 'nine', 'seven', 'eight', 'commencement', 'address', 'to', 'the', 'graduating', 'class', 'at', 'harvard', 'university', 'aleksandr', 'solzhenitsyn', 'one', 'nine', 'one', 'eight', 'births', 'living', 'people', 'humanitarians', 'nobel', 'prize', 'in', 'literature', 'winners', 'russian', 'novelists', 'russian', 'writers', 'soviet', 'dissidents', 'soviet', 'expellees', 'sharashka', 'inmates', 'russian', 'orthodox', 'christians', 'don', 'cossacks', 'this', 'article', 'is', 'about', 'the', 'scottish', 'city', 'for', 'other', 'uses', 'see', 'aberdeen', 'disambiguation', 'aberdeen', 's', 'location', 'in', 'scotland', 'aberdeen', 'scottish', 'gaelic', 'obar', 'dheathain', 'confluence', 'of', 'the', 'river', 'don', 'often', 'called', 'the', 'granite', 'city', 'is', 'scotland', 's', 'third', 'largest', 'city', 'with', 'a', 'population', 'of', 'two', 'one', 'two', 'one', 'two', 'five', 'and', 'the', 'greatest', 'part', 'of', 'the', 'unitary', 'council', 'area', 'named', 'the', 'city', 'of', 'aberdeen', 'which', 'is', 'surrounded', 'by', 'but', 'not', 'within', 'the', 'aberdeenshire', 'council', 'area', 'aberdeen', 'is', 'the', 'chief', 'commercial', 'centre', 'and', 'seaport', 'in', 'the', 'north', 'east', 'of', 'scotland', 'it', 'boasts', 'the', 'title', 'of', 'oil', 'capital', 'of', 'europe', 'thanks', 'to', 'the', 'plentiful', 'supply', 'of', 'crude', 'oil', 'in', 'the', 'north', 'sea', 'and', 'stands', 'on', 'a', 'bay', 'of', 'the', 'north', 'sea', 'between', 'the', 'mouths', 'of', 'the', 'rivers', 'don', 'and', 'dee', 'the', 'city', 'is', 'currently', 'run', 'by', 'a', 'coalition', 'of', 'two', 'zero', 'scottish', 'liberal', 'democrat', 'and', 'three', 'conservative', 'councillors', 'coat', 'of', 'arms', 'and', 'motto', 'the', 'coat', 'of', 'arms', 'shows', 'a', 'red', 'shield', 'bearing', 'three', 'triple', 'towered', 'castles', 'within', 'the', 'double', 'royal', 'tressure', 'it', 'is', 'widely', 'accepted', 'that', 'these', 'represent', 'the', 'fortifications', 'which', 'from', 'earliest', 'times', 'stood', 'on', 'the', 'three', 'hills', 'where', 'the', 'city', 'sprang', 'up', 'namely', 'castle', 'hill', 'the', 'port', 'or', 'windmill', 'hill', 'gallowgate', 'and', 'st', 'catherine', 's', 'hill', 'adelphi', 'the', 'arms', 'are', 'supported', 'by', 'two', 'leopards', 'one', 'either', 'side', 'and', 'above', 'the', 'scroll', 'with', 'the', 'words', 'bon', 'accord', 'legend', 'has', 'it', 'that', 'during', 'the', 'wars', 'of', 'scottish', 'independence', 'when', 'the', 'castle', 'of', 'aberdeen', 'was', 'stormed', 'and', 'the', 'english', 'troops', 'were', 'killed', 'all', 'in', 'one', 'night', 'the', 'watchword', 'to', 'initiate', 'the', 'campaign', 'was', 'bon', 'accord', 'and', 'it', 'is', 'from', 'this', 'massacre', 'that', 'the', 'coat', 'of', 'arms', 'and', 'the', 'motto', 'originated', 'history', 'aberdeen', 'grew', 'up', 'as', 'two', 'separate', 'burghs', 'old', 'aberdeen', 'at', 'the', 'mouth', 'of', 'the', 'don', 'and', 'new', 'aberdeen', 'a', 'fishing', 'and', 'trading', 'settlement', 'where', 'the', 'denburn', 'entered', 'the', 'dee', 'estuary', 'the', 'earliest', 'charter', 'was', 'granted', 'by', 'king', 'william', 'the', 'lion', 'about', 'one', 'one', 'seven', 'nine', 'confirming', 'the', 'corporate', 'rights', 'granted', 'by', 'david', 'i', 'the', 'city', 'received', 'other', 'royal', 'charters', 'later', 'in', 'one', 'three', 'one', 'nine', 'the', 'great', 'charter', 'of', 'robert', 'the', 'bruce', 'transformed', 'aberdeen', 'into', 'a', 'property', 'owning', 'and', 'financially', 'independent', 'community', 'bruce', 'had', 'a', 'high', 'regard', 'for', 'the', 'citizens', 'of', 'aberdeen', 'who', 'had', 'sheltered', 'him', 'in', 'his', 'days', 'of', 'outlawry', 'helped', 'him', 'win', 'the', 'battle', 'of', 'barra', 'and', 'slayed', 'the', 'english', 'garrison', 'at', 'the', 'castle', 'he', 'granted', 'aberdeen', 'with', 'the', 'nearby', 'forest', 'of', 'stocket', 'the', 'income', 'from', 'this', 'land', 'has', 'formed', 'the', 'basis', 'for', 'the', 'city', 's', 'common', 'good', 'fund', 'which', 'is', 'used', 'to', 'this', 'day', 'for', 'the', 'benefit', 'of', 'all', 'aberdonians', 'the', 'city', 'was', 'burned', 'by', 'edward', 'iii', 'of', 'england', 'in', 'one', 'three', 'three', 'six', 'but', 'was', 'soon', 'rebuilt', 'and', 'extended', 'and', 'called', 'new', 'aberdeen', 'for', 'many', 'centuries', 'the', 'city', 'was', 'subject', 'to', 'attacks', 'by', 'the', 'neighbouring', 'lords', 'and', 'was', 'strongly', 'fortified', 'but', 'the', 'gates', 'were', 'all', 'removed', 'by', 'one', 'seven', 'seven', 'zero', 'in', 'one', 'four', 'nine', 'seven', 'a', 'blockhouse', 'was', 'built', 'at', 'the', 'harbour', 'mouth', 'as', 'a', 'protection', 'against', 'the', 'english', 'during', 'the', 'scottish', 'civil', 'war', 'of', 'one', 'six', 'four', 'four', 'four', 'seven', 'between', 'the', 'royalists', 'and', 'covenanters', 'the', 'city', 'was', 'impartially', 'plundered', 'by', 'both', 'sides', 'in', 'one', 'six', 'four', 'four', 'it', 'was', 'taken', 'and', 'sacked', 'by', 'royalist', 'troops', 'comprising', 'of', 'irishmen', 'and', 'highlanders', 'after', 'the', 'battle', 'of', 'aberdeen', 'in', 'one', 'seven', 'one', 'five', 'the', 'earl', 'marischal', 'proclaimed', 'the', 'old', 'pretender', 'at', 'aberdeen', 'and', 'in', 'one', 'seven', 'four', 'five', 'the', 'duke', 'of', 'cumberland', 'resided', 'for', 'a', 'short', 'time', 'in', 'the', 'city', 'before', 'attacking', 'the', 'young', 'pretender', 'in', 'the', 'one', 'eight', 'th', 'century', 'a', 'new', 'town', 'hall', 'was', 'built', 'elegantly', 'furnished', 'with', 'a', 'marble', 'fireplace', 'from', 'holland', 'and', 'a', 'set', 'of', 'fine', 'crystal', 'chandeliers', 'and', 'sconces', 'the', 'latter', 'are', 'still', 'a', 'feature', 'in', 'the', 'town', 'house', 'this', 'century', 'also', 'saw', 'the', 'beginnings', 'of', 'social', 'services', 'for', 'the', 'infirmary', 'at', 'woolmanhill', 'which', 'was', 'opened', 'in', 'one', 'seven', 'four', 'two', 'and', 'the', 'lunatic', 'asylum', 'in', 'one', 'seven', 'seven', 'nine', 'the', 'one', 'nine', 'th', 'century', 'was', 'a', 'time', 'of', 'considerable', 'expansion', 'by', 'one', 'nine', 'zero', 'one', 'the', 'population', 'was', 'one', 'five', 'three', 'zero', 'zero', 'zero', 'and', 'the', 'city', 'covered', 'more', 'than', 'six', 'zero', 'zero', 'zero', 'acres', 'two', 'four', 'km', 'in', 'the', 'late', 'one', 'eight', 'th', 'century', 'the', 'council', 'embarked', 'on', 'a', 'scheme', 'of', 'road', 'improvements', 'and', 'by', 'one', 'eight', 'zero', 'five', 'george', 'street', 'king', 'street', 'and', 'union', 'street', 'were', 'open', 'the', 'latter', 'a', 'feat', 'of', 'extraordinary', 'engineering', 'skill', 'involving', 'the', 'partial', 'levelling', 'of', 'st', 'catherine', 's', 'hill', 'and', 'the', 'building', 'of', 'arches', 'to', 'carry', 'the', 'street', 'over', 'putachieside', 'the', 'denburn', 'valley', 'was', 'crossed', 'by', 'union', 'street', 'with', 'a', 'single', 'span', 'arch', 'of', 'one', 'three', 'zero', 'ft', 'four', 'zero', 'm', 'along', 'these', 'new', 'streets', 'was', 'built', 'the', 'nucleus', 'of', 'the', 'granite', 'city', 'in', 'buildings', 'designed', 'by', 'john', 'smith', 'and', 'archibald', 'simpson', 'the', 'increasing', 'economic', 'importance', 'of', 'aberdeen', 'and', 'the', 'development', 'of', 'the', 'shipbuilding', 'and', 'fishing', 'industries', 'brought', 'a', 'need', 'for', 'improved', 'harbour', 'facilities', 'during', 'this', 'century', 'much', 'of', 'the', 'harbour', 'as', 'it', 'exists', 'today', 'was', 'built', 'including', 'victoria', 'dock', 'the', 'south', 'breakwater', 'and', 'the', 'extension', 'to', 'the', 'north', 'pier', 'such', 'an', 'expensive', 'building', 'programme', 'had', 'of', 'course', 'repercussions', 'and', 'in', 'one', 'eight', 'one', 'seven', 'the', 'city', 'was', 'in', 'a', 'state', 'of', 'bankruptcy', 'however', 'a', 'recovery', 'was', 'made', 'in', 'the', 'general', 'prosperity', 'which', 'followed', 'the', 'napoleonic', 'wars', 'improvements', 'in', 'street', 'lighting', 'came', 'in', 'one', 'eight', 'two', 'four', 'with', 'the', 'advent', 'of', 'gas', 'and', 'a', 'vast', 'improvement', 'was', 'made', 'to', 'the', 'water', 'supply', 'in', 'one', 'eight', 'three', 'zero', 'when', 'water', 'was', 'pumped', 'from', 'the', 'dee', 'to', 'a', 'reservoir', 'in', 'union', 'place', 'an', 'underground', 'sewerage', 'system', 'was', 'begun', 'in', 'one', 'eight', 'six', 'five', 'to', 'replace', 'the', 'open', 'sewers', 'which', 'previously', 'ran', 'along', 'certain', 'of', 'the', 'streets', 'background', 'university', 'of', 'aberdeen', 'elphinstone', 'hall', 'though', 'old', 'aberdeen', 'extending', 'from', 'the', 'area', 'surrounding', 'the', 'university', 'of', 'aberdeen', 'to', 'the', 'southern', 'banks', 'of', 'the', 'don', 'had', 'a', 'separate', 'charter', 'privileges', 'and', 'history', 'the', 'distinction', 'between', 'it', 'and', 'new', 'aberdeen', 'can', 'no', 'longer', 'be', 'said', 'to', 'exist', 'aberdeen', 's', 'popular', 'name', 'of', 'the', 'granite', 'city', 'is', 'justified', 'by', 'the', 'fact', 'that', 'the', 'bulk', 'of', 'the', 'city', 'is', 'built', 'of', 'granite', 'but', 'to', 'appreciate', 'its', 'more', 'poetical', 'designation', 'of', 'the', 'silver', 'city', 'by', 'the', 'golden', 'sands', 'it', 'should', 'be', 'seen', 'after', 'a', 'heavy', 'rainfall', 'when', 'its', 'public', 'buildings', 'and', 'countless', 'houses', 'gleam', 'pure', 'and', 'white', 'under', 'brilliant', 'sunshine', 'it', 'is', 'also', 'known', 'as', 'the', 'flower', 'of', 'scotland', 'as', 'aberdeen', 'has', 'long', 'been', 'famous', 'for', 'its', 'outstanding', 'parks', 'gardens', 'and', 'floral', 'displays', 'that', 'include', 'two', 'million', 'roses', 'one', 'one', 'million', 'daffodils', 'and', 'three', 'million', 'crocuses', 'aberdeen', 'has', 'won', 'the', 'royal', 'horticultural', 'society', 's', 'britain', 'in', 'bloom', 'contest', 'on', 'numerous', 'occasions', 'and', 'at', 'one', 'time', 'was', 'banned', 'from', 'entering', 'to', 'enable', 'other', 'cities', 'to', 'win', 'on', 'five', 'march', 'two', 'zero', 'zero', 'three', 'aberdeen', 'was', 'granted', 'fairtrade', 'city', 'status', 'the', 'area', 'of', 'the', 'city', 'extends', 'to', 'seven', 'one', 'two', 'two', 'square', 'miles', 'one', 'eight', 'four', 'four', 'six', 'km', 'and', 'includes', 'the', 'former', 'burghs', 'of', 'old', 'aberdeen', 'new', 'aberdeen', 'woodside', 'and', 'the', 'district', 'of', 'torry', 'to', 'the', 'south', 'of', 'the', 'dee', 'the', 'city', 'was', 'first', 'incorporated', 'in', 'one', 'eight', 'nine', 'one', 'the', 'city', 'is', 'represented', 'in', 'westminster', 'by', 'two', 'mps', 'who', 'are', 'both', 'from', 'the', 'labour', 'party', 'and', 'in', 'the', 'scottish', 'parliament', 'by', 'three', 'msps', 'one', 'labour', 'one', 'snp', 'and', 'one', 'liberal', 'democrat', 'the', 'city', 'council', 'comprises', 'forty', 'three', 'councillors', 'who', 'represent', 'the', 'city', 's', 'wards', 'and', 'is', 'headed', 'by', 'the', 'lord', 'provost', 'the', 'current', 'lord', 'provost', 'is', 'john', 'reynolds', 'as', 'of', 'one', 'nine', 'nine', 'six', 'aberdeen', 'has', 'been', 'governed', 'by', 'the', 'unitary', 'aberdeen', 'city', 'council', 'and', 'no', 'longer', 'has', 'any', 'direct', 'control', 'over', 'the', 'neighbouring', 'area', 'of', 'aberdeenshire', 'although', 'the', 'headquarters', 'of', 'aberdeenshire', 'council', 'are', 'located', 'within', 'the', 'city', 's', 'boundaries', 'aberdeen', 'has', 'good', 'links', 'to', 'the', 'rest', 'of', 'scotland', 'and', 'the', 'uk', 'the', 'main', 'road', 'south', 'to', 'edinburgh', 'is', 'a', 'fast', 'dual', 'carriageway', 'and', 'plans', 'are', 'in', 'hand', 'to', 'build', 'a', 'bypass', 'round', 'the', 'city', 'aberdeen', 'is', 'served', 'by', 'good', 'rail', 'links', 'to', 'the', 'south', 'and', 'north', 'to', 'inverness', 'all', 'services', 'running', 'from', 'the', 'railway', 'station', 'in', 'the', 'city', 'centre', 'although', 'there', 'are', 'no', 'direct', 'sea', 'links', 'south', 'any', 'more', 'there', 'is', 'still', 'a', 'ferry', 'service', 'running', 'to', 'orkney', 'and', 'shetland', 'aberdeen', 'airport', 'is', 'located', 'at', 'dyce', 'about', 'five', 'miles', 'eight', 'km', 'north', 'west', 'of', 'the', 'city', 'centre', 'and', 'has', 'frequent', 'services', 'to', 'london', 'and', 'several', 'international', 'destinations', 'the', 'mean', 'temperature', 'is', 'eight', 'c', 'four', 'seven', 'f', 'and', 'it', 'varies', 'between', 'zero', 'four', 'c', 'three', 'two', 'seven', 'f', 'in', 'winter', 'and', 'one', 'seven', 'six', 'c', 'six', 'three', 'seven', 'f', 'in', 'summer', 'the', 'average', 'yearly', 'rainfall', 'is', 'eight', 'one', 'six', 'mm', 'the', 'city', 'is', 'one', 'of', 'the', 'healthiest', 'in', 'scotland', 'art', 'and', 'architecture', 'union', 'street', 'aberdeen', 'market', 'cross', 'marischal', 'college', 'as', 'seen', 'from', 'upperkirkgate', 'union', 'street', 'is', 'one', 'of', 'the', 'most', 'imposing', 'and', 'famous', 'thoroughfares', 'in', 'britain', 'from', 'castle', 'street', 'it', 'runs', 'for', 'nearly', 'a', 'mile', 'one', 'five', 'km', 'is', 'seven', 'zero', 'ft', 'two', 'one', 'm', 'wide', 'and', 'originally', 'contained', 'the', 'principal', 'shops', 'and', 'most', 'of', 'the', 'public', 'buildings', 'all', 'of', 'granite', 'part', 'of', 'the', 'street', 'crosses', 'the', 'denburn', 'ravine', 'utilized', 'for', 'the', 'line', 'of', 'the', 'great', 'north', 'of', 'scotland', 'railway', 'by', 'union', 'bridge', 'a', 'fine', 'granite', 'arch', 'of', 'one', 'three', 'two', 'ft', 'four', 'zero', 'm', 'span', 'with', 'portions', 'of', 'the', 'older', 'town', 'still', 'fringing', 'the', 'gorge', 'five', 'zero', 'feet', 'one', 'five', 'm', 'below', 'the', 'level', 'of', 'union', 'street', 'union', 'street', 'was', 'built', 'from', 'one', 'eight', 'zero', 'one', 'to', 'one', 'eight', 'zero', 'five', 'and', 'named', 'after', 'the', 'one', 'eight', 'zero', 'zero', 'act', 'of', 'union', 'with', 'ireland', 'amongst', 'the', 'notable', 'buildings', 'in', 'the', 'street', 'are', 'the', 'town', 'and', 'county', 'bank', 'the', 'music', 'hall', 'one', 'eight', 'two', 'two', 'the', 'trinity', 'hall', 'of', 'the', 'incorporated', 'trades', 'originating', 'between', 'one', 'three', 'nine', 'eight', 'and', 'one', 'five', 'two', 'seven', 'now', 'a', 'shopping', 'mall', 'the', 'palace', 'hotel', 'the', 'former', 'office', 'of', 'the', 'northern', 'assurance', 'company', 'and', 'the', 'national', 'bank', 'of', 'scotland', 'in', 'castle', 'street', 'a', 'continuation', 'eastwards', 'of', 'union', 'street', 'is', 'the', 'town', 'house', 'the', 'headquarters', 'of', 'the', 'city', 'council', 'one', 'of', 'the', 'most', 'splendid', 'granite', 'edifices', 'in', 'scotland', 'in', 'the', 'franco', 'scottish', 'gothic', 'style', 'it', 'contains', 'the', 'great', 'hall', 'with', 'an', 'open', 'timber', 'ceiling', 'and', 'oak', 'panelled', 'walls', 'the', 'sheriff', 'court', 'house', 'the', 'town', 'and', 'county', 'hall', 'with', 'portraits', 'of', 'prince', 'albert', 'the', 'four', 'th', 'earl', 'of', 'aberdeen', 'various', 'lord', 'provosts', 'and', 'other', 'distinguished', 'citizens', 'in', 'the', 'vestibule', 'of', 'the', 'entrance', 'corridor', 'stands', 'a', 'suit', 'of', 'black', 'armour', 'believed', 'to', 'have', 'been', 'worn', 'by', 'provost', 'sir', 'robert', 'davidson', 'who', 'fought', 'in', 'the', 'battle', 'of', 'harlaw', 'in', 'one', 'four', 'one', 'one', 'on', 'the', 'south', 'western', 'corner', 'is', 'the', 'two', 'one', 'zero', 'ft', 'six', 'four', 'm', 'grand', 'tower', 'which', 'commands', 'a', 'fine', 'view', 'of', 'the', 'city', 'and', 'surrounding', 'country', 'adjoining', 'the', 'town', 'house', 'is', 'the', 'old', 'north', 'of', 'scotland', 'bank', 'building', 'in', 'greek', 'revival', 'style', 'this', 'building', 'is', 'now', 'a', 'pub', 'named', 'the', 'archibald', 'simpson', 'after', 'its', 'original', 'architect', 'on', 'the', 'opposite', 'side', 'of', 'the', 'street', 'is', 'the', 'fine', 'building', 'of', 'the', 'union', 'bank', 'at', 'the', 'upper', 'end', 'of', 'castlegate', 'stands', 'the', 'salvation', 'army', 'citadel', 'an', 'effective', 'castellated', 'mansion', 'on', 'the', 'site', 'of', 'the', 'medieval', 'castle', 'in', 'front', 'of', 'it', 'is', 'the', 'market', 'cross', 'built', 'in', 'one', 'six', 'eight', 'six', 'by', 'john', 'montgomery', 'a', 'native', 'architect', 'this', 'open', 'arched', 'structure', 'two', 'one', 'ft', 'six', 'm', 'in', 'diameter', 'and', 'one', 'eight', 'ft', 'five', 'm', 'high', 'comprises', 'a', 'large', 'hexagonal', 'base', 'from', 'the', 'centre', 'of', 'which', 'rises', 'a', 'shaft', 'with', 'a', 'corinthian', 'capital', 'on', 'which', 'is', 'the', 'royal', 'unicorn', 'the', 'base', 'is', 'highly', 'decorated', 'including', 'medallions', 'illustrating', 'scottish', 'monarchs', 'from', 'james', 'i', 'to', 'james', 'vii', 'to', 'the', 'east', 'of', 'castle', 'street', 'were', 'the', 'military', 'barracks', 'which', 'were', 'demolished', 'in', 'one', 'nine', 'six', 'five', 'and', 'replaced', 'with', 'two', 'tower', 'blocks', 'marischal', 'college', 'on', 'broad', 'street', 'opened', 'by', 'king', 'edward', 'vii', 'in', 'one', 'nine', 'zero', 'six', 'is', 'the', 'second', 'largest', 'granite', 'building', 'in', 'the', 'world', 'after', 'the', 'escorial', 'madrid', 'and', 'is', 'one', 'of', 'the', 'most', 'splendid', 'examples', 'of', 'edwardian', 'architecture', 'in', 'britain', 'the', 'architect', 'alexander', 'marshall', 'mackenzie', 'a', 'native', 'of', 'aberdeen', 'adapted', 'his', 'material', 'white', 'granite', 'to', 'the', 'design', 'of', 'the', 'building', 'with', 'the', 'originality', 'of', 'genius', 'this', 'magnificent', 'building', 'is', 'sadly', 'no', 'longer', 'a', 'seat', 'of', 'learning', 'and', 'is', 'under', 'renovation', 'as', 'the', 'new', 'home', 'of', 'aberdeen', 'city', 'council', 'there', 'are', 'no', 'tramways', 'in', 'aberdeen', 'the', 'last', 'tram', 'went', 'through', 'the', 'streets', 'on', 'may', 'three', 'one', 'nine', 'five', 'eight', 'all', 'trams', 'except', 'one', 'were', 'scrapped', 'the', 'last', 'tram', 'is', 'on', 'display', 'in', 'the', 'transport', 'museum', 'in', 'alford', 'aberdeenshire', 'churches', 'like', 'most', 'scottish', 'burghs', 'aberdeen', 'has', 'many', 'churches', 'however', 'in', 'the', 'middle', 'ages', 'there', 'was', 'only', 'one', 'burgh', 'kirk', 'st', 'nicholas', 'one', 'of', 'scotland', 's', 'largest', 'parish', 'churches', 'like', 'a', 'number', 'of', 'other', 'scottish', 'kirks', 'it', 'was', 'subdivided', 'after', 'the', 'reformation', 'in', 'this', 'case', 'into', 'the', 'east', 'and', 'west', 'churches', 'the', 'large', 'kirkyard', 'of', 'st', 'nicholas', 'kirk', 'is', 'separated', 'from', 'union', 'street', 'by', 'a', 'one', 'four', 'seven', 'ft', 'four', 'five', 'm', 'long', 'ionic', 'facade', 'built', 'in', 'one', 'eight', 'three', 'zero', 'the', 'divided', 'church', 'within', 'with', 'a', 'central', 'tower', 'and', 'spire', 'forms', 'one', 'continuous', 'building', 'two', 'two', 'zero', 'ft', 'six', 'seven', 'm', 'in', 'length', 'it', 'contains', 'the', 'drum', 'aisle', 'the', 'ancient', 'burial', 'place', 'of', 'the', 'irvines', 'of', 'drum', 'castle', 'and', 'the', 'collison', 'aisle', 'which', 'divide', 'the', 'two', 'congregations', 'and', 'which', 'formed', 'the', 'transepts', 'of', 'the', 'one', 'two', 'th', 'century', 'church', 'of', 'st', 'nicholas', 'architectural', 'detail', 'survives', 'from', 'this', 'period', 'the', 'west', 'church', 'was', 'built', 'in', 'one', 'seven', 'seven', 'five', 'in', 'the', 'italian', 'style', 'on', 'the', 'site', 'of', 'the', 'medieval', 'nave', 'the', 'east', 'originally', 'in', 'one', 'eight', 'three', 'four', 'in', 'gothic', 'revival', 'style', 'on', 'the', 'site', 'of', 'the', 'choir', 'in', 'one', 'eight', 'seven', 'four', 'a', 'fire', 'destroyed', 'the', 'east', 'church', 'and', 'the', 'old', 'central', 'tower', 'with', 'its', 'fine', 'peal', 'of', 'nine', 'bells', 'one', 'of', 'which', 'laurence', 'or', 'lowrie', 'was', 'four', 'ft', 'one', 'two', 'm', 'in', 'diameter', 'at', 'the', 'mouth', 'three', 'five', 'ft', 'one', 'one', 'm', 'high', 'and', 'very', 'thick', 'the', 'church', 'was', 'rebuilt', 'and', 'a', 'massive', 'granite', 'tower', 'erected', 'over', 'the', 'intervening', 'aisles', 'a', 'new', 'peal', 'of', 'three', 'six', 'bells', 'cast', 'in', 'the', 'netherlands', 'being', 'installed', 'to', 'commemorate', 'the', 'victorian', 'jubilee', 'of', 'one', 'eight', 'eight', 'seven', 'these', 'were', 'replaced', 'in', 'one', 'nine', 'five', 'zero', 'with', 'a', 'carillion', 'of', 'four', 'eight', 'bells', 'the', 'largest', 'in', 'the', 'united', 'kingdom', 'the', 'diocese', 'of', 'aberdeen', 'is', 'said', 'to', 'have', 'been', 'first', 'founded', 'at', 'mortlach', 'in', 'banffshire', 'by', 'malcolm', 'ii', 'one', 'zero', 'zero', 'five', 'three', 'four', 'to', 'celebrate', 'his', 'victory', 'there', 'over', 'the', 'danes', 'but', 'in', 'one', 'one', 'three', 'seven', 'david', 'i', 'one', 'one', 'two', 'four', 'five', 'three', 'transferred', 'the', 'bishopric', 'to', 'old', 'aberdeen', 'and', 'twenty', 'years', 'later', 'st', 'machar', 's', 'cathedral', 'situated', 'a', 'few', 'hundred', 'yards', 'from', 'the', 'don', 'was', 'begun', 'save', 'during', 'the', 'episcopate', 'of', 'william', 'elphinstone', 'one', 'four', 'eight', 'four', 'one', 'five', 'one', 'one', 'the', 'building', 'progressed', 'slowly', 'gavin', 'dunbar', 'who', 'followed', 'him', 'in', 'one', 'five', 'one', 'eight', 'completed', 'the', 'structure', 'by', 'adding', 'the', 'two', 'western', 'spires', 'and', 'the', 'southern', 'transept', 'the', 'church', 'suffered', 'severely', 'at', 'the', 'reformation', 'but', 'is', 'still', 'used', 'by', 'the', 'church', 'of', 'scotland', 'as', 'a', 'parish', 'church', 'the', 'choir', 'was', 'abandoned', 'to', 'decay', 'and', 'the', 'central', 'tower', 'collapsed', 'in', 'the', 'course', 'of', 'the', 'one', 'seven', 'th', 'century', 'it', 'now', 'consists', 'of', 'the', 'nave', 'and', 'the', 'two', 'storeyed', 'entrance', 'porch', 'the', 'former', 'in', 'use', 'as', 'the', 'parish', 'church', 'and', 'the', 'lower', 'walls', 'of', 'the', 'transepts', 'these', 'are', 'under', 'the', 'care', 'of', 'historic', 'scotland', 'and', 'contain', 'an', 'important', 'group', 'of', 'late', 'medieval', 'bishops', 'tombs', 'protected', 'from', 'the', 'weather', 'by', 'modern', 'canopies', 'the', 'cathedral', 'is', 'chiefly', 'built', 'of', 'outlayer', 'granite', 'and', 'though', 'one', 'of', 'the', 'plainest', 'cathedrals', 'in', 'scotland', 'its', 'stately', 'simplicity', 'and', 'severe', 'symmetry', 'lend', 'it', 'unique', 'distinction', 'on', 'the', 'unique', 'flat', 'panelled', 'ceiling', 'of', 'the', 'nave', 'first', 'half', 'of', 'the', 'one', 'six', 'th', 'century', 'are', 'the', 'heraldic', 'shields', 'of', 'the', 'contemporary', 'kings', 'of', 'europe', 'and', 'the', 'chief', 'earls', 'and', 'bishops', 'of', 'scotland', 'the', 'great', 'west', 'window', 'contains', 'modern', 'painted', 'glass', 'of', 'excellent', 'colour', 'and', 'design', 'the', 'cathedral', 'contains', 'a', 'number', 'of', 'well', 'preserved', 'grave', 'monuments', 'to', 'the', 'late', 'medieval', 'clergy', 'a', 'rare', 'romanesque', 'cross', 'head', 'and', 'an', 'early', 'christian', 'cross', 'slab', 'from', 'seaton', 'in', 'the', 'middle', 'ages', 'aberdeen', 'contained', 'houses', 'of', 'the', 'carmelites', 'whitefriars', 'and', 'franciscans', 'greyfriars', 'the', 'latter', 'surviving', 'in', 'modified', 'form', 'as', 'the', 'chapel', 'of', 'marischal', 'college', 'as', 'late', 'as', 'the', 'early', 'two', 'zero', 'th', 'century', 'no', 'remains', 'above', 'ground', 'st', 'mary', 's', 'cathedral', 'is', 'the', 'roman', 'catholic', 'cathedral', 'a', 'gothic', 'building', 'it', 'was', 'erected', 'in', 'one', 'eight', 'five', 'nine', 'st', 'andrew', 's', 'cathedral', 'is', 'the', 'scottish', 'episcopal', 'cathedral', 'the', 'episcopal', 'church', 'in', 'aberdeen', 'is', 'notable', 'for', 'having', 'consecrated', 'the', 'first', 'bishop', 'of', 'the', 'episcopal', 'church', 'in', 'the', 'united', 'states', 'of', 'america', 'samuel', 'seabury', 'web', 'link', 'the', 'cathedral', 'was', 'rennovated', 'in', 'the', 'one', 'nine', 'three', 'zero', 's', 'to', 'commemorate', 'the', 'one', 'five', 'zero', 'th', 'anniversary', 'of', 'seabury', 's', 'consecration', 'the', 'memorial', 'was', 'dedicated', 'with', 'a', 'ceremony', 'attended', 'by', 'the', 'then', 'u', 's', 'ambassador', 'to', 'the', 'uk', 'joseph', 'p', 'kennedy', 'sr', 'the', 'cemeteries', 'are', 'st', 'peter', 's', 'in', 'old', 'aberdeen', 'trinity', 'near', 'the', 'links', 'nellfield', 'at', 'the', 'junction', 'of', 'great', 'western', 'and', 'holburn', 'roads', 'allenvale', 'adjoining', 'duthie', 'park', 'and', 'the', 'most', 'recent', 'facilities', 'at', 'dyce', 'there', 'is', 'also', 'a', 'crematorium', 'and', 'cemetery', 'near', 'hazlehead', 'education', 'the', 'first', 'of', 'aberdeen', 's', 'two', 'universities', 'king', 's', 'college', 'was', 'founded', 'in', 'one', 'four', 'nine', 'five', 'by', 'william', 'elphinstone', 'one', 'four', 'three', 'one', 'one', 'five', 'one', 'four', 'bishop', 'of', 'aberdeen', 'and', 'chancellor', 'of', 'scotland', 'marischal', 'college', 'was', 'founded', 'in', 'new', 'aberdeen', 'by', 'george', 'keith', 'five', 'th', 'earl', 'marischal', 'of', 'scotland', 'in', 'one', 'five', 'nine', 'three', 'these', 'foundations', 'were', 'amalgamated', 'to', 'form', 'the', 'present', 'university', 'of', 'aberdeen', 'in', 'one', 'eight', 'six', 'zero', 'king', 's', 'and', 'marischal', 'were', 'scotland', 's', 'third', 'and', 'fifth', 'oldest', 'universities', 'respectively', 'and', 'the', 'fifth', 'and', 'seventh', 'oldest', 'in', 'britain', 'as', 'a', 'whole', 'robert', 'gordon', 's', 'college', 'originally', 'robert', 'gordon', 's', 'hospital', 'was', 'founded', 'in', 'one', 'seven', 'two', 'nine', 'by', 'the', 'merchant', 'robert', 'gordon', 'grandson', 'of', 'the', 'map', 'maker', 'robert', 'gordon', 'of', 'straloch', 'and', 'was', 'further', 'endowed', 'in', 'one', 'eight', 'one', 'six', 'by', 'alexander', 'simpson', 'of', 'collyhill', 'originally', 'devoted', 'to', 'the', 'instruction', 'and', 'maintenance', 'of', 'the', 'sons', 'of', 'poor', 'burgesses', 'of', 'guild', 'and', 'trade', 'in', 'the', 'city', 'it', 'was', 'reorganized', 'in', 'one', 'eight', 'eight', 'one', 'as', 'a', 'day', 'and', 'night', 'school', 'for', 'secondary', 'and', 'technical', 'education', 'and', 'in', 'the', 'one', 'nine', 'nine', 'zero', 's', 'became', 'co', 'educational', 'and', 'a', 'day', 'only', 'school', 'it', 'also', 'produced', 'the', 'robert', 'gordon', 'institute', 'of', 'technology', 'which', 'in', 'one', 'nine', 'nine', 'two', 'became', 'the', 'robert', 'gordon', 'university', 'gray', 's', 'school', 'of', 'art', 'founded', 'in', 'one', 'eight', 'eight', 'six', 'is', 'one', 'of', 'the', 'oldest', 'established', 'colleges', 'of', 'art', 'in', 'the', 'uk', 'it', 'is', 'situated', 'in', 'beautiful', 'grounds', 'at', 'garthdee', 'on', 'the', 'edge', 'of', 'the', 'city', 'it', 'is', 'now', 'incorporated', 'into', 'robert', 'gordon', 'university', 'aberdeen', 'college', 'has', 'several', 'campuses', 'in', 'aberdeen', 'and', 'offers', 'a', 'wide', 'variety', 'of', 'part', 'time', 'and', 'full', 'time', 'courses', 'leading', 'to', 'several', 'different', 'qualifications', 'it', 'the', 'largest', 'further', 'education', 'institution', 'in', 'scotland', 'northern', 'college', 'was', 'a', 'teacher', 'training', 'college', 'with', 'campuses', 'in', 'aberdeen', 'and', 'dundee', 'in', 'two', 'zero', 'zero', 'zero', 'the', 'aberdeen', 'campus', 'of', 'northern', 'college', 'became', 'the', 'university', 'of', 'aberdeen', 'school', 'of', 'education', 'aberdeen', 'grammar', 'school', 'now', 'comprehensive', 'despite', 'its', 'name', 'founded', 'in', 'one', 'two', 'six', 'three', 'and', 'one', 'of', 'the', 'oldest', 'schools', 'in', 'britain', 'was', 'removed', 'in', 'one', 'eight', 'six', 'one', 'one', 'eight', 'six', 'three', 'from', 'its', 'old', 'quarters', 'in', 'schoolhill', 'to', 'a', 'large', 'new', 'building', 'in', 'the', 'scottish', 'baronial', 'style', 'off', 'skene', 'street', 'one', 'famous', 'alumnus', 'of', 'the', 'grammar', 'school', 'is', 'lord', 'byron', 'there', 'are', 'one', 'two', 'secondary', 'schools', 'and', 'five', 'four', 'primary', 'schools', 'which', 'are', 'run', 'by', 'the', 'city', 'council', 'in', 'the', 'city', 'there', 'are', 'also', 'a', 'small', 'number', 'of', 'private', 'schools', 'albyn', 'school', 'for', 'girls', 'co', 'ed', 'as', 'of', 'two', 'zero', 'zero', 'six', 'and', 'st', 'margaret', 's', 'girls', 'school', 'both', 'in', 'the', 'beautiful', 'granite', 'queen', 's', 'road', 'area', 'just', 'west', 'of', 'the', 'city', 'centre', 'are', 'two', 'of', 'the', 'better', 'private', 'schools', 'in', 'scotland', 'there', 's', 'also', 'a', 'small', 'french', 'language', 'school', 'one', 'of', 'the', 'few', 'in', 'britain', 'catering', 'to', 'the', 'oil', 'industry', 'families', 'an', 'ib', 'international', 'school', 'and', 'a', 'steiner', 'school', 'at', 'blairs', 'in', 'kincardineshire', 'five', 'miles', 'eight', 'km', 's', 'w', 'of', 'aberdeen', 'is', 'st', 'mary', 's', 'roman', 'catholic', 'college', 'currently', 'two', 'zero', 'zero', 'six', 'disused', 'built', 'for', 'the', 'training', 'of', 'young', 'men', 'intended', 'for', 'the', 'priesthood', 'with', 'plans', 'to', 'turn', 'it', 'into', 'a', 'hotel', 'culture', 'his', 'majesty', 's', 'theatre', 'aberdeen', 'the', 'city', 'is', 'blessed', 'with', 'amenities', 'which', 'cover', 'a', 'wide', 'range', 'of', 'cultural', 'activities', 'and', 'boasts', 'a', 'selection', 'of', 'museums', 'the', 'aberdeen', 'art', 'gallery', 'houses', 'a', 'collection', 'of', 'impressionist', 'victorian', 'scottish', 'and', 'two', 'zero', 'th', 'century', 'british', 'paintings', 'as', 'well', 'as', 'collections', 'of', 'silver', 'and', 'glass', 'it', 'also', 'includes', 'the', 'alexander', 'macdonald', 'bequest', 'a', 'collection', 'of', 'late', 'one', 'nine', 'th', 'century', 'works', 'donated', 'by', 'the', 'museum', 's', 'first', 'benefactor', 'and', 'a', 'constantly', 'changing', 'collection', 'of', 'contemporary', 'work', 'and', 'regular', 'visiting', 'exhibitions', 'the', 'aberdeen', 'maritime', 'museum', 'located', 'in', 'shiprow', 'tells', 'the', 'story', 'of', 'aberdeen', 's', 'links', 'with', 'the', 'sea', 'from', 'the', 'days', 'of', 'sail', 'and', 'clipper', 'ships', 'to', 'the', 'latest', 'oil', 'and', 'gas', 'exploration', 'technology', 'the', 'museum', 'includes', 'a', 'range', 'of', 'interactive', 'exhibits', 'and', 'models', 'including', 'an', 'eight', 'five', 'm', 'two', 'eight', 'feet', 'high', 'model', 'of', 'the', 'murchison', 'oil', 'production', 'platform', 'and', 'a', 'one', 'nine', 'th', 'century', 'assembly', 'taken', 'from', 'rattray', 'head', 'lighthouse', 'provost', 'ross', 'house', 'is', 'the', 'second', 'oldest', 'dwelling', 'house', 'in', 'the', 'city', 'it', 'was', 'built', 'in', 'one', 'five', 'nine', 'three', 'and', 'became', 'the', 'residence', 'of', 'provost', 'john', 'ross', 'of', 'arnage', 'in', 'one', 'seven', 'zero', 'two', 'the', 'house', 'retains', 'some', 'original', 'medieval', 'features', 'including', 'a', 'kitchen', 'fire', 'places', 'and', 'beam', 'and', 'board', 'ceilings', 'the', 'gordon', 'highlanders', 'regimental', 'museum', 'tells', 'the', 'story', 'of', 'one', 'of', 'scotland', 's', 'best', 'known', 'regiments', 'the', 'marischal', 'museum', 'holds', 'the', 'principal', 'collections', 'of', 'the', 'university', 'of', 'aberdeen', 'comprising', 'some', 'eight', 'zero', 'zero', 'zero', 'zero', 'items', 'in', 'the', 'areas', 'of', 'fine', 'art', 'scottish', 'history', 'a', 'section', 'is', 'reserved', 'for', 'cricket', 'and', 'football', 'hazlehead', 'park', 'is', 'a', 'large', 'heavily', 'wooded', 'park', 'on', 'the', 'outskirts', 'of', 'the', 'city', 'it', 'is', 'popular', 'with', 'sports', 'enthusiasts', 'walkers', 'naturalists', 'and', 'picnickers', 'around', 'the', 'park', 'are', 'football', 'pitches', 'two', 'golf', 'courses', 'pitch', 'and', 'putt', 'course', 'a', 'horseriding', 'school', 'and', 'woods', 'for', 'walking', 'the', 'park', 'has', 'a', 'significant', 'collection', 'of', 'sculpture', 'by', 'a', 'range', 'of', 'artists', 'and', 'heritage', 'items', 'which', 'have', 'been', 'rescued', 'from', 'various', 'places', 'within', 'the', 'city', 'it', 'also', 'features', 'scotland', 's', 'oldest', 'maze', 'first', 'planted', 'in', 'one', 'nine', 'three', 'eight', 'aberdeen', 'beach', 'queen', 's', 'links', 'is', 'a', 'well', 'loved', 'and', 'extremely', 'popular', 'recreational', 'area', 'of', 'the', 'city', 'visited', 'by', 'holidaymakers', 'and', 'city', 'residents', 'all', 'year', 'round', 'the', 'area', 'is', 'well', 'provided', 'with', 'sporting', 'and', 'recreational', 'facilities', 'including', 'the', 'beach', 'leisure', 'centre', 'and', 'the', 'lynx', 'ice', 'arena', 'cafes', 'restaurants', 'a', 'fun', 'fair', 'a', 'multiplex', 'cinema', 'a', 'nightclub', 'and', 'other', 'attractions', 'johnston', 'gardens', 'is', 'also', 'a', 'great', 'park', 'worth', 'visiting', 'situated', 'behind', 'queen', 's', 'road', 'and', 'just', 'beside', 'nellfield', 'terrace', 'it', 'hosts', 'many', 'different', 'types', 'of', 'flowers', 'and', 'plants', 'which', 'have', 'been', 'renowned', 'for', 'their', 'beauty', 'johnston', 'gardens', 'also', 'won', 'many', 'britain', 'in', 'bloom', 'competitions', 'aberdeen', 'itself', 'has', 'won', 'the', 'title', 'of', 'best', 'city', 'in', 'bloom', 'for', 'nine', 'nine', 'years', 'in', 'a', 'row', 'seaton', 'park', 'two', 'seven', 'zero', 'zero', 'zero', 'zero', 'm', 'is', 'located', 'in', 'the', 'north', 'of', 'the', 'city', 'and', 'was', 'purchased', 'by', 'the', 'council', 'in', 'one', 'nine', 'four', 'seven', 'from', 'major', 'hay', 'beside', 'the', 'park', 's', 'south', 'gates', 'stands', 'st', 'machar', 's', 'cathedral', 'there', 'are', 'flowerbeds', 'and', 'a', 'walled', 'garden', 'beside', 'the', 'old', 'stables', 'which', 'have', 'been', 'converted', 'for', 'housing', 'the', 'cathedral', 'walk', 'is', 'always', 'a', 'resplendent', 'sight', 'in', 'midsummer', 'and', 'one', 'of', 'the', 'most', 'popular', 'with', 'visitors', 'to', 'the', 'city', 'seaton', 'park', 'is', 'also', 'an', 'access', 'point', 'for', 'the', 'river', 'don', 'and', 'there', 'is', 'a', 'walk', 'from', 'the', 'park', 'to', 'the', 'city', 'boundary', 'union', 'terrace', 'gardens', 'forms', 'a', 'popular', 'rendezvous', 'location', 'in', 'the', 'heart', 'of', 'the', 'city', 'statues', 'adjacent', 'to', 'union', 'terrace', 'gardens', 'stands', 'a', 'colossal', 'bronze', 'statue', 'of', 'william', 'wallace', 'by', 'w', 'g', 'stevenson', 'also', 'nearby', 'these', 'same', 'gardens', 'are', 'a', 'bronze', 'statue', 'of', 'robert', 'burns', 'and', 'charles', 'marochetti', 's', 'seated', 'figure', 'of', 'prince', 'albert', 'in', 'front', 'of', 'robert', 'gordon', 's', 'college', 'is', 'the', 'bronze', 'statue', 'by', 't', 's', 'burnett', 'of', 'general', 'gordon', 'at', 'the', 'head', 'of', 'queen', 's', 'road', 'stands', 'the', 'bronze', 'statue', 'of', 'queen', 'victoria', 'erected', 'in', 'one', 'eight', 'nine', 'three', 'by', 'the', 'royal', 'tradesmen', 'of', 'the', 'city', 'near', 'the', 'cross', 'stands', 'the', 'granite', 'statue', 'of', 'george', 'gordon', 'five', 'th', 'duke', 'of', 'gordon', 'there', 'is', 'a', 'seven', 'zero', 'ft', 'two', 'one', 'm', 'high', 'obelisk', 'of', 'peterhead', 'granite', 'originally', 'erected', 'in', 'the', 'square', 'of', 'marischal', 'college', 'to', 'the', 'memory', 'of', 'sir', 'james', 'mcgrigor', 'one', 'seven', 'seven', 'eight', 'one', 'eight', 'five', 'one', 'the', 'military', 'surgeon', 'and', 'director', 'general', 'of', 'the', 'army', 'medical', 'department', 'who', 'was', 'thrice', 'elected', 'lord', 'rector', 'of', 'the', 'college', 'in', 'the', 'one', 'eight', 'nine', 'zero', 's', 'when', 'the', 'college', 'was', 'extended', 'the', 'obelisk', 'was', 'moved', 'to', 'the', 'duthie', 'park', 'there', 'is', 'also', 'a', 'statue', 'commemorating', 'lord', 'byron', 'in', 'aberdeen', 'grammar', 'school', 'in', 'the', 'front', 'grounds', 'bridges', 'the', 'dee', 'is', 'crossed', 'by', 'a', 'number', 'of', 'bridges', 'from', 'west', 'to', 'east', 'bridge', 'of', 'dee', 'king', 'george', 'vi', 'bridge', 'railway', 'bridge', 'wellington', 'suspension', 'bridge', 'queen', 'elizabeth', 'ii', 'bridge', 'victoria', 'bridge', 'until', 'one', 'eight', 'three', 'two', 'the', 'only', 'access', 'to', 'the', 'city', 'from', 'the', 'south', 'was', 'the', 'bridge', 'of', 'dee', 'it', 'consists', 'of', 'seven', 'semicircular', 'ribbed', 'arches', 'is', 'about', 'three', 'zero', 'ft', 'one', 'zero', 'm', 'high', 'and', 'was', 'built', 'early', 'in', 'the', 'one', 'six', 'th', 'century', 'by', 'bishops', 'elphinstone', 'and', 'dunbar', 'it', 'was', 'nearly', 'all', 'rebuilt', 'one', 'seven', 'one', 'eight', 'one', 'seven', 'two', 'three', 'and', 'in', 'one', 'eight', 'four', 'two', 'was', 'widened', 'from', 'one', 'four', 'to', 'two', 'six', 'ft', 'four', 'to', 'eight', 'm', 'this', 'was', 'the', 'site', 'of', 'a', 'battle', 'in', 'one', 'six', 'three', 'nine', 'between', 'the', 'royalists', 'under', 'viscount', 'aboyne', 'and', 'the', 'covenanters', 'who', 'were', 'led', 'by', 'the', 'marquis', 'of', 'montrose', 'the', 'bridge', 'of', 'don', 'has', 'five', 'granite', 'arches', 'each', 'seven', 'five', 'ft', 'two', 'three', 'm', 'in', 'span', 'and', 'was', 'built', 'one', 'eight', 'two', 'seven', 'one', 'eight', 'three', 'two', 'a', 'little', 'to', 'the', 'west', 'is', 'the', 'auld', 'brig', 'o', 'balgownie', 'a', 'picturesque', 'single', 'arch', 'spanning', 'the', 'deep', 'black', 'stream', 'said', 'to', 'have', 'been', 'built', 'by', 'king', 'robert', 'i', 'and', 'celebrated', 'by', 'george', 'gordon', 'byron', 'six', 'th', 'baron', 'byron', 'in', 'the', 'tenth', 'canto', 'of', 'don', 'juan', 'harbour', 'a', 'ship', 'in', 'aberdeen', 'harbour', 'aberdeen', 'harbour', 'is', 'the', 'principal', 'commercial', 'port', 'in', 'northern', 'scotland', 'and', 'an', 'international', 'port', 'for', 'general', 'cargo', 'roll', 'on', 'roll', 'off', 'and', 'container', 'traffic', 'originally', 'the', 'defective', 'harbour', 'with', 'a', 'shallow', 'sand', 'and', 'gravel', 'bar', 'at', 'its', 'entrance', 'retarded', 'the', 'trade', 'of', 'aberdeen', 'but', 'under', 'various', 'acts', 'since', 'one', 'seven', 'seven', 'three', 'it', 'was', 'greatly', 'deepened', 'the', 'north', 'pier', 'built', 'partly', 'by', 'john', 'smeaton', 'one', 'seven', 'seven', 'five', 'one', 'seven', 'eight', 'one', 'and', 'partly', 'by', 'thomas', 'telford', 'one', 'eight', 'one', 'zero', 'one', 'eight', 'one', 'five', 'extends', 'nearly', 'three', 'zero', 'zero', 'zero', 'ft', 'one', 'zero', 'zero', 'zero', 'm', 'into', 'the', 'north', 'sea', 'and', 'raised', 'the', 'bar', 'a', 'wet', 'dock', 'of', 'two', 'nine', 'acres', 'one', 'one', 'seven', 'zero', 'zero', 'zero', 'm', 'and', 'with', 'six', 'zero', 'zero', 'zero', 'ft', 'one', 'eight', 'zero', 'zero', 'm', 'of', 'quay', 'was', 'completed', 'in', 'one', 'eight', 'four', 'eight', 'and', 'called', 'victoria', 'dock', 'in', 'honour', 'of', 'the', 'queen', 's', 'visit', 'to', 'the', 'city', 'in', 'that', 'year', 'adjoining', 'it', 'is', 'the', 'upper', 'dock', 'by', 'the', 'harbour', 'act', 'of', 'one', 'eight', 'six', 'eight', 'the', 'dee', 'near', 'the', 'harbour', 'was', 'diverted', 'from', 'the', 'south', 'at', 'a', 'cost', 'of', 'eight', 'zero', 'zero', 'zero', 'zero', 'and', 'nine', 'zero', 'acres', 'three', 'six', 'four', 'zero', 'zero', 'zero', 'm', 'of', 'new', 'ground', 'in', 'addition', 'to', 'two', 'five', 'acres', 'one', 'zero', 'one', 'zero', 'zero', 'zero', 'm', 'formerly', 'made', 'up', 'were', 'provided', 'on', 'the', 'north', 'side', 'of', 'the', 'river', 'for', 'the', 'albert', 'basin', 'with', 'a', 'graving', 'dock', 'quays', 'and', 'warehouses', 'a', 'one', 'zero', 'five', 'zero', 'ft', 'three', 'two', 'zero', 'm', 'long', 'concrete', 'breakwater', 'was', 'constructed', 'on', 'the', 'south', 'side', 'of', 'the', 'stream', 'as', 'a', 'protection', 'against', 'south', 'easterly', 'gales', 'on', 'girdleness', 'the', 'southern', 'point', 'of', 'the', 'bay', 'a', 'lighthouse', 'was', 'built', 'in', 'one', 'eight', 'three', 'three', 'thirty', 'two', 'people', 'were', 'drowned', 'in', 'the', 'harbour', 'on', 'five', 'april', 'one', 'eight', 'seven', 'six', 'in', 'the', 'river', 'dee', 'ferry', 'boat', 'disaster', 'aberdeen', 'harbour', 'was', 'the', 'first', 'publicly', 'limited', 'company', 'in', 'the', 'united', 'kingdom', 'a', 'harbour', 'in', 'hong', 'kong', 'has', 'been', 'named', 'aberdeen', 'harbour', 'supposedly', 'by', 'ex', 'patriots', 'from', 'the', 'scottish', 'city', 'industry', 'owing', 'to', 'the', 'variety', 'and', 'importance', 'of', 'its', 'chief', 'industries', 'aberdeen', 'is', 'one', 'of', 'the', 'most', 'prosperous', 'cities', 'in', 'scotland', 'very', 'durable', 'grey', 'granite', 'was', 'quarried', 'at', 'rubislaw', 'quarry', 'for', 'more', 'than', 'three', 'zero', 'zero', 'years', 'and', 'blocked', 'and', 'dressed', 'paving', 'setts', 'kerb', 'and', 'building', 'stones', 'and', 'monumental', 'and', 'other', 'ornamental', 'work', 'of', 'granite', 'have', 'long', 'been', 'exported', 'from', 'the', 'district', 'to', 'all', 'parts', 'of', 'the', 'world', 'quarrying', 'finally', 'ceased', 'in', 'one', 'nine', 'seven', 'one', 'this', 'though', 'once', 'the', 'predominant', 'industry', 'was', 'surpassed', 'by', 'the', 'deep', 'sea', 'fisheries', 'which', 'derived', 'a', 'great', 'impetus', 'from', 'improved', 'technologies', 'throughout', 'the', 'twentieth', 'century', 'lately', 'however', 'catches', 'have', 'fallen', 'due', 'to', 'overfishing', 'in', 'previous', 'years', 'and', 'the', 'use', 'of', 'the', 'harbour', 'by', 'oil', 'support', 'vessels', 'aberdeen', 'remains', 'an', 'important', 'fishing', 'port', 'but', 'the', 'catch', 'landed', 'there', 'is', 'now', 'eclipsed', 'by', 'the', 'more', 'northerly', 'ports', 'of', 'peterhead', 'and', 'fraserburgh', 'the', 'fisheries', 'research', 'service', 'is', 'based', 'in', 'aberdeen', 'including', 'its', 'headquarters', 'and', 'a', 'marine', 'research', 'lab', 'most', 'of', 'the', 'leading', 'pre', 'one', 'nine', 'seven', 'zero', 's', 'industries', 'date', 'from', 'the', 'one', 'eight', 'th', 'century', 'amongst', 'them', 'woollens', 'one', 'seven', 'zero', 'three', 'linen', 'one', 'seven', 'four', 'nine', 'and', 'cotton', 'one', 'seven', 'seven', 'nine', 'these', 'gave', 'employment', 'to', 'several', 'thousands', 'of', 'operatives', 'the', 'paper', 'making', 'industry', 'is', 'one', 'of', 'the', 'most', 'famous', 'and', 'oldest', 'in', 'the', 'city', 'paper', 'having', 'been', 'first', 'made', 'in', 'aberdeen', 'in', 'one', 'six', 'nine', 'four', 'flax', 'spinning', 'and', 'jute', 'and', 'combmaking', 'factories', 'also', 'flourished', 'along', 'with', 'successful', 'foundries', 'and', 'engineering', 'works', 'in', 'the', 'days', 'of', 'wooden', 'ships', 'ship', 'building', 'was', 'a', 'flourishing', 'industry', 'the', 'town', 'being', 'noted', 'for', 'its', 'fast', 'clippers', 'many', 'of', 'which', 'established', 'records', 'in', 'the', 'tea', 'races', 'the', 'introduction', 'of', 'trawling', 'revived', 'this', 'to', 'some', 'extent', 'and', 'despite', 'the', 'distance', 'of', 'the', 'city', 'from', 'the', 'iron', 'fields', 'there', 'was', 'a', 'fair', 'yearly', 'output', 'of', 'iron', 'vessels', 'the', 'last', 'major', 'shipbuilder', 'in', 'aberdeen', 'hall', 'russells', 'closed', 'in', 'the', 'late', 'one', 'nine', 'eight', 'zero', 's', 'with', 'the', 'discovery', 'of', 'significant', 'oil', 'deposits', 'in', 'the', 'north', 'sea', 'during', 'the', 'late', 'twentieth', 'century', 'aberdeen', 'became', 'the', 'centre', 'of', 'europe', 's', 'petroleum', 'industry', 'with', 'the', 'port', 'serving', 'oil', 'rigs', 'off', 'shore', 'the', 'number', 'of', 'jobs', 'created', 'by', 'the', 'energy', 'industry', 'in', 'and', 'around', 'aberdeen', 'has', 'been', 'estimated', 'at', 'half', 'a', 'million', 'in', 'one', 'nine', 'eight', 'eight', 'the', 'city', 'was', 'dealt', 'a', 'heavy', 'blow', 'by', 'the', 'loss', 'of', 'life', 'suffered', 'during', 'an', 'explosion', 'and', 'fire', 'aboard', 'one', 'such', 'rig', 'the', 'piper', 'alpha', 'population', 'in', 'one', 'three', 'nine', 'six', 'the', 'population', 'was', 'about', 'three', 'zero', 'zero', 'zero', 'by', 'one', 'eight', 'zero', 'one', 'it', 'had', 'become', 'two', 'six', 'nine', 'nine', 'two', 'in', 'one', 'eight', 'four', 'one', 'it', 'was', 'six', 'three', 'two', 'six', 'two', 'one', 'eight', 'nine', 'one', 'one', 'two', 'one', 'six', 'two', 'three', 'one', 'nine', 'zero', 'one', 'one', 'five', 'three', 'five', 'zero', 'three', 'in', 'two', 'zero', 'zero', 'one', 'it', 'was', 'one', 'nine', 'seven', 'three', 'two', 'eight', 'sport', 'aberdeen', 'football', 'club', 'was', 'founded', 'in', 'one', 'nine', 'zero', 'three', 'its', 'major', 'success', 'was', 'winning', 'the', 'european', 'cup', 'winners', 'cup', 'in', 'one', 'nine', 'eight', 'three', 'and', 'three', 'league', 'championships', 'between', 'one', 'nine', 'eight', 'zero', 'and', 'one', 'nine', 'eight', 'six', 'under', 'the', 'current', 'manchester', 'united', 'f', 'c', 'manager', 'alex', 'ferguson', 'the', 'club', 's', 'stadium', 'is', 'pittodrie', 'which', 'holds', 'the', 'distinction', 'of', 'being', 'britain', 's', 'first', 'all', 'seater', 'stadium', 'aberdeen', 'f', 'c', 'holds', 'the', 'distinction', 'of', 'being', 'the', 'last', 'team', 'to', 'have', 'won', 'the', 'scottish', 'premier', 'league', 'championship', 'outside', 'the', 'old', 'firm', 'and', 'is', 'the', 'only', 'scottish', 'team', 'to', 'have', 'won', 'two', 'european', 'trophies', 'adding', 'to', 'their', 'european', 'cup', 'winners', 'cup', 'success', 'by', 'winning', 'the', 'european', 'super', 'cup', 'also', 'in', 'one', 'nine', 'eight', 'three', 'well', 'known', 'footballers', 'who', 'have', 'played', 'for', 'the', 'club', 'include', 'gordon', 'strachan', 'current', 'celtic', 'manager', 'alex', 'mcleish', 'current', 'rangers', 'manager', 'and', 'club', 'legend', 'willie', 'miller', 'denis', 'law', 'the', 'joint', 'top', 'scorer', 'for', 'the', 'scotland', 'national', 'team', 'was', 'also', 'born', 'in', 'the', 'city', 'but', 'spent', 'his', 'professional', 'career', 'playing', 'for', 'english', 'and', 'italian', 'clubs', 'aberdeen', 'golf', 'club', 'was', 'founded', 'in', 'one', 'eight', 'one', 'five', 'it', 'has', 'two', 'one', 'eight', 'hole', 'courses', 'at', 'balgownie', 'north', 'of', 'the', 'river', 'don', 'there', 'are', 'other', 'golf', 'courses', 'at', 'auchmill', 'balnagask', 'hazlehead', 'and', 'king', 's', 'links', 'transport', 'there', 'are', 'four', 'main', 'roads', 'serving', 'the', 'city', 'a', 'nine', 'zero', 'the', 'main', 'arterial', 'route', 'into', 'the', 'city', 'from', 'the', 'south', 'linking', 'aberdeen', 'to', 'edinburgh', 'dundee', 'and', 'perth', 'a', 'nine', 'six', 'links', 'to', 'elgin', 'and', 'inverness', 'and', 'the', 'north', 'west', 'a', 'nine', 'three', 'the', 'main', 'route', 'to', 'the', 'west', 'heading', 'towards', 'royal', 'deeside', 'and', 'the', 'cairngorms', 'a', 'nine', 'two', 'the', 'original', 'southerly', 'road', 'to', 'aberdeen', 'prior', 'to', 'the', 'building', 'of', 'the', 'a', 'nine', 'zero', 'now', 'used', 'as', 'a', 'tourist', 'route', 'connecting', 'the', 'towns', 'of', 'montrose', 'arbroath', 'and', 'brechin', 'on', 'the', 'east', 'coast', 'the', 'city', 's', 'original', 'ring', 'road', 'anderson', 'drive', 'which', 'was', 'built', 'in', 'the', 'one', 'nine', 'three', 'zero', 's', 'has', 'long', 'since', 'been', 'engulfed', 'by', 'the', 'expansion', 'of', 'the', 'city', 'and', 'is', 'inadequate', 'for', 'dealing', 'with', 'today', 's', 'traffic', 'to', 'this', 'end', 'a', 'new', 'main', 'bypass', 'road', 'the', 'western', 'peripheral', 'route', 'is', 'planned', 'to', 'divert', 'through', 'traffic', 'away', 'from', 'the', 'city', 'centre', 'the', 'road', 'is', 'due', 'to', 'open', 'in', 'two', 'zero', 'one', 'zero', 'the', 'city', 'is', 'well', 'served', 'by', 'the', 'national', 'railway', 'network', 'aberdeen', 'has', 'regular', 'rail', 'services', 'to', 'glasgow', 'and', 'edinburgh', 'as', 'well', 'as', 'long', 'distance', 'trains', 'to', 'london', 'via', 'edinburgh', 'it', 'is', 'possible', 'to', 'take', 'the', 'longest', 'scheduled', 'rail', 'journey', 'in', 'the', 'whole', 'of', 'the', 'uk', 'from', 'aberdeen', 'a', 'daily', 'service', 'runs', 'from', 'aberdeen', 'to', 'penzance', 'in', 'cornwall', 'which', 'is', 'seven', 'two', 'two', 'miles', 'one', 'one', 'six', 'two', 'km', 'and', 'twelve', 'and', 'three', 'quarter', 'hours', 'away', 'regular', 'trains', 'also', 'run', 'north', 'westerly', 'towards', 'inverness', 'and', 'north', 'to', 'dyce', 'for', 'the', 'airport', 'aberdeen', 'also', 'has', 'an', 'airport', 'in', 'the', 'neighbouring', 'town', 'of', 'dyce', 'which', 'is', 'operated', 'by', 'baa', 'plc', 'as', 'well', 'as', 'connecting', 'the', 'city', 'to', 'the', 'rest', 'of', 'the', 'uk', 'aberdeen', 'airport', 'sometimes', 'refererred', 'to', 'as', 'dyce', 'airport', 'is', 'the', 'largest', 'helicopter', 'terminal', 'in', 'the', 'world', 'serving', 'the', 'many', 'north', 'sea', 'oil', 'installations', 'the', 'iata', 'airport', 'code', 'for', 'the', 'airport', 'is', 'abz', 'wards', 'of', 'the', 'city', 'of', 'aberdeen', 'ashley', 'auchmill', 'bankhead', 'and', 'stoneywood', 'berryden', 'broomhill', 'bridge', 'of', 'don', 'castlehill', 'cults', 'cummings', 'park', 'danestone', 'donmouth', 'duthie', 'dyce', 'garthdee', 'gilcomston', 'hazelhead', 'hilton', 'holburn', 'jesmond', 'kincorth', 'east', 'kincorth', 'west', 'kittybrewster', 'langstane', 'loirston', 'mannofield', 'mastrick', 'midstocket', 'murtle', 'newhills', 'oldmachar', 'peterculter', 'pittodrie', 'queen', 's', 'cross', 'st', 'machar', 'seaton', 'sheddocksley', 'springhill', 'stockethill', 'summerhill', 'sunnybank', 'torry', 'tullos', 'woodside', 'and', 'tillydrone', 'twinned', 'cities', 'worldwide', 'aberdeen', 'is', 'twinned', 'with', 'several', 'cities', 'across', 'europe', 'and', 'throughout', 'the', 'rest', 'of', 'the', 'world', 'these', 'include', 'see', 'also', 'list', 'of', 'aberdonians', 'list', 'of', 'bishops', 'of', 'aberdeen', 'list', 'of', 'provosts', 'and', 'lord', 'provosts', 'of', 'aberdeen', 'external', 'links', 'aberdeen', 'city', 'council', 'aberdeen', 'dialect', 'aberdeen', 'business', 'portal', 'aberdeen', 'scottish', 'names', 'august', 'two', 'three', 'is', 'the', 'two', 'three', 'five', 'th', 'day', 'of', 'the', 'year', 'in', 'the', 'gregorian', 'calendar', 'two', 'three', 'six', 'th', 'in', 'leap', 'years', 'with', 'one', 'three', 'zero', 'days', 'remaining', 'events', 'one', 'three', 'zero', 'five', 'william', 'wallace', 'is', 'executed', 'one', 'three', 'two', 'eight', 'battle', 'of', 'kassel', 'french', 'troops', 'stop', 'an', 'uprising', 'of', 'flemish', 'farmers', 'one', 'three', 'two', 'eight', 'king', 'philip', 'vi', 'of', 'france', 'is', 'crowned', 'one', 'five', 'four', 'one', 'french', 'explorer', 'jacques', 'cartier', 'lands', 'near', 'quebec', 'city', 'in', 'his', 'third', 'voyage', 'to', 'canada', 'one', 'five', 'six', 'six', 'calvinists', 'are', 'granted', 'rights', 'in', 'the', 'netherlands', 'one', 'six', 'one', 'four', 'the', 'university', 'of', 'groningen', 'is', 'established', 'one', 'six', 'one', 'seven', 'in', 'london', 'the', 'first', 'one', 'way', 'street', 'is', 'established', 'one', 'six', 'five', 'one', 'charles', 'ii', 'of', 'england', 'enters', 'worcester', 'and', 'starts', 'a', 'battle', 'one', 'seven', 'eight', 'four', 'eastern', 'tennessee', 'declares', 'itself', 'an', 'independent', 'state', 'under', 'the', 'name', 'of', 'franklin', 'the', 'step', 'is', 'rejected', 'by', 'congress', 'one', 'year', 'later', 'one', 'seven', 'nine', 'three', 'french', 'revolution', 'a', 'lev', 'e', 'en', 'masse', 'was', 'decreed', 'by', 'the', 'national', 'convention', 'one', 'seven', 'nine', 'nine', 'napoleon', 'leaves', 'egypt', 'for', 'france', 'en', 'route', 'to', 'seize', 'power', 'one', 'eight', 'one', 'three', 'at', 'the', 'battle', 'of', 'grossbeeren', 'the', 'prussians', 'under', 'von', 'bulow', 'repulse', 'the', 'french', 'army', 'one', 'eight', 'two', 'one', 'mexico', 'gains', 'its', 'independence', 'from', 'spain', 'one', 'eight', 'three', 'three', 'slavery', 'abolished', 'in', 'the', 'british', 'colonies', 'one', 'eight', 'three', 'nine', 'the', 'uk', 'captures', 'hong', 'kong', 'one', 'eight', 'six', 'four', 'the', 'union', 'navy', 'captures', 'fort', 'morgan', 'alabama', 'thus', 'breaking', 'confederate', 'dominance', 'of', 'all', 'ports', 'on', 'the', 'gulf', 'of', 'mexico', 'one', 'eight', 'six', 'six', 'austro', 'prussian', 'war', 'ends', 'with', 'the', 'treaty', 'of', 'prague', 'one', 'eight', 'eight', 'nine', 'first', 'wireless', 'message', 'from', 'a', 'ship', 'to', 'the', 'shore', 'received', 'one', 'eight', 'nine', 'six', 'first', 'cry', 'of', 'the', 'philippine', 'revolution', 'is', 'made', 'in', 'pugad', 'lawin', 'quezon', 'city', 'in', 'the', 'province', 'of', 'manila', 'one', 'nine', 'zero', 'four', 'the', 'automobile', 'tire', 'chain', 'is', 'patented', 'one', 'nine', 'one', 'four', 'japan', 'declares', 'war', 'on', 'germany', 'and', 'bombs', 'qingdao', 'china', 'one', 'nine', 'two', 'four', 'the', 'distance', 'between', 'earth', 'and', 'mars', 'is', 'the', 'smallest', 'since', 'the', 'one', 'zero', 'th', 'century', 'one', 'nine', 'two', 'seven', 'italian', 'anarchists', 'sacco', 'and', 'vanzetti', 'are', 'executed', 'in', 'boston', 'massachusetts', 'one', 'nine', 'two', 'nine', 'arabs', 'attack', 'jews', 'in', 'israel', 'one', 'nine', 'three', 'nine', 'world', 'war', 'ii', 'germany', 'and', 'the', 'soviet', 'union', 'sign', 'a', 'non', 'aggression', 'treaty', 'the', 'molotov', 'ribbentrop', 'pact', 'in', 'a', 'secret', 'addition', 'to', 'the', 'pact', 'baltic', 'states', 'finland', 'and', 'poland', 'are', 'divided', 'between', 'the', 'two', 'nations', 'one', 'nine', 'four', 'zero', 'world', 'war', 'ii', 'the', 'germans', 'start', 'bombing', 'london', 'one', 'nine', 'four', 'two', 'world', 'war', 'ii', 'beginning', 'of', 'the', 'battle', 'of', 'stalingrad', 'one', 'nine', 'four', 'three', 'world', 'war', 'ii', 'kharkov', 'liberated', 'one', 'nine', 'four', 'four', 'world', 'war', 'ii', 'marseille', 'liberated', 'one', 'nine', 'four', 'four', 'world', 'war', 'ii', 'king', 'michael', 'of', 'romania', 'dismisses', 'the', 'pro', 'nazi', 'government', 'of', 'general', 'antonescu', 'romania', 'switches', 'sides', 'from', 'the', 'axis', 'to', 'the', 'allies', 'one', 'nine', 'four', 'four', 'a', 'us', 'army', 'air', 'force', 'b', 'two', 'four', 'liberator', 'bomber', 'crashes', 'into', 'a', 'school', 'in', 'freckleton', 'england', 'killing', 'six', 'one', 'people', 'one', 'nine', 'four', 'four', 'world', 'war', 'ii', 'ion', 'antonescu', 'prime', 'minister', 'of', 'romania', 'is', 'arrested', 'and', 'a', 'new', 'gouverment', 'is', 'established', 'romania', 'exits', 'the', 'war', 'against', 'russia', 'joining', 'the', 'allies', 'one', 'nine', 'four', 'seven', 'the', 'maynard', 'midgets', 'beat', 'lock', 'haven', 'one', 'six', 'seven', 'to', 'win', 'the', 'first', 'ever', 'little', 'league', 'world', 'series', 'championship', 'one', 'nine', 'four', 'eight', 'world', 'council', 'of', 'churches', 'is', 'formed', 'one', 'nine', 'five', 'two', 'the', 'arab', 'league', 'goes', 'into', 'effect', 'one', 'nine', 'five', 'eight', 'chinese', 'civil', 'war', 'the', 'second', 'taiwan', 'strait', 'crisis', 'begins', 'with', 'the', 'people', 's', 'liberation', 'army', 's', 'bombardment', 'of', 'quemoy', 'one', 'nine', 'six', 'zero', 'in', 'equatorial', 'guinea', 'the', 'world', 's', 'largest', 'frog', 'three', 'three', 'kg', 'is', 'caught', 'one', 'nine', 'six', 'two', 'first', 'live', 'television', 'connection', 'between', 'the', 'united', 'states', 'and', 'europe', 'via', 'the', 'telstar', 'satellite', 'one', 'nine', 'six', 'six', 'lunar', 'orbiter', 'one', 'takes', 'the', 'first', 'photograph', 'of', 'earth', 'from', 'orbit', 'around', 'the', 'moon', 'one', 'nine', 'six', 'eight', 'ringo', 'starr', 'temporarily', 'quits', 'the', 'beatles', 'one', 'nine', 'seven', 'three', 'the', 'intelsat', 'communication', 'satellite', 'is', 'launched', 'one', 'nine', 'seven', 'five', 'successful', 'communist', 'coup', 'in', 'laos', 'one', 'nine', 'seven', 'six', 'a', 'major', 'earthquake', 'in', 'china', 'kills', 'thousands', 'of', 'people', 'one', 'nine', 'seven', 'nine', 'soviet', 'dancer', 'alexander', 'godunov', 'defects', 'to', 'the', 'united', 'states', 'one', 'nine', 'eight', 'five', 'hans', 'tiedge', 'top', 'counter', 'spy', 'of', 'west', 'germany', 'defects', 'to', 'east', 'germany', 'one', 'nine', 'eight', 'seven', 'heavy', 'rains', 'and', 'floods', 'in', 'bangladesh', 'kill', 'hundreds', 'of', 'victims', 'one', 'nine', 'eight', 'nine', 'singing', 'revolution', 'two', 'million', 'people', 'from', 'estonia', 'latvia', 'and', 'lithuania', 'stand', 'on', 'the', 'vilnius', 'tallinn', 'road', 'holding', 'hands', 'baltic', 'way', 'one', 'nine', 'eight', 'nine', 'all', 'of', 'australia', 's', 'one', 'six', 'four', 'five', 'domestic', 'airline', 'pilots', 'resign', 'after', 'the', 'airlines', 'threaten', 'to', 'sack', 'them', 'and', 'sue', 'them', 'over', 'a', 'dispute', 'one', 'nine', 'nine', 'zero', 'saddam', 'hussein', 'appears', 'on', 'iraqi', 'state', 'television', 'with', 'a', 'number', 'of', 'western', 'guests', 'actually', 'hostages', 'to', 'try', 'to', 'prevent', 'the', 'gulf', 'war', 'one', 'nine', 'nine', 'zero', 'armenia', 'declares', 'its', 'independence', 'from', 'the', 'soviet', 'union', 'one', 'nine', 'nine', 'zero', 'west', 'germany', 'and', 'east', 'germany', 'announce', 'that', 'they', 'will', 'unite', 'on', 'october', 'three', 'one', 'nine', 'nine', 'two', 'hurricane', 'andrew', 'hits', 'south', 'florida', 'one', 'nine', 'nine', 'six', 'osama', 'bin', 'laden', 'issues', 'message', 'entitled', 'a', 'declaration', 'of', 'war', 'against', 'the', 'americans', 'occupying', 'the', 'land', 'of', 'the', 'two', 'holy', 'places', 'one', 'nine', 'nine', 'eight', 'that', 'seven', 'zero', 's', 'show', 'pilot', 'episode', 'aired', 'on', 'the', 'fox', 't', 'v', 'network', 'two', 'zero', 'zero', 'zero', 'a', 'gulf', 'air', 'airbus', 'a', 'three', 'two', 'zero', 'crashes', 'into', 'the', 'persian', 'gulf', 'near', 'manama', 'bahrain', 'killing', 'one', 'four', 'three', 'two', 'zero', 'zero', 'zero', 'nicaragua', 'becomes', 'a', 'member', 'of', 'the', 'berne', 'convention', 'copyright', 'treaty', 'this', 'essentially', 'deprecated', 'the', 'buenos', 'aires', 'convention', 'treaty', 'because', 'as', 'of', 'this', 'date', 'all', 'members', 'of', 'the', 'ba', 'convention', 'were', 'also', 'signatories', 'to', 'berne', 'two', 'zero', 'zero', 'five', 'tans', 'peru', 'flight', 'two', 'zero', 'four', 'crashes', 'near', 'pucallpa', 'peru', 'killing', 'four', 'one', 'births', 'six', 'eight', 'six', 'charles', 'martel', 'grandfather', 'of', 'charlemagne', 'd', 'seven', 'four', 'one', 'one', 'four', 'eight', 'six', 'sigismund', 'von', 'herberstein', 'austrian', 'diplomat', 'and', 'historian', 'd', 'one', 'five', 'six', 'six', 'one', 'five', 'two', 'four', 'fran', 'ois', 'hotman', 'french', 'lawyer', 'and', 'writer', 'd', 'one', 'five', 'nine', 'zero', 'one', 'six', 'two', 'three', 'stanis', 'aw', 'lubieniecki', 'polish', 'astronomer', 'd', 'one', 'six', 'seven', 'five', 'one', 'seven', 'two', 'four', 'abraham', 'yates', 'american', 'continental', 'congressman', 'd', 'one', 'seven', 'nine', 'six', 'one', 'seven', 'four', 'one', 'jean', 'fran', 'ois', 'de', 'galaup', 'count', 'de', 'la', 'p', 'rouse', 'french', 'explorer', 'd', 'one', 'seven', 'eight', 'eight', 'one', 'seven', 'five', 'four', 'king', 'louis', 'xvi', 'of', 'france', 'd', 'one', 'seven', 'nine', 'two', 'one', 'seven', 'six', 'nine', 'georges', 'cuvier', 'french', 'biologist', 'and', 'statesman', 'd', 'one', 'eight', 'three', 'two', 'one', 'seven', 'eight', 'three', 'william', 'tierney', 'clark', 'english', 'civil', 'engineer', 'd', 'one', 'eight', 'five', 'two', 'one', 'seven', 'eight', 'five', 'oliver', 'hazard', 'perry', 'u', 's', 'naval', 'officer', 'd', 'one', 'eight', 'one', 'nine', 'one', 'eight', 'zero', 'five', 'anton', 'von', 'schmerling', 'austrian', 'statesman', 'd', 'one', 'eight', 'nine', 'three', 'one', 'eight', 'two', 'nine', 'moritz', 'cantor', 'german', 'mathematician', 'd', 'one', 'nine', 'two', 'zero', 'one', 'eight', 'four', 'seven', 'sarah', 'frances', 'whiting', 'american', 'physicist', 'and', 'astronomer', 'd', 'one', 'nine', 'two', 'seven', 'one', 'eight', 'four', 'nine', 'william', 'ernest', 'henley', 'british', 'poet', 'critic', 'and', 'editor', 'd', 'one', 'nine', 'zero', 'three', 'one', 'eight', 'five', 'two', 'arnold', 'toynbee', 'english', 'economist', 'and', 'social', 'reformer', 'd', 'one', 'eight', 'eight', 'three', 'one', 'eight', 'six', 'four', 'eleftherios', 'venizalos', 'prime', 'minister', 'of', 'greece', 'd', 'one', 'nine', 'three', 'six', 'one', 'eight', 'six', 'nine', 'edgar', 'lee', 'masters', 'american', 'author', 'd', 'one', 'nine', 'five', 'zero', 'one', 'eight', 'seven', 'five', 'william', 'eccles', 'english', 'radio', 'pioneer', 'd', 'one', 'nine', 'six', 'six', 'one', 'eight', 'eight', 'zero', 'alexander', 'grin', 'russian', 'writer', 'd', 'one', 'nine', 'three', 'two', 'one', 'eight', 'eight', 'three', 'jonathan', 'mayhew', 'wainwright', 'iv', 'u', 's', 'general', 'd', 'one', 'nine', 'five', 'three', 'one', 'eight', 'eight', 'four', 'will', 'cuppy', 'american', 'humorist', 'd', 'one', 'nine', 'four', 'nine', 'one', 'nine', 'zero', 'zero', 'ernst', 'krenek', 'austrian', 'born', 'composer', 'd', 'one', 'nine', 'nine', 'one', 'one', 'nine', 'zero', 'one', 'john', 'sherman', 'cooper', 'u', 's', 'senator', 'from', 'kentucky', 'd', 'one', 'nine', 'nine', 'one', 'one', 'nine', 'zero', 'three', 'william', 'primrose', 'scottish', 'violist', 'd', 'one', 'nine', 'eight', 'two', 'one', 'nine', 'zero', 'five', 'constant', 'lambert', 'british', 'composer', 'd', 'one', 'nine', 'five', 'one', 'one', 'nine', 'one', 'one', 'birger', 'ruud', 'norwegian', 'athelete', 'd', 'one', 'nine', 'nine', 'eight', 'one', 'nine', 'one', 'two', 'gene', 'kelly', 'american', 'dancer', 'and', 'actor', 'd', 'one', 'nine', 'nine', 'six', 'one', 'nine', 'one', 'seven', 'tex', 'williams', 'american', 'singer', 'd', 'one', 'nine', 'eight', 'five', 'one', 'nine', 'two', 'one', 'kenneth', 'arrow', 'american', 'economist', 'bank', 'of', 'sweden', 'prize', 'winner', 'one', 'nine', 'two', 'two', 'george', 'kell', 'baseball', 'player', 'one', 'nine', 'two', 'three', 'edgar', 'f', 'codd', 'english', 'computer', 'scientist', 'd', 'two', 'zero', 'zero', 'three', 'one', 'nine', 'two', 'four', 'ephraim', 'kishon', 'israeli', 'writer', 'd', 'two', 'zero', 'zero', 'five', 'one', 'nine', 'two', 'four', 'robert', 'solow', 'american', 'economist', 'nobel', 'prize', 'laureate', 'one', 'nine', 'two', 'seven', 'dick', 'bruna', 'dutch', 'illustrator', 'one', 'nine', 'two', 'nine', 'vera', 'miles', 'american', 'actress', 'one', 'nine', 'three', 'zero', 'michel', 'rocard', 'prime', 'minister', 'of', 'france', 'one', 'nine', 'three', 'one', 'hamilton', 'o', 'smith', 'american', 'microbiologist', 'recipient', 'of', 'the', 'nobel', 'prize', 'in', 'physiology', 'or', 'medicine', 'one', 'nine', 'three', 'two', 'houari', 'boumedienne', 'president', 'of', 'algeria', 'd', 'one', 'nine', 'seven', 'eight', 'one', 'nine', 'three', 'two', 'mark', 'russell', 'american', 'comedian', 'musician', 'and', 'political', 'commentator', 'one', 'nine', 'three', 'three', 'robert', 'curl', 'american', 'chemist', 'nobel', 'prize', 'laureate', 'one', 'nine', 'three', 'three', 'pete', 'wilson', 'governor', 'of', 'california', 'one', 'nine', 'three', 'four', 'barbara', 'eden', 'american', 'actress', 'one', 'nine', 'three', 'four', 'sonny', 'jurgensen', 'american', 'football', 'player', 'one', 'nine', 'three', 'six', 'henry', 'lee', 'lucas', 'american', 'serial', 'killer', 'd', 'two', 'zero', 'zero', 'one', 'one', 'nine', 'four', 'three', 'nelson', 'demille', 'american', 'novelist', 'one', 'nine', 'four', 'seven', 'keith', 'moon', 'english', 'singer', 'and', 'drummer', 'the', 'who', 'd', 'one', 'nine', 'seven', 'eight', 'one', 'nine', 'four', 'seven', 'david', 'robb', 'british', 'actor', 'one', 'nine', 'four', 'nine', 'shelley', 'long', 'american', 'actress', 'one', 'nine', 'four', 'nine', 'rick', 'springfield', 'australian', 'singer', 'and', 'actor', 'one', 'nine', 'five', 'one', 'akhmad', 'kadyrov', 'president', 'of', 'chechnya', 'd', 'two', 'zero', 'zero', 'four', 'one', 'nine', 'five', 'one', 'queen', 'noor', 'of', 'jordan', 'one', 'nine', 'five', 'two', 'vicky', 'leandros', 'greek', 'singer', 'one', 'nine', 'five', 'three', 'bobby', 'g', 'british', 'singer', 'bucks', 'fizz', 'one', 'nine', 'five', 'six', 'andreas', 'floer', 'german', 'mathematician', 'd', 'one', 'nine', 'nine', 'one', 'one', 'nine', 'six', 'three', 'hans', 'henning', 'fastrich', 'german', 'field', 'hockey', 'player', 'one', 'nine', 'six', 'three', 'kenny', 'wallace', 'american', 'race', 'car', 'driver', 'one', 'nine', 'six', 'five', 'roger', 'avary', 'academy', 'award', 'winning', 'writer', 'director', 'producer', 'one', 'nine', 'six', 'six', 'rik', 'smits', 'dutch', 'basketball', 'player', 'one', 'nine', 'six', 'nine', 'keith', 'tyson', 'turner', 'prize', 'winning', 'english', 'artist', 'one', 'nine', 'six', 'nine', 'jeremy', 'schaap', 'american', 'sportswriter', 'one', 'nine', 'seven', 'zero', 'jay', 'mohr', 'american', 'actor', 'and', 'comedian', 'one', 'nine', 'seven', 'zero', 'river', 'phoenix', 'american', 'actor', 'd', 'one', 'nine', 'nine', 'three', 'one', 'nine', 'seven', 'zero', 'fred', 'durst', 'american', 'singer', 'one', 'nine', 'seven', 'four', 'ray', 'park', 'british', 'actor', 'one', 'nine', 'seven', 'five', 'eliza', 'carthy', 'english', 'singer', 'and', 'fiddler', 'one', 'nine', 'seven', 'eight', 'kobe', 'bryant', 'american', 'basketball', 'player', 'one', 'nine', 'seven', 'eight', 'julian', 'casablancas', 'american', 'musician', 'one', 'nine', 'eight', 'two', 'natalie', 'coughlin', 'american', 'olympic', 'swimmer', 'one', 'nine', 'eight', 'two', 'ytcracker', 'american', 'musician', 'one', 'nine', 'eight', 'four', 'glen', 'johnson', 'english', 'footballer', 'one', 'nine', 'eight', 'eight', 'niki', 'leinso', 'croatian', 'singer', 'and', 'songwriter', 'deaths', 'nine', 'three', 'gnaeus', 'julius', 'agricola', 'roman', 'governor', 'of', 'britain', 'b', 'four', 'zero', 'six', 'three', 'four', 'abu', 'bakr', 'arabian', 'caliph', 'one', 'one', 'seven', 'six', 'emperor', 'rokujo', 'of', 'japan', 'b', 'one', 'one', 'six', 'four', 'one', 'three', 'zero', 'five', 'william', 'wallace', 'scottish', 'patriot', 'executed', 'one', 'three', 'eight', 'seven', 'king', 'olav', 'iv', 'of', 'norway', 'b', 'one', 'three', 'seven', 'zero', 'one', 'five', 'zero', 'seven', 'jean', 'molinet', 'french', 'writer', 'b', 'one', 'four', 'three', 'five', 'one', 'five', 'one', 'nine', 'philibert', 'berthelier', 'swiss', 'patriot', 'one', 'five', 'four', 'zero', 'guillaume', 'bud', 'french', 'scholar', 'one', 'five', 'nine', 'one', 'luis', 'ponce', 'de', 'le', 'n', 'spanish', 'poet', 'and', 'mystic', 'b', 'one', 'five', 'two', 'seven', 'one', 'six', 'one', 'eight', 'gerbrand', 'adriaensz', 'bredero', 'dutch', 'writer', 'b', 'one', 'five', 'eight', 'five', 'one', 'six', 'two', 'eight', 'george', 'villiers', 'one', 'st', 'duke', 'of', 'buckingham', 'english', 'statesman', 'b', 'one', 'five', 'nine', 'two', 'one', 'seven', 'two', 'three', 'increase', 'mather', 'new', 'england', 'puritan', 'minister', 'b', 'one', 'six', 'three', 'nine', 'one', 'six', 'one', 'eight', 'gerbrand', 'adriaensz', 'bredero', 'dutch', 'writer', 'b', 'one', 'five', 'eight', 'five', 'one', 'six', 'five', 'two', 'john', 'byron', 'one', 'st', 'baron', 'byron', 'english', 'royalist', 'politician', 'b', 'one', 'six', 'zero', 'zero', 'one', 'eight', 'zero', 'six', 'charles', 'augustin', 'de', 'coulomb', 'french', 'physicist', 'b', 'one', 'seven', 'three', 'six', 'one', 'eight', 'one', 'three', 'alexander', 'wilson', 'scottish', 'born', 'ornithologist', 'b', 'one', 'seven', 'six', 'six', 'one', 'eight', 'one', 'nine', 'oliver', 'hazard', 'perry', 'american', 'naval', 'officer', 'b', 'one', 'seven', 'eight', 'five', 'one', 'eight', 'six', 'six', 'auguste', 'barthelemy', 'french', 'poet', 'b', 'one', 'seven', 'nine', 'six', 'one', 'nine', 'two', 'six', 'rudolph', 'valentino', 'italian', 'actor', 'b', 'one', 'eight', 'nine', 'five', 'one', 'nine', 'two', 'seven', 'nicola', 'sacco', 'italian', 'anarchist', 'executed', 'b', 'one', 'eight', 'nine', 'one', 'one', 'nine', 'two', 'seven', 'bartolomeo', 'vanzetti', 'italian', 'anarchist', 'executed', 'b', 'one', 'eight', 'eight', 'eight', 'one', 'nine', 'three', 'seven', 'albert', 'roussel', 'french', 'composer', 'b', 'one', 'eight', 'six', 'nine', 'one', 'nine', 'five', 'five', 'reginald', 'tate', 'british', 'actor', 'b', 'one', 'eight', 'nine', 'six', 'one', 'nine', 'six', 'zero', 'oscar', 'hammerstein', 'ii', 'american', 'lyricist', 'b', 'one', 'eight', 'nine', 'five', 'one', 'nine', 'six', 'two', 'walter', 'anderson', 'german', 'folklorist', 'b', 'one', 'eight', 'eight', 'five', 'one', 'nine', 'six', 'two', 'hoot', 'gibson', 'american', 'actor', 'b', 'one', 'eight', 'nine', 'two', 'one', 'nine', 'six', 'six', 'francis', 'x', 'bushman', 'american', 'actor', 'b', 'one', 'eight', 'eight', 'three', 'one', 'nine', 'seven', 'four', 'roberto', 'assagioli', 'italian', 'psychiatrist', 'b', 'one', 'eight', 'eight', 'eight', 'one', 'nine', 'eight', 'two', 'stanford', 'moore', 'american', 'biochemist', 'nobel', 'prize', 'laureate', 'b', 'one', 'nine', 'one', 'three', 'one', 'nine', 'nine', 'seven', 'john', 'kendrew', 'british', 'molecular', 'biologist', 'recipient', 'of', 'the', 'nobel', 'prize', 'in', 'chemistry', 'b', 'one', 'nine', 'one', 'seven', 'one', 'nine', 'nine', 'nine', 'james', 'white', 'northern', 'irish', 'science', 'fiction', 'writer', 'b', 'one', 'nine', 'two', 'eight', 'two', 'zero', 'zero', 'one', 'peter', 'maas', 'american', 'novelist', 'b', 'one', 'nine', 'two', 'nine', 'two', 'zero', 'zero', 'two', 'hoyt', 'wilhelm', 'baseball', 'player', 'b', 'one', 'nine', 'two', 'two', 'two', 'zero', 'zero', 'three', 'imperio', 'argentina', 'argentine', 'singer', 'and', 'actress', 'b', 'one', 'nine', 'zero', 'six', 'two', 'zero', 'zero', 'three', 'bobby', 'bonds', 'baseball', 'player', 'and', 'manager', 'b', 'one', 'nine', 'four', 'six', 'two', 'zero', 'zero', 'three', 'jack', 'dyer', 'australian', 'footballer', 'b', 'one', 'nine', 'one', 'three', 'two', 'zero', 'zero', 'three', 'john', 'geoghan', 'american', 'catholic', 'priest', 'two', 'zero', 'zero', 'five', 'brock', 'peters', 'american', 'actor', 'b', 'one', 'nine', 'two', 'seven', 'holidays', 'and', 'observances', 'roman', 'festivals', 'vulcanalia', 'rc', 'saints', 'saint', 'rose', 'of', 'lima', 'romania', 'liberation', 'day', 'one', 'nine', 'four', 'four', 'swaziland', 'umhlanga', 'day', 'astrology', 'first', 'day', 'of', 'sun', 'sign', 'virgo', 'fiction', 'squall', 'leonhart', 's', 'birthday', 'from', 'final', 'fantasy', 'viii', 'temari', 's', 'birthday', 'from', 'naruto', 'external', 'links', 'bbc', 'on', 'this', 'day', 'august', 'two', 'two', 'august', 'two', 'four', 'july', 'two', 'three', 'september', 'two', 'three', 'listing', 'of', 'all', 'days', 'august', 'two', 'four', 'is', 'the', 'two', 'three', 'six', 'th', 'day', 'of', 'the', 'year', 'in', 'the', 'gregorian', 'calendar', 'two', 'three', 'seven', 'th', 'in', 'leap', 'years', 'with', 'one', 'two', 'nine', 'days', 'remaining', 'events', 'four', 'nine', 'bc', 'julius', 'caesar', 's', 'general', 'gaius', 'curio', 'is', 'defeated', 'in', 'the', 'second', 'battle', 'of', 'the', 'bagradas', 'river', 'by', 'the', 'numidians', 'under', 'attius', 'varus', 'and', 'king', 'juba', 'of', 'numidia', 'curio', 'is', 'slain', 'in', 'battle', 'ad', 'seven', 'nine', 'mount', 'vesuvius', 'erupts', 'the', 'cities', 'of', 'pompeii', 'herculaneum', 'and', 'stabiae', 'are']\n"
     ]
    }
   ],
   "source": [
    "print(corpus_list[102])"
   ]
  },
  {
   "cell_type": "code",
   "execution_count": 7,
   "metadata": {},
   "outputs": [
    {
     "name": "stdout",
     "output_type": "stream",
     "text": [
      "Training model on corpus ...\n",
      "Finished training.\n"
     ]
    }
   ],
   "source": [
    "from gensim.models.word2vec import Word2Vec\n",
    "\n",
    "print(\"Training model on corpus ...\")\n",
    "\n",
    "# Documentation:\n",
    "# https://radimrehurek.com/gensim/models/word2vec.html\n",
    "# sg ({0, 1}, optional) – Training algorithm: 1 for skip-gram; otherwise CBOW.\n",
    "w2v_trained = Word2Vec(corpus, vector_size=100, window=5, min_count=1, sg=0, workers=4)\n",
    "\n",
    "print(\"Finished training.\")"
   ]
  },
  {
   "cell_type": "code",
   "execution_count": 8,
   "metadata": {},
   "outputs": [
    {
     "data": {
      "text/plain": [
       "(253854, 100)"
      ]
     },
     "execution_count": 8,
     "metadata": {},
     "output_type": "execute_result"
    }
   ],
   "source": [
    "# Check the number of embedded words and their embedding size\n",
    "w2v_trained.wv.vectors.shape"
   ]
  },
  {
   "cell_type": "code",
   "execution_count": 10,
   "metadata": {},
   "outputs": [
    {
     "name": "stdout",
     "output_type": "stream",
     "text": [
      "[-2.503998   -1.0762359   2.0096653  -1.4107126   1.6920872   1.9656485\n",
      " -0.40084386  3.728022   -1.938102   -0.3224284  -0.63607043 -2.514667\n",
      "  0.8920524   1.7722608  -1.8970596  -2.129993    0.9414744  -0.14224444\n",
      " -0.74487656 -2.543381   -0.7630517   1.146288   -2.5696552  -1.3838942\n",
      "  0.35299698  1.2499552   1.014935    1.3150206  -0.7191102  -2.3386006\n",
      " -0.56097686 -0.4118629  -0.6506522   1.2293037   1.7199833  -0.763821\n",
      "  1.9963359  -2.6263392  -2.813021    0.5886081   1.1923811   0.44690043\n",
      " -1.9324498  -0.5002427  -2.5768054  -2.9717162  -0.70226777 -0.20196627\n",
      "  0.2418624   0.07033401  3.7145276   0.24674283 -2.813806    2.7252872\n",
      "  0.09581621 -0.2996935   0.98629564  1.0760219  -0.33357987 -3.4596004\n",
      " -0.6158229  -1.1682436   2.7736928  -1.9945807  -2.634128   -0.37424606\n",
      " -2.375186   -2.952631    0.5348708  -1.078055    0.649239   -0.64314723\n",
      " -0.7683042  -1.7180421   0.8966778  -0.4332239   1.0117508  -0.05566332\n",
      " -0.6431061   1.0400877  -0.50110215 -1.1284434   2.3282688   0.5240018\n",
      " -0.77890426  0.93895733  0.9707049  -0.9150191  -1.0387818   1.4622053\n",
      " -0.02583182  0.37510687 -0.7058088   0.0701329   1.1045836  -0.6977197\n",
      "  1.8139894   0.26993772 -0.65948445  0.40102398]\n",
      "queen_vec.shape is (100,)\n"
     ]
    }
   ],
   "source": [
    "# Get the vector to a word\n",
    "queen_vec = w2v_trained.wv['queen']\n",
    "\n",
    "print(queen_vec)\n",
    "print('queen_vec.shape is', queen_vec.shape)"
   ]
  },
  {
   "cell_type": "code",
   "execution_count": 11,
   "metadata": {},
   "outputs": [
    {
     "data": {
      "text/plain": [
       "array([-1.3200872 , -1.199096  ,  1.6383283 ,  0.7086772 ,  0.33072808,\n",
       "        3.1822171 ,  0.05445672,  4.1260223 , -1.8862771 ,  1.5206401 ,\n",
       "       -0.6527298 , -2.4446716 ,  0.173259  ,  2.840488  , -1.3655288 ,\n",
       "       -3.0834198 ,  0.49325332,  0.12201515,  2.9701984 , -2.9621115 ,\n",
       "        1.349327  ,  1.6973311 , -2.6117115 , -0.06939457,  0.9502493 ,\n",
       "        0.55782706,  0.73134005,  2.5534713 ,  1.2808619 , -0.39346886,\n",
       "       -0.785501  , -0.89743596, -0.71086156,  0.18913521,  1.0428326 ,\n",
       "        1.1873785 ,  0.95253146, -0.66242117,  0.57079166, -0.4813458 ,\n",
       "        0.22540875, -0.2781379 , -1.1928288 ,  0.22327168, -4.053267  ,\n",
       "       -0.76896685, -1.556822  ,  0.14309734,  0.805131  , -2.4811275 ,\n",
       "        4.4315906 ,  1.439839  , -3.884041  ,  3.7020686 , -0.7135231 ,\n",
       "       -1.2670193 ,  0.48613805,  0.6423367 ,  0.48217553, -4.1613746 ,\n",
       "        1.7968712 ,  1.7650937 ,  1.0479735 , -1.3203312 , -0.4472963 ,\n",
       "       -1.9863123 , -1.0492373 , -2.2893817 ,  0.93396634, -2.195888  ,\n",
       "        0.34019396, -0.4817662 , -2.3410926 , -3.0779424 ,  0.06536774,\n",
       "       -3.0739043 ,  1.9040754 , -0.8022556 , -1.7671192 ,  1.3163285 ,\n",
       "       -0.04570379, -2.4321697 ,  0.8631803 ,  0.86575145, -0.61635375,\n",
       "        1.2149688 ,  1.248668  , -1.5404832 , -1.7597039 ,  2.3410907 ,\n",
       "       -1.4091169 ,  2.14002   , -0.88916546, -0.80258495,  0.97924364,\n",
       "       -0.24781848,  3.5339885 ,  2.8657048 , -1.5199908 ,  0.09377218],\n",
       "      dtype=float32)"
      ]
     },
     "execution_count": 11,
     "metadata": {},
     "output_type": "execute_result"
    }
   ],
   "source": [
    "w2v_trained.wv['king']"
   ]
  },
  {
   "cell_type": "markdown",
   "metadata": {},
   "source": [
    "We can use the cosine-smililarity metric to compare different embeddings. "
   ]
  },
  {
   "cell_type": "code",
   "execution_count": 12,
   "metadata": {},
   "outputs": [
    {
     "data": {
      "text/plain": [
       "0.7221555"
      ]
     },
     "execution_count": 12,
     "metadata": {},
     "output_type": "execute_result"
    }
   ],
   "source": [
    "w2v_trained.wv.similarity('queen', 'king')"
   ]
  },
  {
   "cell_type": "markdown",
   "metadata": {},
   "source": [
    "or even find the most similar words to a given word"
   ]
  },
  {
   "cell_type": "code",
   "execution_count": 13,
   "metadata": {},
   "outputs": [
    {
     "data": {
      "text/plain": [
       "[('elizabeth', 0.7940473556518555),\n",
       " ('princess', 0.7606390714645386),\n",
       " ('prince', 0.7304962873458862),\n",
       " ('king', 0.7221555113792419),\n",
       " ('consort', 0.6837749481201172),\n",
       " ('mary', 0.6781771183013916),\n",
       " ('lord', 0.6658295392990112),\n",
       " ('crown', 0.6594182252883911),\n",
       " ('duchess', 0.6522725820541382),\n",
       " ('regent', 0.6452118158340454)]"
      ]
     },
     "execution_count": 13,
     "metadata": {},
     "output_type": "execute_result"
    }
   ],
   "source": [
    "w2v_trained.wv.most_similar('queen')"
   ]
  },
  {
   "cell_type": "code",
   "execution_count": 15,
   "metadata": {},
   "outputs": [
    {
     "data": {
      "text/plain": [
       "[('bad', 0.7526035904884338),\n",
       " ('poor', 0.6151307821273804),\n",
       " ('safe', 0.6054111123085022),\n",
       " ('quick', 0.5969580411911011),\n",
       " ('helpful', 0.5772609710693359),\n",
       " ('reasonable', 0.5728416442871094),\n",
       " ('sufficient', 0.5521660447120667),\n",
       " ('simple', 0.5494344234466553),\n",
       " ('practical', 0.5478993654251099),\n",
       " ('pleasure', 0.5459145903587341)]"
      ]
     },
     "execution_count": 15,
     "metadata": {},
     "output_type": "execute_result"
    }
   ],
   "source": [
    "w2v_trained.wv.most_similar('good')"
   ]
  },
  {
   "cell_type": "code",
   "execution_count": null,
   "metadata": {},
   "outputs": [],
   "source": []
  },
  {
   "cell_type": "code",
   "execution_count": 14,
   "metadata": {},
   "outputs": [
    {
     "name": "stderr",
     "output_type": "stream",
     "text": [
      "/opt/homebrew/Caskroom/miniforge/base/envs/2022-02-10_rosetta_py3.8_new/lib/python3.7/site-packages/sklearn/manifold/_t_sne.py:783: FutureWarning: The default initialization in TSNE will change from 'random' to 'pca' in 1.2.\n",
      "  FutureWarning,\n",
      "/opt/homebrew/Caskroom/miniforge/base/envs/2022-02-10_rosetta_py3.8_new/lib/python3.7/site-packages/sklearn/manifold/_t_sne.py:793: FutureWarning: The default learning rate in TSNE will change from 200.0 to 'auto' in 1.2.\n",
      "  FutureWarning,\n"
     ]
    },
    {
     "data": {
      "image/png": "[encoded data removed]",
      "text/plain": [
       "<Figure size 1152x720 with 1 Axes>"
      ]
     },
     "metadata": {
      "needs_background": "light"
     },
     "output_type": "display_data"
    }
   ],
   "source": [
    "#plot to see clustering\n",
    "search_list = ['queen', 'king', 'man', 'cheap', 'west', 'good']\n",
    "plot_word_embeddings(w2v_trained, search_list)"
   ]
  },
  {
   "cell_type": "markdown",
   "metadata": {},
   "source": [
    "#### Find interesting relationships between words: A is to B as C is to ? \n",
    "(Take a look into the lecture slides if you don't know)\n",
    "\n",
    "B - A + C"
   ]
  },
  {
   "cell_type": "code",
   "execution_count": 15,
   "metadata": {},
   "outputs": [
    {
     "data": {
      "text/plain": [
       "[('queen', 0.682550311088562),\n",
       " ('prince', 0.6550226211547852),\n",
       " ('throne', 0.6404703855514526),\n",
       " ('empress', 0.64030522108078),\n",
       " ('princess', 0.6303505897521973),\n",
       " ('emperor', 0.6303259134292603),\n",
       " ('son', 0.6257210373878479),\n",
       " ('dowager', 0.6209217309951782),\n",
       " ('daughter', 0.6184619665145874),\n",
       " ('isabella', 0.612530529499054)]"
      ]
     },
     "execution_count": 15,
     "metadata": {},
     "output_type": "execute_result"
    }
   ],
   "source": [
    "B = 'king'\n",
    "A = 'man'\n",
    "C = 'woman'\n",
    "\n",
    "w2v_trained.wv.most_similar(positive=[B, C], negative=[A])"
   ]
  },
  {
   "cell_type": "code",
   "execution_count": 16,
   "metadata": {},
   "outputs": [
    {
     "data": {
      "text/plain": [
       "[('wife', 0.8292927145957947),\n",
       " ('sister', 0.8078106641769409),\n",
       " ('daughter', 0.8076819777488708),\n",
       " ('grandmother', 0.7587373852729797),\n",
       " ('husband', 0.7538291811943054),\n",
       " ('mother', 0.7444733381271362),\n",
       " ('cousin', 0.7426989078521729),\n",
       " ('daughters', 0.7370845079421997),\n",
       " ('aunt', 0.7365167737007141),\n",
       " ('widow', 0.7343751788139343)]"
      ]
     },
     "execution_count": 16,
     "metadata": {},
     "output_type": "execute_result"
    }
   ],
   "source": [
    "B = 'brother'\n",
    "A = 'man'\n",
    "C = 'woman'\n",
    "\n",
    "w2v_trained.wv.most_similar(positive=[B, C], negative=[A])"
   ]
  },
  {
   "cell_type": "code",
   "execution_count": 17,
   "metadata": {},
   "outputs": [
    {
     "data": {
      "text/plain": [
       "[('russia', 0.7219794988632202),\n",
       " ('finland', 0.7082592844963074),\n",
       " ('hungary', 0.7072414755821228),\n",
       " ('austria', 0.6997374892234802),\n",
       " ('poland', 0.6633777022361755),\n",
       " ('lithuania', 0.6565443277359009),\n",
       " ('moldova', 0.643229603767395),\n",
       " ('libya', 0.6346868276596069),\n",
       " ('albania', 0.6281164884567261),\n",
       " ('macedonia', 0.6238536834716797)]"
      ]
     },
     "execution_count": 17,
     "metadata": {},
     "output_type": "execute_result"
    }
   ],
   "source": [
    "B = 'france'\n",
    "A = 'paris'\n",
    "C = 'germany'\n",
    "\n",
    "w2v_trained.wv.most_similar(positive=[B, C], negative=[A])"
   ]
  },
  {
   "cell_type": "markdown",
   "metadata": {},
   "source": [
    "We can naively compare sentences by adding up all word embeddings of the respective sentences and diving by the length"
   ]
  },
  {
   "cell_type": "code",
   "execution_count": 18,
   "metadata": {},
   "outputs": [],
   "source": [
    "from sklearn.metrics.pairwise import cosine_similarity\n",
    "from copy import deepcopy\n",
    "\n",
    "#TODO: Generalize the similarity function to be able to compare sentences using cosine-similarity\n",
    "\n",
    "def sentence_similarity(embeddings, sentence1, sentence2):\n",
    "    # TODO: Your code here\n",
    "    return"
   ]
  },
  {
   "cell_type": "code",
   "execution_count": null,
   "metadata": {},
   "outputs": [],
   "source": [
    "print(sentence_similarity(w2v_trained.wv, 'apple is more tasty than orange', 'fruit'))\n",
    "print(sentence_similarity(w2v_trained.wv, 'apple is more tasty than orange', 'computer'))"
   ]
  },
  {
   "cell_type": "markdown",
   "metadata": {
    "tags": []
   },
   "source": [
    "## fastText"
   ]
  },
  {
   "cell_type": "markdown",
   "metadata": {},
   "source": [
    "#### A big issue of Word2Vec is the fixed vocabulary size, an alternative solution is provided by fastText"
   ]
  },
  {
   "cell_type": "code",
   "execution_count": 24,
   "metadata": {},
   "outputs": [
    {
     "name": "stdout",
     "output_type": "stream",
     "text": [
      "Error: This word is not in the vocabulary!\n"
     ]
    }
   ],
   "source": [
    "# not in the vocabulary\n",
    "try:\n",
    "    w2v_trained.wv['kingg']\n",
    "except:\n",
    "    print(\"Error: This word is not in the vocabulary!\")"
   ]
  },
  {
   "cell_type": "markdown",
   "metadata": {},
   "source": [
    "### fasttext using gensim"
   ]
  },
  {
   "cell_type": "code",
   "execution_count": 22,
   "metadata": {},
   "outputs": [],
   "source": [
    "from gensim.models.fasttext import FastText\n",
    "\n",
    "# Train your model using the FastText method\n",
    "trained_ft = FastText(corpus, vector_size=100, window=5, min_count=1, epochs=1)"
   ]
  },
  {
   "cell_type": "code",
   "execution_count": 23,
   "metadata": {},
   "outputs": [
    {
     "name": "stdout",
     "output_type": "stream",
     "text": [
      "[('westcoast', 0.9784044027328491), ('southwest', 0.9634443521499634), ('northwest', 0.9588912129402161), ('midwest', 0.956828773021698), ('qwest', 0.9541440606117249), ('westbf', 0.9528689980506897), ('southsouthwest', 0.9526894092559814), ('westf', 0.9518881440162659), ('skywest', 0.9516656994819641), ('westfahl', 0.9492315053939819)]\n",
      "[('franking', 0.9134665131568909), ('chungking', 0.9017376899719238), ('kinghood', 0.9006361365318298), ('kinneging', 0.8873522877693176), ('franksgiving', 0.8802103400230408), ('kingswear', 0.8780089616775513), ('vingt', 0.8779188990592957), ('kingpin', 0.8757917284965515), ('kingcon', 0.8751299381256104), ('kingair', 0.8744027614593506)]\n"
     ]
    }
   ],
   "source": [
    "# Sanity check if trained word-embeddings capture similarities as before\n",
    "print(trained_ft.wv.most_similar('west'))\n",
    "print(trained_ft.wv.most_similar('king'))"
   ]
  },
  {
   "cell_type": "code",
   "execution_count": 24,
   "metadata": {},
   "outputs": [
    {
     "name": "stdout",
     "output_type": "stream",
     "text": [
      "word #0/253854 is the\n",
      "word #1/253854 is of\n",
      "word #2/253854 is and\n",
      "word #3/253854 is one\n",
      "word #4/253854 is in\n",
      "word #5/253854 is a\n",
      "word #6/253854 is to\n",
      "word #7/253854 is zero\n",
      "word #8/253854 is nine\n",
      "word #9/253854 is two\n"
     ]
    }
   ],
   "source": [
    "for index, word in enumerate(trained_ft.wv.index_to_key):\n",
    "    if index == 10:\n",
    "        break\n",
    "    print(f\"word #{index}/{len(trained_ft.wv.index_to_key)} is {word}\")"
   ]
  },
  {
   "cell_type": "code",
   "execution_count": 25,
   "metadata": {},
   "outputs": [
    {
     "name": "stderr",
     "output_type": "stream",
     "text": [
      "/opt/homebrew/Caskroom/miniforge/base/envs/2022-02-10_rosetta_py3.8_new/lib/python3.7/site-packages/sklearn/manifold/_t_sne.py:783: FutureWarning: The default initialization in TSNE will change from 'random' to 'pca' in 1.2.\n",
      "  FutureWarning,\n",
      "/opt/homebrew/Caskroom/miniforge/base/envs/2022-02-10_rosetta_py3.8_new/lib/python3.7/site-packages/sklearn/manifold/_t_sne.py:793: FutureWarning: The default learning rate in TSNE will change from 200.0 to 'auto' in 1.2.\n",
      "  FutureWarning,\n"
     ]
    },
    {
     "data": {
      "image/png": "[encoded data removed]",
      "text/plain": [
       "<Figure size 1152x720 with 1 Axes>"
      ]
     },
     "metadata": {
      "needs_background": "light"
     },
     "output_type": "display_data"
    }
   ],
   "source": [
    "search_list = ['cheap', 'west', 'italian']\n",
    "plot_word_embeddings(trained_ft, search_list)"
   ]
  },
  {
   "cell_type": "code",
   "execution_count": 31,
   "metadata": {},
   "outputs": [
    {
     "data": {
      "text/plain": [
       "[('kingu', 0.9802697896957397),\n",
       " ('kingpin', 0.9707815051078796),\n",
       " ('kingissepp', 0.9666116237640381),\n",
       " ('kingdavid', 0.9563149809837341),\n",
       " ('kinghorn', 0.9546626210212708),\n",
       " ('kingstie', 0.9478106498718262),\n",
       " ('kinginrin', 0.9455602765083313),\n",
       " ('kingwana', 0.9426518678665161),\n",
       " ('kingasveitin', 0.9423435926437378),\n",
       " ('kingair', 0.9401203393936157)]"
      ]
     },
     "execution_count": 31,
     "metadata": {},
     "output_type": "execute_result"
    }
   ],
   "source": [
    "# FastText lets us do comparisons for words outside of the vocabulary in contrast to Word2Vec\n",
    "trained_ft.wv.most_similar('kingg')"
   ]
  },
  {
   "cell_type": "code",
   "execution_count": 34,
   "metadata": {},
   "outputs": [
    {
     "data": {
      "text/plain": [
       "[('expendable', 0.9504278898239136),\n",
       " ('expensive', 0.9450192451477051),\n",
       " ('expendible', 0.9442025423049927),\n",
       " ('expense', 0.9437112212181091),\n",
       " ('expensa', 0.9431797862052917),\n",
       " ('unmeasurable', 0.9413573741912842),\n",
       " ('immeasurable', 0.9346290826797485),\n",
       " ('rateable', 0.932945728302002),\n",
       " ('unpenetrable', 0.9319725632667542),\n",
       " ('exchangeable', 0.9263240098953247)]"
      ]
     },
     "execution_count": 34,
     "metadata": {},
     "output_type": "execute_result"
    }
   ],
   "source": [
    "trained_ft.wv.most_similar('expensif')"
   ]
  },
  {
   "cell_type": "code",
   "execution_count": 26,
   "metadata": {},
   "outputs": [
    {
     "data": {
      "text/plain": [
       "(253854, 100)"
      ]
     },
     "execution_count": 26,
     "metadata": {},
     "output_type": "execute_result"
    }
   ],
   "source": [
    "trained_ft.wv.vectors.shape"
   ]
  },
  {
   "cell_type": "code",
   "execution_count": 62,
   "metadata": {},
   "outputs": [
    {
     "data": {
      "text/html": [
       "        <script type=\"text/javascript\">\n",
       "        window.PlotlyConfig = {MathJaxConfig: 'local'};\n",
       "        if (window.MathJax) {MathJax.Hub.Config({SVG: {font: \"STIX-Web\"}});}\n",
       "        if (typeof require !== 'undefined') {\n",
       "        require.undef(\"plotly\");\n",
       "        requirejs.config({\n",
       "            paths: {\n",
       "                'plotly': ['https://cdn.plot.ly/plotly-2.9.0.min']\n",
       "            }\n",
       "        });\n",
       "        require(['plotly'], function(Plotly) {\n",
       "            window._Plotly = Plotly;\n",
       "        });\n",
       "        }\n",
       "        </script>\n",
       "        "
      ]
     },
     "metadata": {},
     "output_type": "display_data"
    }
   ],
   "source": [
    "from sklearn.decomposition import IncrementalPCA    # inital reduction\n",
    "from sklearn.manifold import TSNE                   # final reduction\n",
    "\n",
    "import plotly.offline as plt\n",
    "from plotly.offline import init_notebook_mode, iplot, plot\n",
    "import plotly.graph_objs as go\n",
    "import plotly.express as px\n",
    "plt.init_notebook_mode(connected=True)\n",
    "\n",
    "import plotly.io as pio\n",
    "pio.renderers.default = \"iframe\"\n",
    "\n",
    "def reduce_dimensions(model, num_dimensions = 2, number_of_vectors = 2000):\n",
    "    # extract the words & their vectors, as numpy arrays\n",
    "    vectors = np.asarray(model.wv.vectors)[:number_of_vectors]\n",
    "    labels = np.asarray(model.wv.index_to_key)[:number_of_vectors]  # fixed-width numpy strings\n",
    "\n",
    "    # reduce using t-SNE\n",
    "    print(\"Dimension reduction using tSNE ...\")\n",
    "    tsne = TSNE(n_components=num_dimensions, random_state=0)\n",
    "    vectors = tsne.fit_transform(vectors)\n",
    "    print(\"Dimension reduction using tSNE Done\")\n",
    "\n",
    "    x_vals = [v[0] for v in vectors]\n",
    "    y_vals = [v[1] for v in vectors]\n",
    "    z_vals = None\n",
    "    if num_dimensions == 3:\n",
    "        z_vals = [v[2] for v in vectors]\n",
    "    \n",
    "    return x_vals, y_vals, z_vals, labels\n",
    "\n",
    "def plot_2d_with_plotly(x_vals, y_vals, labels):\n",
    "    trace = go.Scatter(x=x_vals, y=y_vals, mode='text', text=labels)\n",
    "    data = [trace]\n",
    "\n",
    "    iplot(data, filename='word-embedding-plot-2d')\n",
    "    \n",
    "    return\n",
    "\n",
    "def plot_3d_with_plotly(x_vals, y_vals, z_vals, labels):\n",
    "    trace = go.Scatter3d(x=x_vals, y=y_vals, z=z_vals, mode='text', text=labels)\n",
    "    data = [trace]\n",
    "\n",
    "    iplot(data, filename='word-embedding-plot-3d')\n",
    "    \n",
    "    return\n",
    "\n",
    "def plot_with_matplotlib(x_vals, y_vals, labels):\n",
    "    import matplotlib.pyplot as plt\n",
    "    import random\n",
    "\n",
    "    random.seed(0)\n",
    "\n",
    "    plt.figure(figsize=(12, 12))\n",
    "    plt.scatter(x_vals, y_vals)\n",
    "\n",
    "    #\n",
    "    # Label randomly subsampled 25 data points\n",
    "    #\n",
    "    indices = list(range(len(labels)))\n",
    "    selected_indices = random.sample(indices, 25)\n",
    "    for i in selected_indices:\n",
    "        plt.annotate(labels[i], (x_vals[i], y_vals[i]))\n",
    "        \n",
    "    return"
   ]
  },
  {
   "cell_type": "code",
   "execution_count": 66,
   "metadata": {},
   "outputs": [
    {
     "name": "stdout",
     "output_type": "stream",
     "text": [
      "Dimension reduction using tSNE ...\n"
     ]
    },
    {
     "name": "stderr",
     "output_type": "stream",
     "text": [
      "/opt/homebrew/Caskroom/miniforge/base/envs/2022-02-10_rosetta_py3.8_new/lib/python3.7/site-packages/sklearn/manifold/_t_sne.py:783: FutureWarning:\n",
      "\n",
      "The default initialization in TSNE will change from 'random' to 'pca' in 1.2.\n",
      "\n",
      "/opt/homebrew/Caskroom/miniforge/base/envs/2022-02-10_rosetta_py3.8_new/lib/python3.7/site-packages/sklearn/manifold/_t_sne.py:793: FutureWarning:\n",
      "\n",
      "The default learning rate in TSNE will change from 200.0 to 'auto' in 1.2.\n",
      "\n"
     ]
    },
    {
     "name": "stdout",
     "output_type": "stream",
     "text": [
      "Dimension reduction using tSNE Done\n"
     ]
    }
   ],
   "source": [
    "model = trained_ft\n",
    "x_vals, y_vals, z_vals, labels = reduce_dimensions(model, 3, 1500)"
   ]
  },
  {
   "cell_type": "code",
   "execution_count": 67,
   "metadata": {},
   "outputs": [
    {
     "data": {
      "text/html": [
       "<iframe\n",
       "    scrolling=\"no\"\n",
       "    width=\"100%\"\n",
       "    height=\"545px\"\n",
       "    src=\"iframe_figures/figure_67.html\"\n",
       "    frameborder=\"0\"\n",
       "    allowfullscreen\n",
       "></iframe>\n"
      ]
     },
     "metadata": {},
     "output_type": "display_data"
    }
   ],
   "source": [
    "# plot_with_matplotlib(x_vals, y_vals, labels)\n",
    "# plot_2d_with_plotly(x_vals, y_vals, labels)\n",
    "plot_3d_with_plotly(x_vals, y_vals, z_vals, labels)"
   ]
  },
  {
   "cell_type": "code",
   "execution_count": null,
   "metadata": {},
   "outputs": [],
   "source": []
  },
  {
   "cell_type": "markdown",
   "metadata": {
    "tags": []
   },
   "source": [
    "## GloVe"
   ]
  },
  {
   "cell_type": "code",
   "execution_count": 7,
   "metadata": {},
   "outputs": [],
   "source": [
    "# TODO"
   ]
  }
 ],
 "metadata": {
  "kernelspec": {
   "display_name": "Python 3 (ipykernel)",
   "language": "python",
   "name": "python3"
  },
  "language_info": {
   "codemirror_mode": {
    "name": "ipython",
    "version": 3
   },
   "file_extension": ".py",
   "mimetype": "text/x-python",
   "name": "python",
   "nbconvert_exporter": "python",
   "pygments_lexer": "ipython3",
   "version": "3.7.12"
  }
 },
 "nbformat": 4,
 "nbformat_minor": 4
}
