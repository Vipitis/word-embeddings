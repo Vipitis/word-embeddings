{
 "cells": [
  {
   "cell_type": "markdown",
   "metadata": {},
   "source": [
    "# Word Embeddings with word2vec, fastText and GloVe"
   ]
  },
  {
   "cell_type": "code",
   "execution_count": 31,
   "metadata": {},
   "outputs": [
    {
     "name": "stdout",
     "output_type": "stream",
     "text": [
      "Requirement already satisfied: gensim in /opt/homebrew/Caskroom/miniforge/base/envs/2022-02-10_rosetta_py3.8_new/lib/python3.7/site-packages (4.1.2)\n",
      "Collecting plotly\n",
      "  Using cached plotly-5.6.0-py2.py3-none-any.whl (27.7 MB)\n",
      "Requirement already satisfied: numpy>=1.17.0 in /opt/homebrew/Caskroom/miniforge/base/envs/2022-02-10_rosetta_py3.8_new/lib/python3.7/site-packages (from gensim) (1.21.5)\n",
      "Requirement already satisfied: scipy>=0.18.1 in /opt/homebrew/Caskroom/miniforge/base/envs/2022-02-10_rosetta_py3.8_new/lib/python3.7/site-packages (from gensim) (1.7.3)\n",
      "Requirement already satisfied: smart-open>=1.8.1 in /opt/homebrew/Caskroom/miniforge/base/envs/2022-02-10_rosetta_py3.8_new/lib/python3.7/site-packages (from gensim) (5.2.1)\n",
      "Collecting tenacity>=6.2.0\n",
      "  Using cached tenacity-8.0.1-py3-none-any.whl (24 kB)\n",
      "Requirement already satisfied: six in /opt/homebrew/Caskroom/miniforge/base/envs/2022-02-10_rosetta_py3.8_new/lib/python3.7/site-packages (from plotly) (1.16.0)\n",
      "Installing collected packages: tenacity, plotly\n",
      "Successfully installed plotly-5.6.0 tenacity-8.0.1\n"
     ]
    }
   ],
   "source": [
    "!pip install gensim plotly"
   ]
  },
  {
   "cell_type": "code",
   "execution_count": 19,
   "metadata": {},
   "outputs": [],
   "source": [
    "%matplotlib inline\n",
    "\n",
    "import os\n",
    "import urllib.request\n",
    "import gensim\n",
    "from sklearn.manifold import TSNE\n",
    "import matplotlib.pyplot as plt\n",
    "import numpy as np"
   ]
  },
  {
   "cell_type": "markdown",
   "metadata": {},
   "source": [
    "#### Q: Name two advantages of using dense parametrised word representations compared to one-hot vectors\n",
    "\n",
    "#### A: Give your answer here\n",
    "\n",
    "1) We can define a similarity measure between different words, for example using the cosine of the scalar product (which would be zero for the one-hot encoding since all vectors are orthogonal)\n",
    "\n",
    "2) Can try to embedd in lower-dimensional space (do not need a separate dimension for each word) "
   ]
  },
  {
   "cell_type": "markdown",
   "metadata": {},
   "source": [
    "## Play around with pre-trained Word2Vec"
   ]
  },
  {
   "cell_type": "code",
   "execution_count": 20,
   "metadata": {},
   "outputs": [],
   "source": [
    "#convenience function for plotting embeddings into 2-dimensional space\n",
    "\n",
    "def plot_word_embeddings(model, search_list):\n",
    "    words = []\n",
    "    for term in search_list:\n",
    "        words += [w[0] for w in model.wv.most_similar([term], topn=6)]                                   \n",
    "    words += search_list\n",
    "    words = list(dict.fromkeys(words)) # remove duplicates\n",
    "\n",
    "    vectors = model.wv[words]\n",
    "    \n",
    "    tsne = TSNE(n_components=2, random_state=0, n_iter=10000, perplexity=7)\n",
    "    T = tsne.fit_transform(vectors)\n",
    "\n",
    "    plt.figure(figsize=(16, 10))\n",
    "    plt.scatter(T[:, 0], T[:, 1])\n",
    "    for label, x, y in zip(words, T[:, 0], T[:, 1]):\n",
    "        plt.annotate(label, xy=(x+2, y+2), xytext=(0, 0), textcoords='offset points')"
   ]
  },
  {
   "cell_type": "code",
   "execution_count": 21,
   "metadata": {},
   "outputs": [
    {
     "data": {
      "text/plain": [
       "{'num_records': 1701,\n",
       " 'record_format': 'list of str (tokens)',\n",
       " 'file_size': 33182058,\n",
       " 'reader_code': 'https://github.com/RaRe-Technologies/gensim-data/releases/download/text8/__init__.py',\n",
       " 'license': 'not found',\n",
       " 'description': 'First 100,000,000 bytes of plain text from Wikipedia. Used for testing purposes; see wiki-english-* for proper full Wikipedia datasets.',\n",
       " 'checksum': '68799af40b6bda07dfa47a32612e5364',\n",
       " 'file_name': 'text8.gz',\n",
       " 'read_more': ['http://mattmahoney.net/dc/textdata.html'],\n",
       " 'parts': 1}"
      ]
     },
     "execution_count": 21,
     "metadata": {},
     "output_type": "execute_result"
    }
   ],
   "source": [
    "import gensim.downloader as api\n",
    "\n",
    "corpus = api.load('text8')\n",
    "api.info(\"text8\")"
   ]
  },
  {
   "cell_type": "code",
   "execution_count": 11,
   "metadata": {
    "scrolled": true,
    "tags": []
   },
   "outputs": [],
   "source": [
    "# inspect the training corpus\n",
    "corpus_list = [doc for doc in corpus]"
   ]
  },
  {
   "cell_type": "code",
   "execution_count": 18,
   "metadata": {
    "scrolled": true,
    "tags": []
   },
   "outputs": [
    {
     "ename": "NameError",
     "evalue": "name 'corpus_list' is not defined",
     "output_type": "error",
     "traceback": [
      "\u001b[0;31m---------------------------------------------------------------------------\u001b[0m",
      "\u001b[0;31mNameError\u001b[0m                                 Traceback (most recent call last)",
      "\u001b[0;32m/var/folders/0c/9tsvp_bj2v31y03m_wwndkth0000gn/T/ipykernel_90775/774169194.py\u001b[0m in \u001b[0;36m<module>\u001b[0;34m\u001b[0m\n\u001b[0;32m----> 1\u001b[0;31m \u001b[0mprint\u001b[0m\u001b[0;34m(\u001b[0m\u001b[0mcorpus_list\u001b[0m\u001b[0;34m[\u001b[0m\u001b[0;36m102\u001b[0m\u001b[0;34m]\u001b[0m\u001b[0;34m)\u001b[0m\u001b[0;34m\u001b[0m\u001b[0;34m\u001b[0m\u001b[0m\n\u001b[0m",
      "\u001b[0;31mNameError\u001b[0m: name 'corpus_list' is not defined"
     ]
    }
   ],
   "source": [
    "print(corpus_list[102])"
   ]
  },
  {
   "cell_type": "code",
   "execution_count": 6,
   "metadata": {},
   "outputs": [
    {
     "name": "stdout",
     "output_type": "stream",
     "text": [
      "Training model on corpus ...\n",
      "Finished training.\n"
     ]
    }
   ],
   "source": [
    "from gensim.models.word2vec import Word2Vec\n",
    "\n",
    "print(\"Training model on corpus ...\")\n",
    "\n",
    "# Documentation:\n",
    "# https://radimrehurek.com/gensim/models/word2vec.html\n",
    "# sg ({0, 1}, optional) – Training algorithm: 1 for skip-gram; otherwise CBOW.\n",
    "w2v_trained = Word2Vec(corpus, vector_size=100, window=5, min_count=1, sg=0, workers=4)\n",
    "\n",
    "print(\"Finished training.\")"
   ]
  },
  {
   "cell_type": "code",
   "execution_count": 8,
   "metadata": {},
   "outputs": [
    {
     "data": {
      "text/plain": [
       "(253854, 100)"
      ]
     },
     "execution_count": 8,
     "metadata": {},
     "output_type": "execute_result"
    }
   ],
   "source": [
    "# Check the number of embedded words and their embedding size\n",
    "w2v_trained.wv.vectors.shape"
   ]
  },
  {
   "cell_type": "code",
   "execution_count": 10,
   "metadata": {},
   "outputs": [
    {
     "name": "stdout",
     "output_type": "stream",
     "text": [
      "[-2.503998   -1.0762359   2.0096653  -1.4107126   1.6920872   1.9656485\n",
      " -0.40084386  3.728022   -1.938102   -0.3224284  -0.63607043 -2.514667\n",
      "  0.8920524   1.7722608  -1.8970596  -2.129993    0.9414744  -0.14224444\n",
      " -0.74487656 -2.543381   -0.7630517   1.146288   -2.5696552  -1.3838942\n",
      "  0.35299698  1.2499552   1.014935    1.3150206  -0.7191102  -2.3386006\n",
      " -0.56097686 -0.4118629  -0.6506522   1.2293037   1.7199833  -0.763821\n",
      "  1.9963359  -2.6263392  -2.813021    0.5886081   1.1923811   0.44690043\n",
      " -1.9324498  -0.5002427  -2.5768054  -2.9717162  -0.70226777 -0.20196627\n",
      "  0.2418624   0.07033401  3.7145276   0.24674283 -2.813806    2.7252872\n",
      "  0.09581621 -0.2996935   0.98629564  1.0760219  -0.33357987 -3.4596004\n",
      " -0.6158229  -1.1682436   2.7736928  -1.9945807  -2.634128   -0.37424606\n",
      " -2.375186   -2.952631    0.5348708  -1.078055    0.649239   -0.64314723\n",
      " -0.7683042  -1.7180421   0.8966778  -0.4332239   1.0117508  -0.05566332\n",
      " -0.6431061   1.0400877  -0.50110215 -1.1284434   2.3282688   0.5240018\n",
      " -0.77890426  0.93895733  0.9707049  -0.9150191  -1.0387818   1.4622053\n",
      " -0.02583182  0.37510687 -0.7058088   0.0701329   1.1045836  -0.6977197\n",
      "  1.8139894   0.26993772 -0.65948445  0.40102398]\n",
      "queen_vec.shape is (100,)\n"
     ]
    }
   ],
   "source": [
    "# Get the vector to a word\n",
    "queen_vec = w2v_trained.wv['queen']\n",
    "\n",
    "print(queen_vec)\n",
    "print('queen_vec.shape is', queen_vec.shape)"
   ]
  },
  {
   "cell_type": "code",
   "execution_count": 11,
   "metadata": {},
   "outputs": [
    {
     "data": {
      "text/plain": [
       "array([-1.3200872 , -1.199096  ,  1.6383283 ,  0.7086772 ,  0.33072808,\n",
       "        3.1822171 ,  0.05445672,  4.1260223 , -1.8862771 ,  1.5206401 ,\n",
       "       -0.6527298 , -2.4446716 ,  0.173259  ,  2.840488  , -1.3655288 ,\n",
       "       -3.0834198 ,  0.49325332,  0.12201515,  2.9701984 , -2.9621115 ,\n",
       "        1.349327  ,  1.6973311 , -2.6117115 , -0.06939457,  0.9502493 ,\n",
       "        0.55782706,  0.73134005,  2.5534713 ,  1.2808619 , -0.39346886,\n",
       "       -0.785501  , -0.89743596, -0.71086156,  0.18913521,  1.0428326 ,\n",
       "        1.1873785 ,  0.95253146, -0.66242117,  0.57079166, -0.4813458 ,\n",
       "        0.22540875, -0.2781379 , -1.1928288 ,  0.22327168, -4.053267  ,\n",
       "       -0.76896685, -1.556822  ,  0.14309734,  0.805131  , -2.4811275 ,\n",
       "        4.4315906 ,  1.439839  , -3.884041  ,  3.7020686 , -0.7135231 ,\n",
       "       -1.2670193 ,  0.48613805,  0.6423367 ,  0.48217553, -4.1613746 ,\n",
       "        1.7968712 ,  1.7650937 ,  1.0479735 , -1.3203312 , -0.4472963 ,\n",
       "       -1.9863123 , -1.0492373 , -2.2893817 ,  0.93396634, -2.195888  ,\n",
       "        0.34019396, -0.4817662 , -2.3410926 , -3.0779424 ,  0.06536774,\n",
       "       -3.0739043 ,  1.9040754 , -0.8022556 , -1.7671192 ,  1.3163285 ,\n",
       "       -0.04570379, -2.4321697 ,  0.8631803 ,  0.86575145, -0.61635375,\n",
       "        1.2149688 ,  1.248668  , -1.5404832 , -1.7597039 ,  2.3410907 ,\n",
       "       -1.4091169 ,  2.14002   , -0.88916546, -0.80258495,  0.97924364,\n",
       "       -0.24781848,  3.5339885 ,  2.8657048 , -1.5199908 ,  0.09377218],\n",
       "      dtype=float32)"
      ]
     },
     "execution_count": 11,
     "metadata": {},
     "output_type": "execute_result"
    }
   ],
   "source": [
    "w2v_trained.wv['king']"
   ]
  },
  {
   "cell_type": "markdown",
   "metadata": {},
   "source": [
    "We can use the cosine-smililarity metric to compare different embeddings. "
   ]
  },
  {
   "cell_type": "code",
   "execution_count": 12,
   "metadata": {},
   "outputs": [
    {
     "data": {
      "text/plain": [
       "0.7221555"
      ]
     },
     "execution_count": 12,
     "metadata": {},
     "output_type": "execute_result"
    }
   ],
   "source": [
    "w2v_trained.wv.similarity('queen', 'king')"
   ]
  },
  {
   "cell_type": "markdown",
   "metadata": {},
   "source": [
    "or even find the most similar words to a given word"
   ]
  },
  {
   "cell_type": "code",
   "execution_count": 13,
   "metadata": {},
   "outputs": [
    {
     "data": {
      "text/plain": [
       "[('elizabeth', 0.7940473556518555),\n",
       " ('princess', 0.7606390714645386),\n",
       " ('prince', 0.7304962873458862),\n",
       " ('king', 0.7221555113792419),\n",
       " ('consort', 0.6837749481201172),\n",
       " ('mary', 0.6781771183013916),\n",
       " ('lord', 0.6658295392990112),\n",
       " ('crown', 0.6594182252883911),\n",
       " ('duchess', 0.6522725820541382),\n",
       " ('regent', 0.6452118158340454)]"
      ]
     },
     "execution_count": 13,
     "metadata": {},
     "output_type": "execute_result"
    }
   ],
   "source": [
    "w2v_trained.wv.most_similar('queen')"
   ]
  },
  {
   "cell_type": "code",
   "execution_count": 14,
   "metadata": {},
   "outputs": [
    {
     "name": "stderr",
     "output_type": "stream",
     "text": [
      "/opt/homebrew/Caskroom/miniforge/base/envs/2022-02-10_rosetta_py3.8_new/lib/python3.7/site-packages/sklearn/manifold/_t_sne.py:783: FutureWarning: The default initialization in TSNE will change from 'random' to 'pca' in 1.2.\n",
      "  FutureWarning,\n",
      "/opt/homebrew/Caskroom/miniforge/base/envs/2022-02-10_rosetta_py3.8_new/lib/python3.7/site-packages/sklearn/manifold/_t_sne.py:793: FutureWarning: The default learning rate in TSNE will change from 200.0 to 'auto' in 1.2.\n",
      "  FutureWarning,\n"
     ]
    },
    {
     "data": {
      "image/png": "[encoded data removed]",
      "text/plain": [
       "<Figure size 1152x720 with 1 Axes>"
      ]
     },
     "metadata": {
      "needs_background": "light"
     },
     "output_type": "display_data"
    }
   ],
   "source": [
    "#plot to see clustering\n",
    "search_list = ['queen', 'king', 'man', 'cheap', 'west', 'good']\n",
    "plot_word_embeddings(w2v_trained, search_list)"
   ]
  },
  {
   "cell_type": "markdown",
   "metadata": {},
   "source": [
    "#### Find interesting relationships between words: A is to B as C is to ? \n",
    "(Take a look into the lecture slides if you don't know)\n",
    "\n",
    "B - A + C"
   ]
  },
  {
   "cell_type": "code",
   "execution_count": 15,
   "metadata": {},
   "outputs": [
    {
     "data": {
      "text/plain": [
       "[('queen', 0.682550311088562),\n",
       " ('prince', 0.6550226211547852),\n",
       " ('throne', 0.6404703855514526),\n",
       " ('empress', 0.64030522108078),\n",
       " ('princess', 0.6303505897521973),\n",
       " ('emperor', 0.6303259134292603),\n",
       " ('son', 0.6257210373878479),\n",
       " ('dowager', 0.6209217309951782),\n",
       " ('daughter', 0.6184619665145874),\n",
       " ('isabella', 0.612530529499054)]"
      ]
     },
     "execution_count": 15,
     "metadata": {},
     "output_type": "execute_result"
    }
   ],
   "source": [
    "B = 'king'\n",
    "A = 'man'\n",
    "C = 'woman'\n",
    "\n",
    "w2v_trained.wv.most_similar(positive=[B, C], negative=[A])"
   ]
  },
  {
   "cell_type": "code",
   "execution_count": 16,
   "metadata": {},
   "outputs": [
    {
     "data": {
      "text/plain": [
       "[('wife', 0.8292927145957947),\n",
       " ('sister', 0.8078106641769409),\n",
       " ('daughter', 0.8076819777488708),\n",
       " ('grandmother', 0.7587373852729797),\n",
       " ('husband', 0.7538291811943054),\n",
       " ('mother', 0.7444733381271362),\n",
       " ('cousin', 0.7426989078521729),\n",
       " ('daughters', 0.7370845079421997),\n",
       " ('aunt', 0.7365167737007141),\n",
       " ('widow', 0.7343751788139343)]"
      ]
     },
     "execution_count": 16,
     "metadata": {},
     "output_type": "execute_result"
    }
   ],
   "source": [
    "B = 'brother'\n",
    "A = 'man'\n",
    "C = 'woman'\n",
    "\n",
    "w2v_trained.wv.most_similar(positive=[B, C], negative=[A])"
   ]
  },
  {
   "cell_type": "code",
   "execution_count": 17,
   "metadata": {},
   "outputs": [
    {
     "data": {
      "text/plain": [
       "[('russia', 0.7219794988632202),\n",
       " ('finland', 0.7082592844963074),\n",
       " ('hungary', 0.7072414755821228),\n",
       " ('austria', 0.6997374892234802),\n",
       " ('poland', 0.6633777022361755),\n",
       " ('lithuania', 0.6565443277359009),\n",
       " ('moldova', 0.643229603767395),\n",
       " ('libya', 0.6346868276596069),\n",
       " ('albania', 0.6281164884567261),\n",
       " ('macedonia', 0.6238536834716797)]"
      ]
     },
     "execution_count": 17,
     "metadata": {},
     "output_type": "execute_result"
    }
   ],
   "source": [
    "B = 'france'\n",
    "A = 'paris'\n",
    "C = 'germany'\n",
    "\n",
    "w2v_trained.wv.most_similar(positive=[B, C], negative=[A])"
   ]
  },
  {
   "cell_type": "markdown",
   "metadata": {},
   "source": [
    "We can naively compare sentences by adding up all word embeddings of the respective sentences and diving by the length"
   ]
  },
  {
   "cell_type": "code",
   "execution_count": 18,
   "metadata": {},
   "outputs": [],
   "source": [
    "from sklearn.metrics.pairwise import cosine_similarity\n",
    "from copy import deepcopy\n",
    "\n",
    "#TODO: Generalize the similarity function to be able to compare sentences using cosine-similarity\n",
    "\n",
    "def sentence_similarity(embeddings, sentence1, sentence2):\n",
    "    # TODO: Your code here\n",
    "    return"
   ]
  },
  {
   "cell_type": "code",
   "execution_count": null,
   "metadata": {},
   "outputs": [],
   "source": [
    "print(sentence_similarity(w2v_trained.wv, 'apple is more tasty than orange', 'fruit'))\n",
    "print(sentence_similarity(w2v_trained.wv, 'apple is more tasty than orange', 'computer'))"
   ]
  },
  {
   "cell_type": "markdown",
   "metadata": {
    "tags": []
   },
   "source": [
    "## fastText"
   ]
  },
  {
   "cell_type": "markdown",
   "metadata": {},
   "source": [
    "#### A big issue of Word2Vec is the fixed vocabulary size, an alternative solution is provided by fastText"
   ]
  },
  {
   "cell_type": "code",
   "execution_count": 24,
   "metadata": {},
   "outputs": [
    {
     "name": "stdout",
     "output_type": "stream",
     "text": [
      "Error: This word is not in the vocabulary!\n"
     ]
    }
   ],
   "source": [
    "# not in the vocabulary\n",
    "try:\n",
    "    w2v_trained.wv['kingg']\n",
    "except:\n",
    "    print(\"Error: This word is not in the vocabulary!\")"
   ]
  },
  {
   "cell_type": "markdown",
   "metadata": {},
   "source": [
    "### fasttext using gensim"
   ]
  },
  {
   "cell_type": "code",
   "execution_count": 22,
   "metadata": {},
   "outputs": [],
   "source": [
    "from gensim.models.fasttext import FastText\n",
    "\n",
    "# Train your model using the FastText method\n",
    "trained_ft = FastText(corpus, vector_size=100, window=5, min_count=1, epochs=1)"
   ]
  },
  {
   "cell_type": "code",
   "execution_count": 23,
   "metadata": {},
   "outputs": [
    {
     "name": "stdout",
     "output_type": "stream",
     "text": [
      "[('westcoast', 0.9784044027328491), ('southwest', 0.9634443521499634), ('northwest', 0.9588912129402161), ('midwest', 0.956828773021698), ('qwest', 0.9541440606117249), ('westbf', 0.9528689980506897), ('southsouthwest', 0.9526894092559814), ('westf', 0.9518881440162659), ('skywest', 0.9516656994819641), ('westfahl', 0.9492315053939819)]\n",
      "[('franking', 0.9134665131568909), ('chungking', 0.9017376899719238), ('kinghood', 0.9006361365318298), ('kinneging', 0.8873522877693176), ('franksgiving', 0.8802103400230408), ('kingswear', 0.8780089616775513), ('vingt', 0.8779188990592957), ('kingpin', 0.8757917284965515), ('kingcon', 0.8751299381256104), ('kingair', 0.8744027614593506)]\n"
     ]
    }
   ],
   "source": [
    "# Sanity check if trained word-embeddings capture similarities as before\n",
    "print(trained_ft.wv.most_similar('west'))\n",
    "print(trained_ft.wv.most_similar('king'))"
   ]
  },
  {
   "cell_type": "code",
   "execution_count": 24,
   "metadata": {},
   "outputs": [
    {
     "name": "stdout",
     "output_type": "stream",
     "text": [
      "word #0/253854 is the\n",
      "word #1/253854 is of\n",
      "word #2/253854 is and\n",
      "word #3/253854 is one\n",
      "word #4/253854 is in\n",
      "word #5/253854 is a\n",
      "word #6/253854 is to\n",
      "word #7/253854 is zero\n",
      "word #8/253854 is nine\n",
      "word #9/253854 is two\n"
     ]
    }
   ],
   "source": [
    "for index, word in enumerate(trained_ft.wv.index_to_key):\n",
    "    if index == 10:\n",
    "        break\n",
    "    print(f\"word #{index}/{len(trained_ft.wv.index_to_key)} is {word}\")"
   ]
  },
  {
   "cell_type": "code",
   "execution_count": 25,
   "metadata": {},
   "outputs": [
    {
     "name": "stderr",
     "output_type": "stream",
     "text": [
      "/opt/homebrew/Caskroom/miniforge/base/envs/2022-02-10_rosetta_py3.8_new/lib/python3.7/site-packages/sklearn/manifold/_t_sne.py:783: FutureWarning: The default initialization in TSNE will change from 'random' to 'pca' in 1.2.\n",
      "  FutureWarning,\n",
      "/opt/homebrew/Caskroom/miniforge/base/envs/2022-02-10_rosetta_py3.8_new/lib/python3.7/site-packages/sklearn/manifold/_t_sne.py:793: FutureWarning: The default learning rate in TSNE will change from 200.0 to 'auto' in 1.2.\n",
      "  FutureWarning,\n"
     ]
    },
    {
     "data": {
      "image/png": "[encoded data removed]",
      "text/plain": [
       "<Figure size 1152x720 with 1 Axes>"
      ]
     },
     "metadata": {
      "needs_background": "light"
     },
     "output_type": "display_data"
    }
   ],
   "source": [
    "search_list = ['cheap', 'west', 'italian']\n",
    "plot_word_embeddings(trained_ft, search_list)"
   ]
  },
  {
   "cell_type": "code",
   "execution_count": 31,
   "metadata": {},
   "outputs": [
    {
     "data": {
      "text/plain": [
       "[('kingu', 0.9802697896957397),\n",
       " ('kingpin', 0.9707815051078796),\n",
       " ('kingissepp', 0.9666116237640381),\n",
       " ('kingdavid', 0.9563149809837341),\n",
       " ('kinghorn', 0.9546626210212708),\n",
       " ('kingstie', 0.9478106498718262),\n",
       " ('kinginrin', 0.9455602765083313),\n",
       " ('kingwana', 0.9426518678665161),\n",
       " ('kingasveitin', 0.9423435926437378),\n",
       " ('kingair', 0.9401203393936157)]"
      ]
     },
     "execution_count": 31,
     "metadata": {},
     "output_type": "execute_result"
    }
   ],
   "source": [
    "# FastText lets us do comparisons for words outside of the vocabulary in contrast to Word2Vec\n",
    "trained_ft.wv.most_similar('kingg')"
   ]
  },
  {
   "cell_type": "code",
   "execution_count": 34,
   "metadata": {},
   "outputs": [
    {
     "data": {
      "text/plain": [
       "[('expendable', 0.9504278898239136),\n",
       " ('expensive', 0.9450192451477051),\n",
       " ('expendible', 0.9442025423049927),\n",
       " ('expense', 0.9437112212181091),\n",
       " ('expensa', 0.9431797862052917),\n",
       " ('unmeasurable', 0.9413573741912842),\n",
       " ('immeasurable', 0.9346290826797485),\n",
       " ('rateable', 0.932945728302002),\n",
       " ('unpenetrable', 0.9319725632667542),\n",
       " ('exchangeable', 0.9263240098953247)]"
      ]
     },
     "execution_count": 34,
     "metadata": {},
     "output_type": "execute_result"
    }
   ],
   "source": [
    "trained_ft.wv.most_similar('expensif')"
   ]
  },
  {
   "cell_type": "code",
   "execution_count": 26,
   "metadata": {},
   "outputs": [
    {
     "data": {
      "text/plain": [
       "(253854, 100)"
      ]
     },
     "execution_count": 26,
     "metadata": {},
     "output_type": "execute_result"
    }
   ],
   "source": [
    "trained_ft.wv.vectors.shape"
   ]
  },
  {
   "cell_type": "code",
   "execution_count": 62,
   "metadata": {},
   "outputs": [
    {
     "data": {
      "text/html": [
       "        <script type=\"text/javascript\">\n",
       "        window.PlotlyConfig = {MathJaxConfig: 'local'};\n",
       "        if (window.MathJax) {MathJax.Hub.Config({SVG: {font: \"STIX-Web\"}});}\n",
       "        if (typeof require !== 'undefined') {\n",
       "        require.undef(\"plotly\");\n",
       "        requirejs.config({\n",
       "            paths: {\n",
       "                'plotly': ['https://cdn.plot.ly/plotly-2.9.0.min']\n",
       "            }\n",
       "        });\n",
       "        require(['plotly'], function(Plotly) {\n",
       "            window._Plotly = Plotly;\n",
       "        });\n",
       "        }\n",
       "        </script>\n",
       "        "
      ]
     },
     "metadata": {},
     "output_type": "display_data"
    }
   ],
   "source": [
    "from sklearn.decomposition import IncrementalPCA    # inital reduction\n",
    "from sklearn.manifold import TSNE                   # final reduction\n",
    "\n",
    "import plotly.offline as plt\n",
    "from plotly.offline import init_notebook_mode, iplot, plot\n",
    "import plotly.graph_objs as go\n",
    "import plotly.express as px\n",
    "plt.init_notebook_mode(connected=True)\n",
    "\n",
    "import plotly.io as pio\n",
    "pio.renderers.default = \"iframe\"\n",
    "\n",
    "def reduce_dimensions(model, num_dimensions = 2, number_of_vectors = 2000):\n",
    "    # extract the words & their vectors, as numpy arrays\n",
    "    vectors = np.asarray(model.wv.vectors)[:number_of_vectors]\n",
    "    labels = np.asarray(model.wv.index_to_key)[:number_of_vectors]  # fixed-width numpy strings\n",
    "\n",
    "    # reduce using t-SNE\n",
    "    print(\"Dimension reduction using tSNE ...\")\n",
    "    tsne = TSNE(n_components=num_dimensions, random_state=0)\n",
    "    vectors = tsne.fit_transform(vectors)\n",
    "    print(\"Dimension reduction using tSNE Done\")\n",
    "\n",
    "    x_vals = [v[0] for v in vectors]\n",
    "    y_vals = [v[1] for v in vectors]\n",
    "    z_vals = None\n",
    "    if num_dimensions == 3:\n",
    "        z_vals = [v[2] for v in vectors]\n",
    "    \n",
    "    return x_vals, y_vals, z_vals, labels\n",
    "\n",
    "def plot_2d_with_plotly(x_vals, y_vals, labels):\n",
    "    trace = go.Scatter(x=x_vals, y=y_vals, mode='text', text=labels)\n",
    "    data = [trace]\n",
    "\n",
    "    iplot(data, filename='word-embedding-plot-2d')\n",
    "    \n",
    "    return\n",
    "\n",
    "def plot_3d_with_plotly(x_vals, y_vals, z_vals, labels):\n",
    "    trace = go.Scatter3d(x=x_vals, y=y_vals, z=z_vals, mode='text', text=labels)\n",
    "    data = [trace]\n",
    "\n",
    "    iplot(data, filename='word-embedding-plot-3d')\n",
    "    \n",
    "    return\n",
    "\n",
    "def plot_with_matplotlib(x_vals, y_vals, labels):\n",
    "    import matplotlib.pyplot as plt\n",
    "    import random\n",
    "\n",
    "    random.seed(0)\n",
    "\n",
    "    plt.figure(figsize=(12, 12))\n",
    "    plt.scatter(x_vals, y_vals)\n",
    "\n",
    "    #\n",
    "    # Label randomly subsampled 25 data points\n",
    "    #\n",
    "    indices = list(range(len(labels)))\n",
    "    selected_indices = random.sample(indices, 25)\n",
    "    for i in selected_indices:\n",
    "        plt.annotate(labels[i], (x_vals[i], y_vals[i]))\n",
    "        \n",
    "    return"
   ]
  },
  {
   "cell_type": "code",
   "execution_count": 66,
   "metadata": {},
   "outputs": [
    {
     "name": "stdout",
     "output_type": "stream",
     "text": [
      "Dimension reduction using tSNE ...\n"
     ]
    },
    {
     "name": "stderr",
     "output_type": "stream",
     "text": [
      "/opt/homebrew/Caskroom/miniforge/base/envs/2022-02-10_rosetta_py3.8_new/lib/python3.7/site-packages/sklearn/manifold/_t_sne.py:783: FutureWarning:\n",
      "\n",
      "The default initialization in TSNE will change from 'random' to 'pca' in 1.2.\n",
      "\n",
      "/opt/homebrew/Caskroom/miniforge/base/envs/2022-02-10_rosetta_py3.8_new/lib/python3.7/site-packages/sklearn/manifold/_t_sne.py:793: FutureWarning:\n",
      "\n",
      "The default learning rate in TSNE will change from 200.0 to 'auto' in 1.2.\n",
      "\n"
     ]
    },
    {
     "name": "stdout",
     "output_type": "stream",
     "text": [
      "Dimension reduction using tSNE Done\n"
     ]
    }
   ],
   "source": [
    "model = trained_ft\n",
    "x_vals, y_vals, z_vals, labels = reduce_dimensions(model, 3, 1500)"
   ]
  },
  {
   "cell_type": "code",
   "execution_count": 67,
   "metadata": {},
   "outputs": [
    {
     "data": {
      "text/html": [
       "<iframe\n",
       "    scrolling=\"no\"\n",
       "    width=\"100%\"\n",
       "    height=\"545px\"\n",
       "    src=\"iframe_figures/figure_67.html\"\n",
       "    frameborder=\"0\"\n",
       "    allowfullscreen\n",
       "></iframe>\n"
      ]
     },
     "metadata": {},
     "output_type": "display_data"
    }
   ],
   "source": [
    "# plot_with_matplotlib(x_vals, y_vals, labels)\n",
    "# plot_2d_with_plotly(x_vals, y_vals, labels)\n",
    "plot_3d_with_plotly(x_vals, y_vals, z_vals, labels)"
   ]
  },
  {
   "cell_type": "code",
   "execution_count": null,
   "metadata": {},
   "outputs": [],
   "source": []
  },
  {
   "cell_type": "markdown",
   "metadata": {
    "tags": []
   },
   "source": [
    "## GloVe"
   ]
  },
  {
   "cell_type": "code",
   "execution_count": 7,
   "metadata": {},
   "outputs": [],
   "source": [
    "# TODO"
   ]
  }
 ],
 "metadata": {
  "kernelspec": {
   "display_name": "Python 3 (ipykernel)",
   "language": "python",
   "name": "python3"
  },
  "language_info": {
   "codemirror_mode": {
    "name": "ipython",
    "version": 3
   },
   "file_extension": ".py",
   "mimetype": "text/x-python",
   "name": "python",
   "nbconvert_exporter": "python",
   "pygments_lexer": "ipython3",
   "version": "3.7.12"
  }
 },
 "nbformat": 4,
 "nbformat_minor": 4
}
