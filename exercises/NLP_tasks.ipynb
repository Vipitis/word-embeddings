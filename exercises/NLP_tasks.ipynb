{
 "cells": [
  {
   "cell_type": "code",
   "execution_count": 1,
   "id": "41d0bcb9-6f2c-4603-a4b4-c27a9dfcdac5",
   "metadata": {},
   "outputs": [],
   "source": [
    "import nltk\n",
    "from nltk.wsd import lesk\n",
    "from nltk.tokenize import word_tokenize\n",
    "from nltk.corpus import wordnet as wn\n",
    "\n",
    "import re\n",
    "import numpy as np"
   ]
  },
  {
   "cell_type": "code",
   "execution_count": 29,
   "id": "5445a0c2-7a15-4eeb-8d52-303623800cf6",
   "metadata": {},
   "outputs": [
    {
     "name": "stderr",
     "output_type": "stream",
     "text": [
      "[nltk_data] Downloading package punkt to /Users/ruppik/nltk_data...\n",
      "[nltk_data]   Package punkt is already up-to-date!\n",
      "[nltk_data] Downloading package averaged_perceptron_tagger to\n",
      "[nltk_data]     /Users/ruppik/nltk_data...\n",
      "[nltk_data]   Package averaged_perceptron_tagger is already up-to-\n",
      "[nltk_data]       date!\n",
      "[nltk_data] Downloading package tagsets to /Users/ruppik/nltk_data...\n",
      "[nltk_data]   Unzipping help/tagsets.zip.\n"
     ]
    },
    {
     "data": {
      "text/plain": [
       "True"
      ]
     },
     "execution_count": 29,
     "metadata": {},
     "output_type": "execute_result"
    }
   ],
   "source": [
    "nltk.download('punkt')\n",
    "nltk.download('averaged_perceptron_tagger')\n",
    "nltk.download('tagsets')"
   ]
  },
  {
   "cell_type": "markdown",
   "id": "2465cb52-8401-4f91-8287-9bb5dd7240d0",
   "metadata": {},
   "source": [
    "## Bag of Words (BoW)"
   ]
  },
  {
   "cell_type": "code",
   "execution_count": 9,
   "id": "e61d0fa6-21bc-4556-a4f5-dfad25060897",
   "metadata": {},
   "outputs": [],
   "source": [
    "# https://www.geeksforgeeks.org/bag-of-words-bow-model-in-nlp/\n",
    "\n",
    "text_1 = \"One of the other reviewers has mentioned that after watching just 1 Oz episode you'll be hooked. They are right, as this is exactly what happened with me.<br /><br />The first thing that struck me about Oz was its brutality and unflinching scenes of violence, which set in right from the word GO. Trust me, this is not a show for the faint hearted or timid. This show pulls no punches with regards to drugs, sex or violence. Its is hardcore, in the classic use of the word.<br /><br />It is called OZ as that is the nickname given to the Oswald Maximum Security State Penitentary. It focuses mainly on Emerald City, an experimental section of the prison where all the cells have glass fronts and face inwards, so privacy is not high on the agenda. Em City is home to many..Aryans, Muslims, gangstas, Latinos, Christians, Italians, Irish and more....so scuffles, death stares, dodgy dealings and shady agreements are never far away.<br /><br />I would say the main appeal of the show is due to the fact that it goes where other shows wouldn't dare. Forget pretty pictures painted for mainstream audiences, forget charm, forget romance...OZ doesn't mess around. The first episode I ever saw struck me as so nasty it was surreal, I couldn't say I was ready for it, but as I watched more, I developed a taste for Oz, and got accustomed to the high levels of graphic violence. Not just violence, but injustice (crooked guards who'll be sold out for a nickel, inmates who'll kill on order and get away with it, well mannered, middle class inmates being turned into prison bitches due to their lack of street skills or prison experience) Watching Oz, you may become comfortable with what is uncomfortable viewing....thats if you can get in touch with your darker side.\"\n",
    "text_2 = \"This show was an amazing, fresh & innovative idea in the 70's when it first aired. The first 7 or 8 years were brilliant, but things dropped off after that. By 1990, the show was not really funny anymore, and it's continued its decline further to the complete waste of time it is today.<br /><br />It's truly disgraceful how far this show has fallen. The writing is painfully bad, the performances are almost as bad - if not for the mildly entertaining respite of the guest-hosts, this show probably wouldn't still be on the air. I find it so hard to believe that the same creator that hand-selected the original cast also chose the band of hacks that followed. How can one recognize such brilliance and then see fit to replace it with such mediocrity? I felt I must give 2 stars out of respect for the original cast that made this show such a huge success. As it is now, the show is just awful. I can't believe it's still on the air.\"\n",
    "\n",
    "text = text_1\n",
    "\n",
    "dataset = nltk.sent_tokenize(text)\n",
    "\n",
    "for i in range(len(dataset)):\n",
    "    dataset[i] = dataset[i].lower()\n",
    "    dataset[i] = re.sub('<[^<]+?>', '', dataset[i])\n",
    "    dataset[i] = re.sub(r'\\W', ' ', dataset[i])\n",
    "    dataset[i] = re.sub(r'\\s+', ' ', dataset[i])"
   ]
  },
  {
   "cell_type": "code",
   "execution_count": 10,
   "id": "d9084cfe-7234-4c6c-830b-5e98774856b5",
   "metadata": {},
   "outputs": [
    {
     "data": {
      "text/plain": [
       "['one of the other reviewers has mentioned that after watching just 1 oz episode you ll be hooked ',\n",
       " 'they are right as this is exactly what happened with me the first thing that struck me about oz was its brutality and unflinching scenes of violence which set in right from the word go ',\n",
       " 'trust me this is not a show for the faint hearted or timid ',\n",
       " 'this show pulls no punches with regards to drugs sex or violence ',\n",
       " 'its is hardcore in the classic use of the word it is called oz as that is the nickname given to the oswald maximum security state penitentary ',\n",
       " 'it focuses mainly on emerald city an experimental section of the prison where all the cells have glass fronts and face inwards so privacy is not high on the agenda ',\n",
       " 'em city is home to many aryans muslims gangstas latinos christians italians irish and more so scuffles death stares dodgy dealings and shady agreements are never far away i would say the main appeal of the show is due to the fact that it goes where other shows wouldn t dare ',\n",
       " 'forget pretty pictures painted for mainstream audiences forget charm forget romance oz doesn t mess around ',\n",
       " 'the first episode i ever saw struck me as so nasty it was surreal i couldn t say i was ready for it but as i watched more i developed a taste for oz and got accustomed to the high levels of graphic violence ',\n",
       " 'not just violence but injustice crooked guards who ll be sold out for a nickel inmates who ll kill on order and get away with it well mannered middle class inmates being turned into prison bitches due to their lack of street skills or prison experience watching oz you may become comfortable with what is uncomfortable viewing thats if you can get in touch with your darker side ']"
      ]
     },
     "execution_count": 10,
     "metadata": {},
     "output_type": "execute_result"
    }
   ],
   "source": [
    "dataset"
   ]
  },
  {
   "cell_type": "code",
   "execution_count": 11,
   "id": "e2a399e5-546b-4ba5-a14d-a6c97475ad24",
   "metadata": {},
   "outputs": [],
   "source": [
    "# Creating the Bag of Words model\n",
    "word2count = {}\n",
    "for data in dataset:\n",
    "    words = nltk.word_tokenize(data)\n",
    "    for word in words:\n",
    "        if word not in word2count.keys():\n",
    "            word2count[word] = 1\n",
    "        else:\n",
    "            word2count[word] += 1"
   ]
  },
  {
   "cell_type": "code",
   "execution_count": 12,
   "id": "7cf65bbf-2bb3-4616-97a1-dc54c1d7871f",
   "metadata": {
    "scrolled": true,
    "tags": []
   },
   "outputs": [
    {
     "data": {
      "text/plain": [
       "{'one': 1,\n",
       " 'of': 7,\n",
       " 'the': 16,\n",
       " 'other': 2,\n",
       " 'reviewers': 1,\n",
       " 'has': 1,\n",
       " 'mentioned': 1,\n",
       " 'that': 4,\n",
       " 'after': 1,\n",
       " 'watching': 2,\n",
       " 'just': 2,\n",
       " '1': 1,\n",
       " 'oz': 6,\n",
       " 'episode': 2,\n",
       " 'you': 3,\n",
       " 'll': 3,\n",
       " 'be': 2,\n",
       " 'hooked': 1,\n",
       " 'they': 1,\n",
       " 'are': 2,\n",
       " 'right': 2,\n",
       " 'as': 4,\n",
       " 'this': 3,\n",
       " 'is': 9,\n",
       " 'exactly': 1,\n",
       " 'what': 2,\n",
       " 'happened': 1,\n",
       " 'with': 5,\n",
       " 'me': 4,\n",
       " 'first': 2,\n",
       " 'thing': 1,\n",
       " 'struck': 2,\n",
       " 'about': 1,\n",
       " 'was': 3,\n",
       " 'its': 2,\n",
       " 'brutality': 1,\n",
       " 'and': 6,\n",
       " 'unflinching': 1,\n",
       " 'scenes': 1,\n",
       " 'violence': 4,\n",
       " 'which': 1,\n",
       " 'set': 1,\n",
       " 'in': 3,\n",
       " 'from': 1,\n",
       " 'word': 2,\n",
       " 'go': 1,\n",
       " 'trust': 1,\n",
       " 'not': 3,\n",
       " 'a': 3,\n",
       " 'show': 3,\n",
       " 'for': 5,\n",
       " 'faint': 1,\n",
       " 'hearted': 1,\n",
       " 'or': 3,\n",
       " 'timid': 1,\n",
       " 'pulls': 1,\n",
       " 'no': 1,\n",
       " 'punches': 1,\n",
       " 'regards': 1,\n",
       " 'to': 6,\n",
       " 'drugs': 1,\n",
       " 'sex': 1,\n",
       " 'hardcore': 1,\n",
       " 'classic': 1,\n",
       " 'use': 1,\n",
       " 'it': 6,\n",
       " 'called': 1,\n",
       " 'nickname': 1,\n",
       " 'given': 1,\n",
       " 'oswald': 1,\n",
       " 'maximum': 1,\n",
       " 'security': 1,\n",
       " 'state': 1,\n",
       " 'penitentary': 1,\n",
       " 'focuses': 1,\n",
       " 'mainly': 1,\n",
       " 'on': 3,\n",
       " 'emerald': 1,\n",
       " 'city': 2,\n",
       " 'an': 1,\n",
       " 'experimental': 1,\n",
       " 'section': 1,\n",
       " 'prison': 3,\n",
       " 'where': 2,\n",
       " 'all': 1,\n",
       " 'cells': 1,\n",
       " 'have': 1,\n",
       " 'glass': 1,\n",
       " 'fronts': 1,\n",
       " 'face': 1,\n",
       " 'inwards': 1,\n",
       " 'so': 3,\n",
       " 'privacy': 1,\n",
       " 'high': 2,\n",
       " 'agenda': 1,\n",
       " 'em': 1,\n",
       " 'home': 1,\n",
       " 'many': 1,\n",
       " 'aryans': 1,\n",
       " 'muslims': 1,\n",
       " 'gangstas': 1,\n",
       " 'latinos': 1,\n",
       " 'christians': 1,\n",
       " 'italians': 1,\n",
       " 'irish': 1,\n",
       " 'more': 2,\n",
       " 'scuffles': 1,\n",
       " 'death': 1,\n",
       " 'stares': 1,\n",
       " 'dodgy': 1,\n",
       " 'dealings': 1,\n",
       " 'shady': 1,\n",
       " 'agreements': 1,\n",
       " 'never': 1,\n",
       " 'far': 1,\n",
       " 'away': 2,\n",
       " 'i': 6,\n",
       " 'would': 1,\n",
       " 'say': 2,\n",
       " 'main': 1,\n",
       " 'appeal': 1,\n",
       " 'due': 2,\n",
       " 'fact': 1,\n",
       " 'goes': 1,\n",
       " 'shows': 1,\n",
       " 'wouldn': 1,\n",
       " 't': 3,\n",
       " 'dare': 1,\n",
       " 'forget': 3,\n",
       " 'pretty': 1,\n",
       " 'pictures': 1,\n",
       " 'painted': 1,\n",
       " 'mainstream': 1,\n",
       " 'audiences': 1,\n",
       " 'charm': 1,\n",
       " 'romance': 1,\n",
       " 'doesn': 1,\n",
       " 'mess': 1,\n",
       " 'around': 1,\n",
       " 'ever': 1,\n",
       " 'saw': 1,\n",
       " 'nasty': 1,\n",
       " 'surreal': 1,\n",
       " 'couldn': 1,\n",
       " 'ready': 1,\n",
       " 'but': 2,\n",
       " 'watched': 1,\n",
       " 'developed': 1,\n",
       " 'taste': 1,\n",
       " 'got': 1,\n",
       " 'accustomed': 1,\n",
       " 'levels': 1,\n",
       " 'graphic': 1,\n",
       " 'injustice': 1,\n",
       " 'crooked': 1,\n",
       " 'guards': 1,\n",
       " 'who': 2,\n",
       " 'sold': 1,\n",
       " 'out': 1,\n",
       " 'nickel': 1,\n",
       " 'inmates': 2,\n",
       " 'kill': 1,\n",
       " 'order': 1,\n",
       " 'get': 2,\n",
       " 'well': 1,\n",
       " 'mannered': 1,\n",
       " 'middle': 1,\n",
       " 'class': 1,\n",
       " 'being': 1,\n",
       " 'turned': 1,\n",
       " 'into': 1,\n",
       " 'bitches': 1,\n",
       " 'their': 1,\n",
       " 'lack': 1,\n",
       " 'street': 1,\n",
       " 'skills': 1,\n",
       " 'experience': 1,\n",
       " 'may': 1,\n",
       " 'become': 1,\n",
       " 'comfortable': 1,\n",
       " 'uncomfortable': 1,\n",
       " 'viewing': 1,\n",
       " 'thats': 1,\n",
       " 'if': 1,\n",
       " 'can': 1,\n",
       " 'touch': 1,\n",
       " 'your': 1,\n",
       " 'darker': 1,\n",
       " 'side': 1}"
      ]
     },
     "execution_count": 12,
     "metadata": {},
     "output_type": "execute_result"
    }
   ],
   "source": [
    "word2count"
   ]
  },
  {
   "cell_type": "code",
   "execution_count": 7,
   "id": "c40714b8-f9e3-4e44-814d-172a47ef445b",
   "metadata": {},
   "outputs": [],
   "source": [
    "import heapq\n",
    "freq_words = heapq.nlargest(100, word2count, key=word2count.get)"
   ]
  },
  {
   "cell_type": "code",
   "execution_count": 8,
   "id": "a8c42f63-3034-4e04-ab12-57de241f7bd4",
   "metadata": {
    "scrolled": true,
    "tags": []
   },
   "outputs": [
    {
     "data": {
      "text/plain": [
       "['the',\n",
       " 'is',\n",
       " 'of',\n",
       " 'oz',\n",
       " 'br',\n",
       " 'and',\n",
       " 'to',\n",
       " 'it',\n",
       " 'i',\n",
       " 'with',\n",
       " 'for',\n",
       " 'that',\n",
       " 'as',\n",
       " 'me',\n",
       " 'violence',\n",
       " 'you',\n",
       " 'll',\n",
       " 'this',\n",
       " 'was',\n",
       " 'in',\n",
       " 'not',\n",
       " 'a',\n",
       " 'show',\n",
       " 'or',\n",
       " 'on',\n",
       " 'prison',\n",
       " 'so',\n",
       " 't',\n",
       " 'forget',\n",
       " 'other',\n",
       " 'watching',\n",
       " 'just',\n",
       " 'episode',\n",
       " 'be',\n",
       " 'are',\n",
       " 'right',\n",
       " 'what',\n",
       " 'first',\n",
       " 'struck',\n",
       " 'its',\n",
       " 'word',\n",
       " 'city',\n",
       " 'where',\n",
       " 'high',\n",
       " 'more',\n",
       " 'away',\n",
       " 'say',\n",
       " 'due',\n",
       " 'but',\n",
       " 'who',\n",
       " 'inmates',\n",
       " 'get',\n",
       " 'one',\n",
       " 'reviewers',\n",
       " 'has',\n",
       " 'mentioned',\n",
       " 'after',\n",
       " '1',\n",
       " 'hooked',\n",
       " 'they',\n",
       " 'exactly',\n",
       " 'happened',\n",
       " 'thing',\n",
       " 'about',\n",
       " 'brutality',\n",
       " 'unflinching',\n",
       " 'scenes',\n",
       " 'which',\n",
       " 'set',\n",
       " 'from',\n",
       " 'go',\n",
       " 'trust',\n",
       " 'faint',\n",
       " 'hearted',\n",
       " 'timid',\n",
       " 'pulls',\n",
       " 'no',\n",
       " 'punches',\n",
       " 'regards',\n",
       " 'drugs',\n",
       " 'sex',\n",
       " 'hardcore',\n",
       " 'classic',\n",
       " 'use',\n",
       " 'called',\n",
       " 'nickname',\n",
       " 'given',\n",
       " 'oswald',\n",
       " 'maximum',\n",
       " 'security',\n",
       " 'state',\n",
       " 'penitentary',\n",
       " 'focuses',\n",
       " 'mainly',\n",
       " 'emerald',\n",
       " 'an',\n",
       " 'experimental',\n",
       " 'section',\n",
       " 'all',\n",
       " 'cells']"
      ]
     },
     "execution_count": 8,
     "metadata": {},
     "output_type": "execute_result"
    }
   ],
   "source": [
    "freq_words"
   ]
  },
  {
   "cell_type": "code",
   "execution_count": null,
   "id": "1875cc85-914b-4968-9d03-fcdd904f95de",
   "metadata": {},
   "outputs": [],
   "source": []
  },
  {
   "cell_type": "markdown",
   "id": "17a57093-a47f-44d8-9569-2669c1d65bd9",
   "metadata": {},
   "source": [
    "## Word-sense disambiguation (WSD)"
   ]
  },
  {
   "cell_type": "code",
   "execution_count": 10,
   "id": "bff65866-727d-4433-b5aa-9b06316dea73",
   "metadata": {},
   "outputs": [
    {
     "name": "stdout",
     "output_type": "stream",
     "text": [
      "Synset('bank.n.01') sloping land (especially the slope beside a body of water)\n",
      "Synset('depository_financial_institution.n.01') a financial institution that accepts deposits and channels the money into lending activities\n",
      "Synset('bank.n.03') a long ridge or pile\n",
      "Synset('bank.n.04') an arrangement of similar objects in a row or in tiers\n",
      "Synset('bank.n.05') a supply or stock held in reserve for future use (especially in emergencies)\n",
      "Synset('bank.n.06') the funds held by a gambling house or the dealer in some gambling games\n",
      "Synset('bank.n.07') a slope in the turn of a road or track; the outside is higher than the inside in order to reduce the effects of centrifugal force\n",
      "Synset('savings_bank.n.02') a container (usually with a slot in the top) for keeping money at home\n",
      "Synset('bank.n.09') a building in which the business of banking transacted\n",
      "Synset('bank.n.10') a flight maneuver; aircraft tips laterally about its longitudinal axis (especially in turning)\n",
      "Synset('bank.v.01') tip laterally\n",
      "Synset('bank.v.02') enclose with a bank\n",
      "Synset('bank.v.03') do business with a bank or keep an account at a bank\n",
      "Synset('bank.v.04') act as the banker in a game or in gambling\n",
      "Synset('bank.v.05') be in the banking business\n",
      "Synset('deposit.v.02') put into a bank account\n",
      "Synset('bank.v.07') cover with ashes so to control the rate of burning\n",
      "Synset('trust.v.01') have confidence or faith in\n"
     ]
    }
   ],
   "source": [
    "for synset in wn.synsets('bank'):\n",
    "     print(synset, synset.definition())"
   ]
  },
  {
   "cell_type": "code",
   "execution_count": 20,
   "id": "bf4bce13-4d7d-4182-a916-49e8499d733d",
   "metadata": {},
   "outputs": [
    {
     "name": "stdout",
     "output_type": "stream",
     "text": [
      "Synset('jam.n.01') preserve of crushed fruit\n",
      "Synset('fix.n.01') informal terms for a difficult situation\n",
      "Synset('crush.n.02') a dense crowd of people\n",
      "Synset('jamming.n.01') deliberate radiation or reflection of electromagnetic energy for the purpose of disrupting enemy use of electronic devices or systems\n",
      "Synset('throng.v.01') press tightly together or cram\n",
      "Synset('jam.v.02') push down forcibly\n",
      "Synset('jam.v.03') crush or bruise\n",
      "Synset('jam.v.04') interfere with or prevent the reception of signals\n",
      "Synset('jam.v.05') get stuck and immobilized\n",
      "Synset('jam.v.06') crowd or pack to capacity\n",
      "Synset('obstruct.v.02') block passage through\n"
     ]
    }
   ],
   "source": [
    "for synset in wn.synsets('jam'):\n",
    "     print(synset, synset.definition())"
   ]
  },
  {
   "cell_type": "code",
   "execution_count": 21,
   "id": "8c91d1f7-586e-4dfd-9052-170c7c2eb874",
   "metadata": {},
   "outputs": [
    {
     "name": "stdout",
     "output_type": "stream",
     "text": [
      "Synset('jamming.n.01') deliberate radiation or reflection of electromagnetic energy for the purpose of disrupting enemy use of electronic devices or systems\n"
     ]
    }
   ],
   "source": [
    "a1 = lesk(word_tokenize('This device is used to jam the signal'),'jam')\n",
    "print(a1, a1.definition())"
   ]
  },
  {
   "cell_type": "code",
   "execution_count": 22,
   "id": "4a904526-1d6b-4a0a-9839-60dbe61d0d30",
   "metadata": {},
   "outputs": [
    {
     "name": "stdout",
     "output_type": "stream",
     "text": [
      "Synset('jam.v.05') get stuck and immobilized\n"
     ]
    }
   ],
   "source": [
    "a2 = lesk(word_tokenize('I am stuck in a traffic jam'),'jam')\n",
    "print(a2, a2.definition())"
   ]
  },
  {
   "cell_type": "code",
   "execution_count": 23,
   "id": "17f90c85-bbfd-49d2-a92f-0be2b663e705",
   "metadata": {},
   "outputs": [
    {
     "name": "stdout",
     "output_type": "stream",
     "text": [
      "Synset('jam.n.01') preserve of crushed fruit\n"
     ]
    }
   ],
   "source": [
    "a3 = lesk(word_tokenize('Pete likes fruit jam on a toast'),'jam')\n",
    "print(a3, a3.definition())"
   ]
  },
  {
   "cell_type": "markdown",
   "id": "ce38ef3c-e9c0-4da1-8f42-f39f6c703eda",
   "metadata": {},
   "source": [
    "## Part of Speech tagging"
   ]
  },
  {
   "cell_type": "code",
   "execution_count": 35,
   "id": "f9a5210b-12d3-4762-ab11-897ccb63a934",
   "metadata": {},
   "outputs": [
    {
     "data": {
      "text/plain": [
       "[('They', 'PRP'),\n",
       " ('refuse', 'VBP'),\n",
       " ('to', 'TO'),\n",
       " ('permit', 'VB'),\n",
       " ('us', 'PRP'),\n",
       " ('to', 'TO'),\n",
       " ('obtain', 'VB'),\n",
       " ('the', 'DT'),\n",
       " ('refuse', 'NN'),\n",
       " ('permit', 'NN')]"
      ]
     },
     "execution_count": 35,
     "metadata": {},
     "output_type": "execute_result"
    }
   ],
   "source": [
    "text = word_tokenize(\"They refuse to permit us to obtain the refuse permit\")\n",
    "nltk.pos_tag(text)"
   ]
  },
  {
   "cell_type": "code",
   "execution_count": 36,
   "id": "8ddd9c90-9547-4956-9dc2-01c36da4c80f",
   "metadata": {},
   "outputs": [
    {
     "name": "stdout",
     "output_type": "stream",
     "text": [
      "VB: verb, base form\n",
      "    ask assemble assess assign assume atone attention avoid bake balkanize\n",
      "    bank begin behold believe bend benefit bevel beware bless boil bomb\n",
      "    boost brace break bring broil brush build ...\n"
     ]
    }
   ],
   "source": [
    "nltk.help.upenn_tagset('VB')"
   ]
  },
  {
   "cell_type": "code",
   "execution_count": 37,
   "id": "d489f62f-706b-441f-b94f-e2a0bcd3969b",
   "metadata": {},
   "outputs": [
    {
     "name": "stdout",
     "output_type": "stream",
     "text": [
      "NN: noun, common, singular or mass\n",
      "    common-carrier cabbage knuckle-duster Casino afghan shed thermostat\n",
      "    investment slide humour falloff slick wind hyena override subhumanity\n",
      "    machinist ...\n"
     ]
    }
   ],
   "source": [
    "nltk.help.upenn_tagset('NN')"
   ]
  },
  {
   "cell_type": "code",
   "execution_count": 38,
   "id": "1c7fe866-a541-4b56-8e88-6498466bfad2",
   "metadata": {},
   "outputs": [
    {
     "data": {
      "text/plain": [
       "[('The', 'DT'),\n",
       " ('sailor', 'NN'),\n",
       " ('dogs', 'VBZ'),\n",
       " ('the', 'DT'),\n",
       " ('hatch', 'NN')]"
      ]
     },
     "execution_count": 38,
     "metadata": {},
     "output_type": "execute_result"
    }
   ],
   "source": [
    "text = word_tokenize(\"The sailor dogs the hatch\")\n",
    "nltk.pos_tag(text)"
   ]
  },
  {
   "cell_type": "code",
   "execution_count": 43,
   "id": "80caecbd-1620-43f8-971a-04ff42c7e296",
   "metadata": {},
   "outputs": [
    {
     "name": "stdout",
     "output_type": "stream",
     "text": [
      "VBZ: verb, present tense, 3rd person singular\n",
      "    bases reconstructs marks mixes displeases seals carps weaves snatches\n",
      "    slumps stretches authorizes smolders pictures emerges stockpiles\n",
      "    seduces fizzes uses bolsters slaps speaks pleads ...\n"
     ]
    }
   ],
   "source": [
    "nltk.help.upenn_tagset('VBZ')"
   ]
  },
  {
   "cell_type": "code",
   "execution_count": null,
   "id": "f55f9ec1-51e0-4baa-8a01-6695393068bd",
   "metadata": {},
   "outputs": [],
   "source": []
  },
  {
   "cell_type": "code",
   "execution_count": 41,
   "id": "c48f50f9-cb07-4475-b21c-99a17c54af56",
   "metadata": {},
   "outputs": [
    {
     "data": {
      "text/plain": [
       "[('can', 'MD'), ('of', 'IN'), ('fish', 'NN')]"
      ]
     },
     "execution_count": 41,
     "metadata": {},
     "output_type": "execute_result"
    }
   ],
   "source": [
    "# Example\n",
    "text = word_tokenize(\"can of fish\")\n",
    "nltk.pos_tag(text)"
   ]
  },
  {
   "cell_type": "code",
   "execution_count": 45,
   "id": "14068618-8d3b-4e42-bd8f-3f21a3631f15",
   "metadata": {},
   "outputs": [
    {
     "name": "stdout",
     "output_type": "stream",
     "text": [
      "MD: modal auxiliary\n",
      "    can cannot could couldn't dare may might must need ought shall should\n",
      "    shouldn't will would\n"
     ]
    }
   ],
   "source": [
    "nltk.help.upenn_tagset('MD')"
   ]
  },
  {
   "cell_type": "code",
   "execution_count": 46,
   "id": "bf860544-112e-438f-baf2-4cfeaa567fe4",
   "metadata": {},
   "outputs": [
    {
     "data": {
      "text/plain": [
       "[('we', 'PRP'), ('can', 'MD'), ('fish', 'VB')]"
      ]
     },
     "execution_count": 46,
     "metadata": {},
     "output_type": "execute_result"
    }
   ],
   "source": [
    "text = word_tokenize(\"we can fish\")\n",
    "nltk.pos_tag(text)"
   ]
  },
  {
   "cell_type": "code",
   "execution_count": null,
   "id": "ad048054-2a64-45ca-b2c1-203dbdab2261",
   "metadata": {},
   "outputs": [],
   "source": []
  }
 ],
 "metadata": {
  "kernelspec": {
   "display_name": "Python 3 (ipykernel)",
   "language": "python",
   "name": "python3"
  },
  "language_info": {
   "codemirror_mode": {
    "name": "ipython",
    "version": 3
   },
   "file_extension": ".py",
   "mimetype": "text/x-python",
   "name": "python",
   "nbconvert_exporter": "python",
   "pygments_lexer": "ipython3",
   "version": "3.7.12"
  }
 },
 "nbformat": 4,
 "nbformat_minor": 5
}
