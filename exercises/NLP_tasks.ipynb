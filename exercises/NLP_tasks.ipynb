{
 "cells": [
  {
   "cell_type": "code",
   "execution_count": 8,
   "id": "41d0bcb9-6f2c-4603-a4b4-c27a9dfcdac5",
   "metadata": {},
   "outputs": [],
   "source": [
    "import nltk\n",
    "\n",
    "from nltk.wsd import lesk\n",
    "from nltk.tokenize import word_tokenize\n",
    "\n",
    "from nltk.corpus import wordnet as wn"
   ]
  },
  {
   "cell_type": "code",
   "execution_count": 9,
   "id": "5445a0c2-7a15-4eeb-8d52-303623800cf6",
   "metadata": {},
   "outputs": [
    {
     "name": "stderr",
     "output_type": "stream",
     "text": [
      "[nltk_data] Downloading package punkt to /Users/ruppik/nltk_data...\n",
      "[nltk_data]   Unzipping tokenizers/punkt.zip.\n"
     ]
    },
    {
     "data": {
      "text/plain": [
       "True"
      ]
     },
     "execution_count": 9,
     "metadata": {},
     "output_type": "execute_result"
    }
   ],
   "source": [
    "nltk.download('punkt')"
   ]
  },
  {
   "cell_type": "code",
   "execution_count": 10,
   "id": "bff65866-727d-4433-b5aa-9b06316dea73",
   "metadata": {},
   "outputs": [
    {
     "name": "stdout",
     "output_type": "stream",
     "text": [
      "Synset('bank.n.01') sloping land (especially the slope beside a body of water)\n",
      "Synset('depository_financial_institution.n.01') a financial institution that accepts deposits and channels the money into lending activities\n",
      "Synset('bank.n.03') a long ridge or pile\n",
      "Synset('bank.n.04') an arrangement of similar objects in a row or in tiers\n",
      "Synset('bank.n.05') a supply or stock held in reserve for future use (especially in emergencies)\n",
      "Synset('bank.n.06') the funds held by a gambling house or the dealer in some gambling games\n",
      "Synset('bank.n.07') a slope in the turn of a road or track; the outside is higher than the inside in order to reduce the effects of centrifugal force\n",
      "Synset('savings_bank.n.02') a container (usually with a slot in the top) for keeping money at home\n",
      "Synset('bank.n.09') a building in which the business of banking transacted\n",
      "Synset('bank.n.10') a flight maneuver; aircraft tips laterally about its longitudinal axis (especially in turning)\n",
      "Synset('bank.v.01') tip laterally\n",
      "Synset('bank.v.02') enclose with a bank\n",
      "Synset('bank.v.03') do business with a bank or keep an account at a bank\n",
      "Synset('bank.v.04') act as the banker in a game or in gambling\n",
      "Synset('bank.v.05') be in the banking business\n",
      "Synset('deposit.v.02') put into a bank account\n",
      "Synset('bank.v.07') cover with ashes so to control the rate of burning\n",
      "Synset('trust.v.01') have confidence or faith in\n"
     ]
    }
   ],
   "source": [
    "for synset in wn.synsets('bank'):\n",
    "     print(synset, synset.definition())"
   ]
  },
  {
   "cell_type": "code",
   "execution_count": 4,
   "id": "bf4bce13-4d7d-4182-a916-49e8499d733d",
   "metadata": {},
   "outputs": [
    {
     "name": "stdout",
     "output_type": "stream",
     "text": [
      "Synset('jam.n.01') preserve of crushed fruit\n",
      "Synset('fix.n.01') informal terms for a difficult situation\n",
      "Synset('crush.n.02') a dense crowd of people\n",
      "Synset('jamming.n.01') deliberate radiation or reflection of electromagnetic energy for the purpose of disrupting enemy use of electronic devices or systems\n",
      "Synset('throng.v.01') press tightly together or cram\n",
      "Synset('jam.v.02') push down forcibly\n",
      "Synset('jam.v.03') crush or bruise\n",
      "Synset('jam.v.04') interfere with or prevent the reception of signals\n",
      "Synset('jam.v.05') get stuck and immobilized\n",
      "Synset('jam.v.06') crowd or pack to capacity\n",
      "Synset('obstruct.v.02') block passage through\n"
     ]
    }
   ],
   "source": [
    "for synset in wn.synsets('jam'):\n",
    "     print(synset, synset.definition())"
   ]
  },
  {
   "cell_type": "code",
   "execution_count": 19,
   "id": "8c91d1f7-586e-4dfd-9052-170c7c2eb874",
   "metadata": {},
   "outputs": [
    {
     "name": "stdout",
     "output_type": "stream",
     "text": [
      "Synset('jamming.n.01') deliberate radiation or reflection of electromagnetic energy for the purpose of disrupting enemy use of electronic devices or systems\n",
      "Synset('jam.v.05') get stuck and immobilized\n",
      "Synset('jam.n.01') preserve of crushed fruit\n"
     ]
    }
   ],
   "source": [
    "a1 = lesk(word_tokenize('This device is used to jam the signal'),'jam')\n",
    "print(a1, a1.definition())\n",
    "\n",
    "a2 = lesk(word_tokenize('I am stuck in a traffic jam'),'jam')\n",
    "print(a2, a2.definition())\n",
    "\n",
    "a3 = lesk(word_tokenize('Pete likes fruit jam on a toast'),'jam')\n",
    "print(a3, a3.definition())"
   ]
  },
  {
   "cell_type": "code",
   "execution_count": null,
   "id": "4a904526-1d6b-4a0a-9839-60dbe61d0d30",
   "metadata": {},
   "outputs": [],
   "source": []
  }
 ],
 "metadata": {
  "kernelspec": {
   "display_name": "Python 3 (ipykernel)",
   "language": "python",
   "name": "python3"
  },
  "language_info": {
   "codemirror_mode": {
    "name": "ipython",
    "version": 3
   },
   "file_extension": ".py",
   "mimetype": "text/x-python",
   "name": "python",
   "nbconvert_exporter": "python",
   "pygments_lexer": "ipython3",
   "version": "3.7.12"
  }
 },
 "nbformat": 4,
 "nbformat_minor": 5
}
